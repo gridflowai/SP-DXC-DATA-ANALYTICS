{
 "cells": [
  {
   "cell_type": "markdown",
   "id": "34f040ea-0d69-451a-8cd4-e69fb93ed8cc",
   "metadata": {},
   "source": [
    "--------------------\n",
    "#### Movie Sentiment Analysis \n",
    "\n",
    "- IMDB dataset\n",
    "- TF-IDF vectors\n",
    "- Multinomial Naive Bayes \n",
    "- Evaluate\n",
    "----------------------"
   ]
  },
  {
   "cell_type": "markdown",
   "id": "d232fb6b-f61a-4d04-b0da-3ec3d57098a0",
   "metadata": {},
   "source": [
    "#### dataset \n",
    "\n",
    "can be downloaded from this Kaggle link.https://www.kaggle.com/lakshmi25npathi/imdb-dataset-of-50k-movie-reviews\n",
    "\n",
    "The file contains 50,000 records and two columns: review and sentiment. \n",
    "\n",
    "The review column contains text for the review and the sentiment column contains sentiment for the review. \n",
    "\n",
    "The sentiment column can have two values i.e. \"positive\" and \"negative\" which makes our problem a binary classification problem."
   ]
  },
  {
   "cell_type": "code",
   "execution_count": 40,
   "id": "85ec5b1b-7618-42a3-80d6-99567d5d6d78",
   "metadata": {
    "tags": []
   },
   "outputs": [],
   "source": [
    "import pandas as pd\n",
    "import numpy as np"
   ]
  },
  {
   "cell_type": "markdown",
   "id": "a92800be-d82b-4726-a9f4-d73e13afdaf0",
   "metadata": {},
   "source": [
    "#### Importing and Analyzing the Dataset"
   ]
  },
  {
   "cell_type": "code",
   "execution_count": 41,
   "id": "377bc9fa-21ff-45c3-9348-9cc8e6f5b0fd",
   "metadata": {
    "tags": []
   },
   "outputs": [],
   "source": [
    "location = r'D:\\AI-DATASETS\\02-MISC-large\\keras\\datasets\\IMDB-cleaned-text.csv'"
   ]
  },
  {
   "cell_type": "code",
   "execution_count": 42,
   "id": "7e123ab7-9403-443a-8e14-29b3150872c7",
   "metadata": {
    "tags": []
   },
   "outputs": [],
   "source": [
    "movie_reviews = pd.read_csv(location)"
   ]
  },
  {
   "cell_type": "code",
   "execution_count": 43,
   "id": "25d54f00-de60-4f1b-bee5-0b7d913c0a42",
   "metadata": {
    "tags": []
   },
   "outputs": [
    {
     "data": {
      "text/plain": [
       "False"
      ]
     },
     "execution_count": 43,
     "metadata": {},
     "output_type": "execute_result"
    }
   ],
   "source": [
    "movie_reviews.isnull().values.any()"
   ]
  },
  {
   "cell_type": "code",
   "execution_count": 44,
   "id": "491bf59a-9a39-4792-8bdf-9f65f9c2506e",
   "metadata": {
    "tags": []
   },
   "outputs": [
    {
     "data": {
      "text/plain": [
       "(50000, 6)"
      ]
     },
     "execution_count": 44,
     "metadata": {},
     "output_type": "execute_result"
    }
   ],
   "source": [
    "movie_reviews.shape"
   ]
  },
  {
   "cell_type": "code",
   "execution_count": 45,
   "id": "c5d80e8d-a3a9-480a-ad43-28a352fdf3a7",
   "metadata": {
    "tags": []
   },
   "outputs": [],
   "source": [
    "pd.set_option('max_colwidth', None)"
   ]
  },
  {
   "cell_type": "code",
   "execution_count": 46,
   "id": "a1636c28-4c0b-4338-b287-476506363a3a",
   "metadata": {
    "tags": []
   },
   "outputs": [
    {
     "data": {
      "text/html": [
       "<div>\n",
       "<style scoped>\n",
       "    .dataframe tbody tr th:only-of-type {\n",
       "        vertical-align: middle;\n",
       "    }\n",
       "\n",
       "    .dataframe tbody tr th {\n",
       "        vertical-align: top;\n",
       "    }\n",
       "\n",
       "    .dataframe thead th {\n",
       "        text-align: right;\n",
       "    }\n",
       "</style>\n",
       "<table border=\"1\" class=\"dataframe\">\n",
       "  <thead>\n",
       "    <tr style=\"text-align: right;\">\n",
       "      <th></th>\n",
       "      <th>Unnamed: 0</th>\n",
       "      <th>review</th>\n",
       "      <th>sentiment</th>\n",
       "      <th>contractions</th>\n",
       "      <th>ExpandedText</th>\n",
       "      <th>CleanedText</th>\n",
       "    </tr>\n",
       "  </thead>\n",
       "  <tbody>\n",
       "    <tr>\n",
       "      <th>6043</th>\n",
       "      <td>6043</td>\n",
       "      <td>I have seen this movie, just once, and I'm looking forward to see it again and again. Dear David (from Beligium), why did you bother to write a comment on this movie? I only think we can think about you (after reading you comment), is that you're provably a non-sexual person (like Erika in the movie), and you are not ready for the new cinema that is coming up. I guess you are a bit old, and sexual expression is not part of your \"visage\". The Cannes Film Festival is by far the best movie festival, and I'm is my pleasure to say, that this film was awarded with: Best Actress, Best Actor and Grand Prix. Isabelle Huppert is magnificent, as always, who would do this movie like her? One of her best performances ever. The music is fantastic, and once more Michael Haneke puts reality in the big screen. It's like a Dogma95 kind of movie, because of the topic. Try to see it.&lt;br /&gt;&lt;br /&gt;</td>\n",
       "      <td>positive</td>\n",
       "      <td>[]</td>\n",
       "      <td>I have seen this movie, just once, and I am looking forward to see it again and again. Dear David (from Beligium), why did you bother to write a comment on this movie? I only think we can think about you (after reading you comment), is that you are provably a non-sexual person (like Erika in the movie), and you are not ready for the new cinema that is coming up. I guess you are a bit old, and sexual expression is not part of your \"visage\". The Cannes Film Festival is by far the best movie festival, and I am is my pleasure to say, that this film was awarded with: Best Actress, Best Actor and Grand Prix. Isabelle Huppert is magnificent, as always, who would do this movie like her? One of her best performances ever. The music is fantastic, and once more Michael Haneke puts reality in the big screen. It is like a Dogma95 kind of movie, because of the topic. Try to see it.&lt;br /&gt;&lt;br /&gt;</td>\n",
       "      <td>I have seen this movie just once and am looking forward to see it again and again Dear David from Beligium why did you bother to write comment on this movie only think we can think about you after reading you comment is that you are provably non sexual person like Erika in the movie and you are not ready for the new cinema that is coming up guess you are bit old and sexual expression is not part of your visage The Cannes Film Festival is by far the best movie festival and am is my pleasure to say that this film was awarded with Best Actress Best Actor and Grand Prix Isabelle Huppert is magnificent as always who would do this movie like her One of her best performances ever The music is fantastic and once more Michael Haneke puts reality in the big screen It is like Dogma kind of movie because of the topic Try to see it</td>\n",
       "    </tr>\n",
       "    <tr>\n",
       "      <th>1696</th>\n",
       "      <td>1696</td>\n",
       "      <td>Saw the move while in Paris in May 2006 ... I was debating between that and mission impossible...I am very glad I choose OSS 117 not only because it was funny but might as well watch a FRench movie while in France. I had a great time... would recommend it. It is important to have some understanding the French society of Today to really enjoy the humor of this movie ... cannot wait for the DVD to come out... I don't know how some of the 'jeu De mots' 'puns' would be translated in English I 'll certainly buy it when it is out! P.S. I saw on 'BRice de Nice' which is a movie starring Dujardin that all kids were talking about in France. this movie is a comedy but sillier than one can imagine...in comparing both movies I have to say that Dujardin did a good job in OSS 117.</td>\n",
       "      <td>positive</td>\n",
       "      <td>[]</td>\n",
       "      <td>Saw the move while in Paris in May 2006 ... I was debating between that and mission impossible...I am very glad I choose OSS 117 not only because it was funny but might as well watch a FRench movie while in France. I had a great time... would recommend it. It is important to have some understanding the French society of Today to really enjoy the humor of this movie ... cannot wait for the DVD to come out... I do not know how some of the 'jeu De mots' 'puns' would be translated in English I  will certainly buy it when it is out! P.S. I saw on 'BRice de Nice' which is a movie starring Dujardin that all kids were talking about in France. this movie is a comedy but sillier than one can imagine...in comparing both movies I have to say that Dujardin did a good job in OSS 117.</td>\n",
       "      <td>Saw the move while in Paris in May was debating between that and mission impossible am very glad choose OSS not only because it was funny but might as well watch FRench movie while in France had great time would recommend it It is important to have some understanding the French society of Today to really enjoy the humor of this movie cannot wait for the DVD to come out do not know how some of the jeu De mots puns would be translated in English will certainly buy it when it is out S saw on BRice de Nice which is movie starring Dujardin that all kids were talking about in France this movie is comedy but sillier than one can imagine in comparing both movies have to say that Dujardin did good job in OSS</td>\n",
       "    </tr>\n",
       "    <tr>\n",
       "      <th>15483</th>\n",
       "      <td>15483</td>\n",
       "      <td>Set in South Africa, a young black guy tries to land a part in a 'gangsta' movie. But with no knowledge of street life, he's told to find out what that life is really like or he won't get the part. He manages to work his way into a gang led by an old friend of his from school and his chances of appearing in the film decline as he commits crimes to be accepted. But for the gang's leader, the burgeoning disaster of his new friend's life suggests a golden opportunity to do something better with his own.&lt;br /&gt;&lt;br /&gt;While that may sound relatively interesting, it's anything but. The first half of it is incredibly meandering and tedious, while the \"hijacking\" only takes place towards the end with some very poorly executed low speed car chases. In those \"chases\", only two police cars are used, both of which are early 90's Nissan Sunny's. Not only would these be rather cheap to pick up (and I find it rather hard to believe they'd be using such mundane old cars in South Africa in the year 2000), but as far as I can remember, there's only 2 involved and none of them get a scratch once. The car chases are very badly shot, with distant and badly timed camera angles and minimal traffic on the roads, and they're all over in around 2 minutes at maximum as you're supposed to believe that a very small kid is actually a highly skilled driver who can easily evade the police despite the driving being pedestrian and utterly unexciting. This now leads me onto the characters and the acting, which are equally bad. The aforementioned kid who drives the car, looks about 13 years old and supposedly is extremely skilled at losing the incredibly inept police. Everybody else is equally unconvincing, so much that they even look bored at times themselves.&lt;br /&gt;&lt;br /&gt;At the closing scene of the movie, our main character (\"Sox Moraka\") is asked by the gang leader to steal a car from a car park. While having trouble opening it, the Police arrive and ask him what he's doing and he replies by telling him it's their car. After a brief argument they try to arrest him and he then holds the Police at gunpoint and jumps back in their car. After he's in, the Police return fire and in turn he gets wounded. After another pathetic chase sequence, they decide to abandon the car and set it alight to destroy any evidence. What follows here is one of the most downright laughable and hideously awful special effects I've ever seen. When the car \"explodes\", superimposed flames suddenly appear from every window with awful sound effects that aren't even in time. It's so badly done and so phony looking that it's hard to even put it into words, and really needs to be seen to be believed. If you watch it in slow motion it looks even funnier. I've seen better effects than this in murder reconstruction documentaries. The car is a Volkswagen Golf MK2 GTi. Something that wouldn't be worth a huge amount at all, and they seriously couldn't afford to destroy it with a real explosion? I'd love to know how large the budget for this movie was. It feels so cheap that I'm surprised it made it outside of South Africa, and even more surprised it made it to a DVD release.&lt;br /&gt;&lt;br /&gt;I know it's not a big budget Hollywood production. I know it's meant to depict gangs in impoverished townships of South Africa who steal cars from the middle class in and sell the parts on the black market, but with the laughable effects, poorly executed car chases, awful acting and ludicrous characters, any sense of reality is completely lost.&lt;br /&gt;&lt;br /&gt;Overall, I most certainly do NOT advise you to watch this. If you want to have a laugh and see one of the most poorly done, low budget messes of amovie ever created, then I'd recommend it for that, and only that.&lt;br /&gt;&lt;br /&gt;It is a wretched, poorly made, poorly edited, poorly paced and tedious piece of low budget drivel that fails on all counts. I've seen many South African movies, including lots of cheap NuImage/Nu-World action pictures, and despite their cheesiness, they're far better than this on all counts.</td>\n",
       "      <td>negative</td>\n",
       "      <td>[]</td>\n",
       "      <td>Set in South Africa, a young black guy tries to land a part in a 'gangsta' movie. But with no knowledge of street life, he is told to find out what that life is really like or he will not get the part. He manages to work his way into a gang led by an old friend of his from school and his chances of appearing in the film decline as he commits crimes to be accepted. But for the gang's leader, the burgeoning disaster of his new friend's life suggests a golden opportunity to do something better with his own.&lt;br /&gt;&lt;br /&gt;While that may sound relatively interesting, it is anything but. The first half of it is incredibly meandering and tedious, while the \"hijacking\" only takes place towards the end with some very poorly executed low speed car chases. In those \"chases\", only two police cars are used, both of which are early 90's Nissan Sunny's. Not only would these be rather cheap to pick up (and I find it rather hard to believe they would be using such mundane old cars in South Africa in the year 2000), but as far as I can remember, there is only 2 involved and none of them get a scratch once. The car chases are very badly shot, with distant and badly timed camera angles and minimal traffic on the roads, and they are all over in around 2 minutes at maximum as you are supposed to believe that a very small kid is actually a highly skilled driver who can easily evade the police despite the driving being pedestrian and utterly unexciting. This now leads me onto the characters and the acting, which are equally bad. The aforementioned kid who drives the car, looks about 13 years old and supposedly is extremely skilled at losing the incredibly inept police. Everybody else is equally unconvincing, so much that they even look bored at times themselves.&lt;br /&gt;&lt;br /&gt;At the closing scene of the movie, our main character (\"Sox Moraka\") is asked by the gang leader to steal a car from a car park. While having trouble opening it, the Police arrive and ask him what he is doing and he replies by telling him it is their car. After a brief argument they try to arrest him and he then holds the Police at gunpoint and jumps back in their car. After he is in, the Police return fire and in turn he gets wounded. After another pathetic chase sequence, they decide to abandon the car and set it alight to destroy any evidence. What follows here is one of the most downright laughable and hideously awful special effects I have ever seen. When the car \"explodes\", superimposed flames suddenly appear from every window with awful sound effects that are not even in time. It is so badly done and so phony looking that it is hard to even put it into words, and really needs to be seen to be believed. If you watch it in slow motion it looks even funnier. I have seen better effects than this in murder reconstruction documentaries. The car is a Volkswagen Golf MK2 GTi. Something that would not be worth a huge amount at all, and they seriously could not afford to destroy it with a real explosion? I would love to know how large the budget for this movie was. It feels so cheap that I am surprised it made it outside of South Africa, and even more surprised it made it to a DVD release.&lt;br /&gt;&lt;br /&gt;I know it is not a big budget Hollywood production. I know it is meant to depict gangs in impoverished townships of South Africa who steal cars from the middle class in and sell the parts on the black market, but with the laughable effects, poorly executed car chases, awful acting and ludicrous characters, any sense of reality is completely lost.&lt;br /&gt;&lt;br /&gt;Overall, I most certainly do NOT advise you to watch this. If you want to have a laugh and see one of the most poorly done, low budget messes of amovie ever created, then I would recommend it for that, and only that.&lt;br /&gt;&lt;br /&gt;It is a wretched, poorly made, poorly edited, poorly paced and tedious piece of low budget drivel that fails on all counts. I have seen many South African movies, including lots of cheap NuImage/Nu-World action pictures, and despite their cheesiness, they are far better than this on all counts.</td>\n",
       "      <td>Set in South Africa young black guy tries to land part in gangsta movie But with no knowledge of street life he is told to find out what that life is really like or he will not get the part He manages to work his way into gang led by an old friend of his from school and his chances of appearing in the film decline as he commits crimes to be accepted But for the gang leader the burgeoning disaster of his new friend life suggests golden opportunity to do something better with his own While that may sound relatively interesting it is anything but The first half of it is incredibly meandering and tedious while the hijacking only takes place towards the end with some very poorly executed low speed car chases In those chases only two police cars are used both of which are early Nissan Sunny Not only would these be rather cheap to pick up and find it rather hard to believe they would be using such mundane old cars in South Africa in the year but as far as can remember there is only involved and none of them get scratch once The car chases are very badly shot with distant and badly timed camera angles and minimal traffic on the roads and they are all over in around minutes at maximum as you are supposed to believe that very small kid is actually highly skilled driver who can easily evade the police despite the driving being pedestrian and utterly unexciting This now leads me onto the characters and the acting which are equally bad The aforementioned kid who drives the car looks about years old and supposedly is extremely skilled at losing the incredibly inept police Everybody else is equally unconvincing so much that they even look bored at times themselves At the closing scene of the movie our main character Sox Moraka is asked by the gang leader to steal car from car park While having trouble opening it the Police arrive and ask him what he is doing and he replies by telling him it is their car After brief argument they try to arrest him and he then holds the Police at gunpoint and jumps back in their car After he is in the Police return fire and in turn he gets wounded After another pathetic chase sequence they decide to abandon the car and set it alight to destroy any evidence What follows here is one of the most downright laughable and hideously awful special effects have ever seen When the car explodes superimposed flames suddenly appear from every window with awful sound effects that are not even in time It is so badly done and so phony looking that it is hard to even put it into words and really needs to be seen to be believed If you watch it in slow motion it looks even funnier have seen better effects than this in murder reconstruction documentaries The car is Volkswagen Golf MK GTi Something that would not be worth huge amount at all and they seriously could not afford to destroy it with real explosion would love to know how large the budget for this movie was It feels so cheap that am surprised it made it outside of South Africa and even more surprised it made it to DVD release know it is not big budget Hollywood production know it is meant to depict gangs in impoverished townships of South Africa who steal cars from the middle class in and sell the parts on the black market but with the laughable effects poorly executed car chases awful acting and ludicrous characters any sense of reality is completely lost Overall most certainly do NOT advise you to watch this If you want to have laugh and see one of the most poorly done low budget messes of amovie ever created then would recommend it for that and only that It is wretched poorly made poorly edited poorly paced and tedious piece of low budget drivel that fails on all counts have seen many South African movies including lots of cheap NuImage Nu World action pictures and despite their cheesiness they are far better than this on all counts</td>\n",
       "    </tr>\n",
       "  </tbody>\n",
       "</table>\n",
       "</div>"
      ],
      "text/plain": [
       "       Unnamed: 0  \\\n",
       "6043         6043   \n",
       "1696         1696   \n",
       "15483       15483   \n",
       "\n",
       "                                                                                                                                                                                                                                                                                                                                                                                                                                                                                                                                                                                                                                                                                                                                                                                                                                                                                                                                                                                                                                                                                                                                                                                                                                                                                                                                                                                                                                                                                                                                                                                                                                                                                                                                                                                                                                                                                                                                                                                                                                                                                                                                                                                                                                                                                                                                                                                                                                                                                                                                                                                                                                                                                                                                                                                                                                                                                                                                                                                                                                                                                                                                                                                                                                                                                                                                                                                                                                                                                                                                                                                                                                                                                                                                                                                                                                                                                                                                                                                                                                                                                                                                                                                                            review  \\\n",
       "6043                                                                                                                                                                                                                                                                                                                                                                                                                                                                                                                                                                                                                                                                                                                                                                                                                                                                                                                                                                                                                                                                                                                                                                                                                                                                                                                                                                                                                                                                                                                                                                                                                                                                                                                                                                                                                                                                                                                                                                                                                                                                                                                                                                                                                                                                                                                                                                                                                                                                                                                                                                                                                                                                                                                                                                                                                                                                                                                                                                                                                                                                                                                                                                                                                                                                                      I have seen this movie, just once, and I'm looking forward to see it again and again. Dear David (from Beligium), why did you bother to write a comment on this movie? I only think we can think about you (after reading you comment), is that you're provably a non-sexual person (like Erika in the movie), and you are not ready for the new cinema that is coming up. I guess you are a bit old, and sexual expression is not part of your \"visage\". The Cannes Film Festival is by far the best movie festival, and I'm is my pleasure to say, that this film was awarded with: Best Actress, Best Actor and Grand Prix. Isabelle Huppert is magnificent, as always, who would do this movie like her? One of her best performances ever. The music is fantastic, and once more Michael Haneke puts reality in the big screen. It's like a Dogma95 kind of movie, because of the topic. Try to see it.<br /><br />   \n",
       "1696                                                                                                                                                                                                                                                                                                                                                                                                                                                                                                                                                                                                                                                                                                                                                                                                                                                                                                                                                                                                                                                                                                                                                                                                                                                                                                                                                                                                                                                                                                                                                                                                                                                                                                                                                                                                                                                                                                                                                                                                                                                                                                                                                                                                                                                                                                                                                                                                                                                                                                                                                                                                                                                                                                                                                                                                                                                                                                                                                                                                                                                                                                                                                                                                                                                                                                                                                                                                     Saw the move while in Paris in May 2006 ... I was debating between that and mission impossible...I am very glad I choose OSS 117 not only because it was funny but might as well watch a FRench movie while in France. I had a great time... would recommend it. It is important to have some understanding the French society of Today to really enjoy the humor of this movie ... cannot wait for the DVD to come out... I don't know how some of the 'jeu De mots' 'puns' would be translated in English I 'll certainly buy it when it is out! P.S. I saw on 'BRice de Nice' which is a movie starring Dujardin that all kids were talking about in France. this movie is a comedy but sillier than one can imagine...in comparing both movies I have to say that Dujardin did a good job in OSS 117.   \n",
       "15483  Set in South Africa, a young black guy tries to land a part in a 'gangsta' movie. But with no knowledge of street life, he's told to find out what that life is really like or he won't get the part. He manages to work his way into a gang led by an old friend of his from school and his chances of appearing in the film decline as he commits crimes to be accepted. But for the gang's leader, the burgeoning disaster of his new friend's life suggests a golden opportunity to do something better with his own.<br /><br />While that may sound relatively interesting, it's anything but. The first half of it is incredibly meandering and tedious, while the \"hijacking\" only takes place towards the end with some very poorly executed low speed car chases. In those \"chases\", only two police cars are used, both of which are early 90's Nissan Sunny's. Not only would these be rather cheap to pick up (and I find it rather hard to believe they'd be using such mundane old cars in South Africa in the year 2000), but as far as I can remember, there's only 2 involved and none of them get a scratch once. The car chases are very badly shot, with distant and badly timed camera angles and minimal traffic on the roads, and they're all over in around 2 minutes at maximum as you're supposed to believe that a very small kid is actually a highly skilled driver who can easily evade the police despite the driving being pedestrian and utterly unexciting. This now leads me onto the characters and the acting, which are equally bad. The aforementioned kid who drives the car, looks about 13 years old and supposedly is extremely skilled at losing the incredibly inept police. Everybody else is equally unconvincing, so much that they even look bored at times themselves.<br /><br />At the closing scene of the movie, our main character (\"Sox Moraka\") is asked by the gang leader to steal a car from a car park. While having trouble opening it, the Police arrive and ask him what he's doing and he replies by telling him it's their car. After a brief argument they try to arrest him and he then holds the Police at gunpoint and jumps back in their car. After he's in, the Police return fire and in turn he gets wounded. After another pathetic chase sequence, they decide to abandon the car and set it alight to destroy any evidence. What follows here is one of the most downright laughable and hideously awful special effects I've ever seen. When the car \"explodes\", superimposed flames suddenly appear from every window with awful sound effects that aren't even in time. It's so badly done and so phony looking that it's hard to even put it into words, and really needs to be seen to be believed. If you watch it in slow motion it looks even funnier. I've seen better effects than this in murder reconstruction documentaries. The car is a Volkswagen Golf MK2 GTi. Something that wouldn't be worth a huge amount at all, and they seriously couldn't afford to destroy it with a real explosion? I'd love to know how large the budget for this movie was. It feels so cheap that I'm surprised it made it outside of South Africa, and even more surprised it made it to a DVD release.<br /><br />I know it's not a big budget Hollywood production. I know it's meant to depict gangs in impoverished townships of South Africa who steal cars from the middle class in and sell the parts on the black market, but with the laughable effects, poorly executed car chases, awful acting and ludicrous characters, any sense of reality is completely lost.<br /><br />Overall, I most certainly do NOT advise you to watch this. If you want to have a laugh and see one of the most poorly done, low budget messes of amovie ever created, then I'd recommend it for that, and only that.<br /><br />It is a wretched, poorly made, poorly edited, poorly paced and tedious piece of low budget drivel that fails on all counts. I've seen many South African movies, including lots of cheap NuImage/Nu-World action pictures, and despite their cheesiness, they're far better than this on all counts.   \n",
       "\n",
       "      sentiment contractions  \\\n",
       "6043   positive           []   \n",
       "1696   positive           []   \n",
       "15483  negative           []   \n",
       "\n",
       "                                                                                                                                                                                                                                                                                                                                                                                                                                                                                                                                                                                                                                                                                                                                                                                                                                                                                                                                                                                                                                                                                                                                                                                                                                                                                                                                                                                                                                                                                                                                                                                                                                                                                                                                                                                                                                                                                                                                                                                                                                                                                                                                                                                                                                                                                                                                                                                                                                                                                                                                                                                                                                                                                                                                                                                                                                                                                                                                                                                                                                                                                                                                                                                                                                                                                                                                                                                                                                                                                                                                                                                                                                                                                                                                                                                                                                                                                                                                                                                                                                                                                                                                                                                                                                            ExpandedText  \\\n",
       "6043                                                                                                                                                                                                                                                                                                                                                                                                                                                                                                                                                                                                                                                                                                                                                                                                                                                                                                                                                                                                                                                                                                                                                                                                                                                                                                                                                                                                                                                                                                                                                                                                                                                                                                                                                                                                                                                                                                                                                                                                                                                                                                                                                                                                                                                                                                                                                                                                                                                                                                                                                                                                                                                                                                                                                                                                                                                                                                                                                                                                                                                                                                                                                                                                                                                                                                                        I have seen this movie, just once, and I am looking forward to see it again and again. Dear David (from Beligium), why did you bother to write a comment on this movie? I only think we can think about you (after reading you comment), is that you are provably a non-sexual person (like Erika in the movie), and you are not ready for the new cinema that is coming up. I guess you are a bit old, and sexual expression is not part of your \"visage\". The Cannes Film Festival is by far the best movie festival, and I am is my pleasure to say, that this film was awarded with: Best Actress, Best Actor and Grand Prix. Isabelle Huppert is magnificent, as always, who would do this movie like her? One of her best performances ever. The music is fantastic, and once more Michael Haneke puts reality in the big screen. It is like a Dogma95 kind of movie, because of the topic. Try to see it.<br /><br />   \n",
       "1696                                                                                                                                                                                                                                                                                                                                                                                                                                                                                                                                                                                                                                                                                                                                                                                                                                                                                                                                                                                                                                                                                                                                                                                                                                                                                                                                                                                                                                                                                                                                                                                                                                                                                                                                                                                                                                                                                                                                                                                                                                                                                                                                                                                                                                                                                                                                                                                                                                                                                                                                                                                                                                                                                                                                                                                                                                                                                                                                                                                                                                                                                                                                                                                                                                                                                                                                                                                                                                        Saw the move while in Paris in May 2006 ... I was debating between that and mission impossible...I am very glad I choose OSS 117 not only because it was funny but might as well watch a FRench movie while in France. I had a great time... would recommend it. It is important to have some understanding the French society of Today to really enjoy the humor of this movie ... cannot wait for the DVD to come out... I do not know how some of the 'jeu De mots' 'puns' would be translated in English I  will certainly buy it when it is out! P.S. I saw on 'BRice de Nice' which is a movie starring Dujardin that all kids were talking about in France. this movie is a comedy but sillier than one can imagine...in comparing both movies I have to say that Dujardin did a good job in OSS 117.   \n",
       "15483  Set in South Africa, a young black guy tries to land a part in a 'gangsta' movie. But with no knowledge of street life, he is told to find out what that life is really like or he will not get the part. He manages to work his way into a gang led by an old friend of his from school and his chances of appearing in the film decline as he commits crimes to be accepted. But for the gang's leader, the burgeoning disaster of his new friend's life suggests a golden opportunity to do something better with his own.<br /><br />While that may sound relatively interesting, it is anything but. The first half of it is incredibly meandering and tedious, while the \"hijacking\" only takes place towards the end with some very poorly executed low speed car chases. In those \"chases\", only two police cars are used, both of which are early 90's Nissan Sunny's. Not only would these be rather cheap to pick up (and I find it rather hard to believe they would be using such mundane old cars in South Africa in the year 2000), but as far as I can remember, there is only 2 involved and none of them get a scratch once. The car chases are very badly shot, with distant and badly timed camera angles and minimal traffic on the roads, and they are all over in around 2 minutes at maximum as you are supposed to believe that a very small kid is actually a highly skilled driver who can easily evade the police despite the driving being pedestrian and utterly unexciting. This now leads me onto the characters and the acting, which are equally bad. The aforementioned kid who drives the car, looks about 13 years old and supposedly is extremely skilled at losing the incredibly inept police. Everybody else is equally unconvincing, so much that they even look bored at times themselves.<br /><br />At the closing scene of the movie, our main character (\"Sox Moraka\") is asked by the gang leader to steal a car from a car park. While having trouble opening it, the Police arrive and ask him what he is doing and he replies by telling him it is their car. After a brief argument they try to arrest him and he then holds the Police at gunpoint and jumps back in their car. After he is in, the Police return fire and in turn he gets wounded. After another pathetic chase sequence, they decide to abandon the car and set it alight to destroy any evidence. What follows here is one of the most downright laughable and hideously awful special effects I have ever seen. When the car \"explodes\", superimposed flames suddenly appear from every window with awful sound effects that are not even in time. It is so badly done and so phony looking that it is hard to even put it into words, and really needs to be seen to be believed. If you watch it in slow motion it looks even funnier. I have seen better effects than this in murder reconstruction documentaries. The car is a Volkswagen Golf MK2 GTi. Something that would not be worth a huge amount at all, and they seriously could not afford to destroy it with a real explosion? I would love to know how large the budget for this movie was. It feels so cheap that I am surprised it made it outside of South Africa, and even more surprised it made it to a DVD release.<br /><br />I know it is not a big budget Hollywood production. I know it is meant to depict gangs in impoverished townships of South Africa who steal cars from the middle class in and sell the parts on the black market, but with the laughable effects, poorly executed car chases, awful acting and ludicrous characters, any sense of reality is completely lost.<br /><br />Overall, I most certainly do NOT advise you to watch this. If you want to have a laugh and see one of the most poorly done, low budget messes of amovie ever created, then I would recommend it for that, and only that.<br /><br />It is a wretched, poorly made, poorly edited, poorly paced and tedious piece of low budget drivel that fails on all counts. I have seen many South African movies, including lots of cheap NuImage/Nu-World action pictures, and despite their cheesiness, they are far better than this on all counts.   \n",
       "\n",
       "                                                                                                                                                                                                                                                                                                                                                                                                                                                                                                                                                                                                                                                                                                                                                                                                                                                                                                                                                                                                                                                                                                                                                                                                                                                                                                                                                                                                                                                                                                                                                                                                                                                                                                                                                                                                                                                                                                                                                                                                                                                                                                                                                                                                                                                                                                                                                                                                                                                                                                                                                                                                                                                                                                                                                                                                                                                                                                                                                                                                                                                                                                                                                                                                                                                                                                                                                                                                                                                                                                                                                                                                                                                                                                                                                                                                                                                                                                                                                                                                                   CleanedText  \n",
       "6043                                                                                                                                                                                                                                                                                                                                                                                                                                                                                                                                                                                                                                                                                                                                                                                                                                                                                                                                                                                                                                                                                                                                                                                                                                                                                                                                                                                                                                                                                                                                                                                                                                                                                                                                                                                                                                                                                                                                                                                                                                                                                                                                                                                                                                                                                                                                                                                                                                                                                                                                                                                                                                                                                                                                                                                                                                                                                                                                                                                                                                                                                                                                                           I have seen this movie just once and am looking forward to see it again and again Dear David from Beligium why did you bother to write comment on this movie only think we can think about you after reading you comment is that you are provably non sexual person like Erika in the movie and you are not ready for the new cinema that is coming up guess you are bit old and sexual expression is not part of your visage The Cannes Film Festival is by far the best movie festival and am is my pleasure to say that this film was awarded with Best Actress Best Actor and Grand Prix Isabelle Huppert is magnificent as always who would do this movie like her One of her best performances ever The music is fantastic and once more Michael Haneke puts reality in the big screen It is like Dogma kind of movie because of the topic Try to see it   \n",
       "1696                                                                                                                                                                                                                                                                                                                                                                                                                                                                                                                                                                                                                                                                                                                                                                                                                                                                                                                                                                                                                                                                                                                                                                                                                                                                                                                                                                                                                                                                                                                                                                                                                                                                                                                                                                                                                                                                                                                                                                                                                                                                                                                                                                                                                                                                                                                                                                                                                                                                                                                                                                                                                                                                                                                                                                                                                                                                                                                                                                                                                                                                                                                                                                                                                                                                                     Saw the move while in Paris in May was debating between that and mission impossible am very glad choose OSS not only because it was funny but might as well watch FRench movie while in France had great time would recommend it It is important to have some understanding the French society of Today to really enjoy the humor of this movie cannot wait for the DVD to come out do not know how some of the jeu De mots puns would be translated in English will certainly buy it when it is out S saw on BRice de Nice which is movie starring Dujardin that all kids were talking about in France this movie is comedy but sillier than one can imagine in comparing both movies have to say that Dujardin did good job in OSS   \n",
       "15483  Set in South Africa young black guy tries to land part in gangsta movie But with no knowledge of street life he is told to find out what that life is really like or he will not get the part He manages to work his way into gang led by an old friend of his from school and his chances of appearing in the film decline as he commits crimes to be accepted But for the gang leader the burgeoning disaster of his new friend life suggests golden opportunity to do something better with his own While that may sound relatively interesting it is anything but The first half of it is incredibly meandering and tedious while the hijacking only takes place towards the end with some very poorly executed low speed car chases In those chases only two police cars are used both of which are early Nissan Sunny Not only would these be rather cheap to pick up and find it rather hard to believe they would be using such mundane old cars in South Africa in the year but as far as can remember there is only involved and none of them get scratch once The car chases are very badly shot with distant and badly timed camera angles and minimal traffic on the roads and they are all over in around minutes at maximum as you are supposed to believe that very small kid is actually highly skilled driver who can easily evade the police despite the driving being pedestrian and utterly unexciting This now leads me onto the characters and the acting which are equally bad The aforementioned kid who drives the car looks about years old and supposedly is extremely skilled at losing the incredibly inept police Everybody else is equally unconvincing so much that they even look bored at times themselves At the closing scene of the movie our main character Sox Moraka is asked by the gang leader to steal car from car park While having trouble opening it the Police arrive and ask him what he is doing and he replies by telling him it is their car After brief argument they try to arrest him and he then holds the Police at gunpoint and jumps back in their car After he is in the Police return fire and in turn he gets wounded After another pathetic chase sequence they decide to abandon the car and set it alight to destroy any evidence What follows here is one of the most downright laughable and hideously awful special effects have ever seen When the car explodes superimposed flames suddenly appear from every window with awful sound effects that are not even in time It is so badly done and so phony looking that it is hard to even put it into words and really needs to be seen to be believed If you watch it in slow motion it looks even funnier have seen better effects than this in murder reconstruction documentaries The car is Volkswagen Golf MK GTi Something that would not be worth huge amount at all and they seriously could not afford to destroy it with real explosion would love to know how large the budget for this movie was It feels so cheap that am surprised it made it outside of South Africa and even more surprised it made it to DVD release know it is not big budget Hollywood production know it is meant to depict gangs in impoverished townships of South Africa who steal cars from the middle class in and sell the parts on the black market but with the laughable effects poorly executed car chases awful acting and ludicrous characters any sense of reality is completely lost Overall most certainly do NOT advise you to watch this If you want to have laugh and see one of the most poorly done low budget messes of amovie ever created then would recommend it for that and only that It is wretched poorly made poorly edited poorly paced and tedious piece of low budget drivel that fails on all counts have seen many South African movies including lots of cheap NuImage Nu World action pictures and despite their cheesiness they are far better than this on all counts   "
      ]
     },
     "execution_count": 46,
     "metadata": {},
     "output_type": "execute_result"
    }
   ],
   "source": [
    "movie_reviews.sample(3)"
   ]
  },
  {
   "cell_type": "code",
   "execution_count": 8,
   "id": "dfbb2a9e-87c9-48f2-94b5-440ec6f97072",
   "metadata": {
    "tags": []
   },
   "outputs": [
    {
     "name": "stderr",
     "output_type": "stream",
     "text": [
      "D:\\ANACONDA\\Lib\\site-packages\\seaborn\\_oldcore.py:1498: FutureWarning: is_categorical_dtype is deprecated and will be removed in a future version. Use isinstance(dtype, CategoricalDtype) instead\n",
      "  if pd.api.types.is_categorical_dtype(vector):\n",
      "D:\\ANACONDA\\Lib\\site-packages\\seaborn\\_oldcore.py:1498: FutureWarning: is_categorical_dtype is deprecated and will be removed in a future version. Use isinstance(dtype, CategoricalDtype) instead\n",
      "  if pd.api.types.is_categorical_dtype(vector):\n",
      "D:\\ANACONDA\\Lib\\site-packages\\seaborn\\_oldcore.py:1498: FutureWarning: is_categorical_dtype is deprecated and will be removed in a future version. Use isinstance(dtype, CategoricalDtype) instead\n",
      "  if pd.api.types.is_categorical_dtype(vector):\n"
     ]
    },
    {
     "data": {
      "image/png": "[encoded data removed]",
      "text/plain": [
       "<Figure size 640x480 with 1 Axes>"
      ]
     },
     "metadata": {},
     "output_type": "display_data"
    }
   ],
   "source": [
    "import seaborn as sns\n",
    "\n",
    "sns.countplot(x='sentiment', data=movie_reviews);"
   ]
  },
  {
   "cell_type": "markdown",
   "id": "e4622000-a980-4454-9a2f-be0192eee677",
   "metadata": {},
   "source": [
    "Next, we need to convert our labels into digits. \n",
    "\n",
    "Since we only have two labels in the output i.e. \"positive\" and \"negative\".\n",
    "\n",
    "We can simply convert them into integers by replacing \"positive\" with digit 1 and negative with digit 0"
   ]
  },
  {
   "cell_type": "code",
   "execution_count": 47,
   "id": "32089579-9208-47dd-8159-04914509c310",
   "metadata": {
    "tags": []
   },
   "outputs": [],
   "source": [
    "y = movie_reviews['sentiment']\n",
    "\n",
    "y = np.array(list(map(lambda x: 1 if x==\"positive\" else 0, y)))"
   ]
  },
  {
   "cell_type": "markdown",
   "id": "97552290-8dea-4fe1-867a-b62604c5b7dd",
   "metadata": {},
   "source": [
    "Finally, we need to divide our dataset into train and test sets. The train set will be used to train our deep learning models while the test set will be used to evaluate how well our model performs.\n",
    "\n",
    "We can use train_test_split method from the sklearn.model.selection module"
   ]
  },
  {
   "cell_type": "code",
   "execution_count": 12,
   "id": "16761207-0b51-4939-ae2a-d7e3f07558ac",
   "metadata": {
    "tags": []
   },
   "outputs": [],
   "source": [
    "X = movie_reviews['CleanedText']"
   ]
  },
  {
   "cell_type": "code",
   "execution_count": 13,
   "id": "120ceca7-7a6f-4fa7-8f9e-b5c36a0796e3",
   "metadata": {
    "tags": []
   },
   "outputs": [],
   "source": [
    "from sklearn.model_selection import train_test_split"
   ]
  },
  {
   "cell_type": "code",
   "execution_count": 14,
   "id": "9148a38e-5ea5-431d-bdb2-ceb4f42bcb3e",
   "metadata": {
    "tags": []
   },
   "outputs": [],
   "source": [
    "X_train, X_test, y_train, y_test = train_test_split(X, \n",
    "                                                    y, \n",
    "                                                    test_size   = 0.20, \n",
    "                                                    random_state= 42)"
   ]
  },
  {
   "cell_type": "markdown",
   "id": "930ebc1c-45c8-4ba9-b0bc-d5b745053cb2",
   "metadata": {},
   "source": [
    "#### train a TF-IDF Vectorizer"
   ]
  },
  {
   "cell_type": "code",
   "execution_count": 15,
   "id": "3c1c833d-0d12-4cb0-8053-deda260d77d7",
   "metadata": {
    "tags": []
   },
   "outputs": [],
   "source": [
    "from sklearn.feature_extraction.text import TfidfVectorizer"
   ]
  },
  {
   "cell_type": "code",
   "execution_count": 16,
   "id": "4cec4087-a7ad-41a3-932a-e6aa8ddb8e62",
   "metadata": {
    "tags": []
   },
   "outputs": [
    {
     "name": "stdout",
     "output_type": "stream",
     "text": [
      "CPU times: total: 6.72 s\n",
      "Wall time: 19.7 s\n"
     ]
    }
   ],
   "source": [
    "%%time\n",
    "# Create count vectorizer\n",
    "vectorizer = TfidfVectorizer()\n",
    "\n",
    "train_matrix = vectorizer.fit_transform(X_train)"
   ]
  },
  {
   "cell_type": "code",
   "execution_count": 17,
   "id": "a69427cd-2a3c-4663-8fd3-bca2852127d1",
   "metadata": {
    "tags": []
   },
   "outputs": [
    {
     "name": "stdout",
     "output_type": "stream",
     "text": [
      "CPU times: total: 1.95 s\n",
      "Wall time: 4.84 s\n"
     ]
    }
   ],
   "source": [
    "%%time\n",
    "test_matrix = vectorizer.transform(X_test)"
   ]
  },
  {
   "cell_type": "markdown",
   "id": "59236151-2975-4358-a691-e2447cc55bd0",
   "metadata": {},
   "source": [
    "#### train a ML model"
   ]
  },
  {
   "cell_type": "markdown",
   "id": "22d8fb5b-f486-4d95-82b3-fda261cdbdde",
   "metadata": {},
   "source": [
    "**Naive Bayes**"
   ]
  },
  {
   "cell_type": "code",
   "execution_count": 18,
   "id": "f2a21ae1-c507-4acf-ac72-42fd69ef456f",
   "metadata": {
    "tags": []
   },
   "outputs": [],
   "source": [
    "from sklearn.naive_bayes import MultinomialNB"
   ]
  },
  {
   "cell_type": "code",
   "execution_count": 19,
   "id": "f4ca5ced-b2af-4be4-968e-42f022a2c4e3",
   "metadata": {
    "tags": []
   },
   "outputs": [
    {
     "data": {
      "text/html": [
       "<style>#sk-container-id-1 {color: black;}#sk-container-id-1 pre{padding: 0;}#sk-container-id-1 div.sk-toggleable {background-color: white;}#sk-container-id-1 label.sk-toggleable__label {cursor: pointer;display: block;width: 100%;margin-bottom: 0;padding: 0.3em;box-sizing: border-box;text-align: center;}#sk-container-id-1 label.sk-toggleable__label-arrow:before {content: \"▸\";float: left;margin-right: 0.25em;color: #696969;}#sk-container-id-1 label.sk-toggleable__label-arrow:hover:before {color: black;}#sk-container-id-1 div.sk-estimator:hover label.sk-toggleable__label-arrow:before {color: black;}#sk-container-id-1 div.sk-toggleable__content {max-height: 0;max-width: 0;overflow: hidden;text-align: left;background-color: #f0f8ff;}#sk-container-id-1 div.sk-toggleable__content pre {margin: 0.2em;color: black;border-radius: 0.25em;background-color: #f0f8ff;}#sk-container-id-1 input.sk-toggleable__control:checked~div.sk-toggleable__content {max-height: 200px;max-width: 100%;overflow: auto;}#sk-container-id-1 input.sk-toggleable__control:checked~label.sk-toggleable__label-arrow:before {content: \"▾\";}#sk-container-id-1 div.sk-estimator input.sk-toggleable__control:checked~label.sk-toggleable__label {background-color: #d4ebff;}#sk-container-id-1 div.sk-label input.sk-toggleable__control:checked~label.sk-toggleable__label {background-color: #d4ebff;}#sk-container-id-1 input.sk-hidden--visually {border: 0;clip: rect(1px 1px 1px 1px);clip: rect(1px, 1px, 1px, 1px);height: 1px;margin: -1px;overflow: hidden;padding: 0;position: absolute;width: 1px;}#sk-container-id-1 div.sk-estimator {font-family: monospace;background-color: #f0f8ff;border: 1px dotted black;border-radius: 0.25em;box-sizing: border-box;margin-bottom: 0.5em;}#sk-container-id-1 div.sk-estimator:hover {background-color: #d4ebff;}#sk-container-id-1 div.sk-parallel-item::after {content: \"\";width: 100%;border-bottom: 1px solid gray;flex-grow: 1;}#sk-container-id-1 div.sk-label:hover label.sk-toggleable__label {background-color: #d4ebff;}#sk-container-id-1 div.sk-serial::before {content: \"\";position: absolute;border-left: 1px solid gray;box-sizing: border-box;top: 0;bottom: 0;left: 50%;z-index: 0;}#sk-container-id-1 div.sk-serial {display: flex;flex-direction: column;align-items: center;background-color: white;padding-right: 0.2em;padding-left: 0.2em;position: relative;}#sk-container-id-1 div.sk-item {position: relative;z-index: 1;}#sk-container-id-1 div.sk-parallel {display: flex;align-items: stretch;justify-content: center;background-color: white;position: relative;}#sk-container-id-1 div.sk-item::before, #sk-container-id-1 div.sk-parallel-item::before {content: \"\";position: absolute;border-left: 1px solid gray;box-sizing: border-box;top: 0;bottom: 0;left: 50%;z-index: -1;}#sk-container-id-1 div.sk-parallel-item {display: flex;flex-direction: column;z-index: 1;position: relative;background-color: white;}#sk-container-id-1 div.sk-parallel-item:first-child::after {align-self: flex-end;width: 50%;}#sk-container-id-1 div.sk-parallel-item:last-child::after {align-self: flex-start;width: 50%;}#sk-container-id-1 div.sk-parallel-item:only-child::after {width: 0;}#sk-container-id-1 div.sk-dashed-wrapped {border: 1px dashed gray;margin: 0 0.4em 0.5em 0.4em;box-sizing: border-box;padding-bottom: 0.4em;background-color: white;}#sk-container-id-1 div.sk-label label {font-family: monospace;font-weight: bold;display: inline-block;line-height: 1.2em;}#sk-container-id-1 div.sk-label-container {text-align: center;}#sk-container-id-1 div.sk-container {/* jupyter's `normalize.less` sets `[hidden] { display: none; }` but bootstrap.min.css set `[hidden] { display: none !important; }` so we also need the `!important` here to be able to override the default hidden behavior on the sphinx rendered scikit-learn.org. See: https://github.com/scikit-learn/scikit-learn/issues/21755 */display: inline-block !important;position: relative;}#sk-container-id-1 div.sk-text-repr-fallback {display: none;}</style><div id=\"sk-container-id-1\" class=\"sk-top-container\"><div class=\"sk-text-repr-fallback\"><pre>MultinomialNB()</pre><b>In a Jupyter environment, please rerun this cell to show the HTML representation or trust the notebook. <br />On GitHub, the HTML representation is unable to render, please try loading this page with nbviewer.org.</b></div><div class=\"sk-container\" hidden><div class=\"sk-item\"><div class=\"sk-estimator sk-toggleable\"><input class=\"sk-toggleable__control sk-hidden--visually\" id=\"sk-estimator-id-1\" type=\"checkbox\" checked><label for=\"sk-estimator-id-1\" class=\"sk-toggleable__label sk-toggleable__label-arrow\">MultinomialNB</label><div class=\"sk-toggleable__content\"><pre>MultinomialNB()</pre></div></div></div></div></div>"
      ],
      "text/plain": [
       "MultinomialNB()"
      ]
     },
     "execution_count": 19,
     "metadata": {},
     "output_type": "execute_result"
    }
   ],
   "source": [
    "# Initialize the Multinomial Naive Bayes classifier\n",
    "mnb = MultinomialNB()\n",
    "\n",
    "# Train the classifier on the training data\n",
    "mnb.fit(train_matrix, y_train)"
   ]
  },
  {
   "cell_type": "code",
   "execution_count": 20,
   "id": "0ea144d9-2dde-4f24-8ddf-786840556e34",
   "metadata": {
    "tags": []
   },
   "outputs": [],
   "source": [
    "# Make predictions on the test data\n",
    "y_pred = mnb.predict(test_matrix)"
   ]
  },
  {
   "cell_type": "markdown",
   "id": "fa536e11-6c6d-4710-8ba1-0aa945b6eff4",
   "metadata": {},
   "source": [
    "#### Evaluate"
   ]
  },
  {
   "cell_type": "code",
   "execution_count": 21,
   "id": "a646b034-1d0c-4037-bd49-47580be486d2",
   "metadata": {
    "tags": []
   },
   "outputs": [],
   "source": [
    "from sklearn.metrics import accuracy_score, classification_report"
   ]
  },
  {
   "cell_type": "code",
   "execution_count": 22,
   "id": "7821b119-226c-43d8-b7f8-132cd93baf59",
   "metadata": {
    "tags": []
   },
   "outputs": [
    {
     "name": "stdout",
     "output_type": "stream",
     "text": [
      "Accuracy: 0.8641\n",
      "Classification Report:\n",
      "               precision    recall  f1-score   support\n",
      "\n",
      "           0       0.84      0.89      0.87      4961\n",
      "           1       0.89      0.84      0.86      5039\n",
      "\n",
      "    accuracy                           0.86     10000\n",
      "   macro avg       0.86      0.86      0.86     10000\n",
      "weighted avg       0.87      0.86      0.86     10000\n",
      "\n"
     ]
    }
   ],
   "source": [
    "# Evaluate the performance of the classifier\n",
    "accuracy = accuracy_score(y_test, y_pred)\n",
    "classification_report_result = classification_report(y_test, y_pred)\n",
    "\n",
    "print(f\"Accuracy: {accuracy:.4f}\")\n",
    "print(\"Classification Report:\\n\", classification_report_result)"
   ]
  },
  {
   "cell_type": "code",
   "execution_count": 23,
   "id": "2b5d404a-4ed7-4aaa-af6b-046b288cbaa2",
   "metadata": {
    "tags": []
   },
   "outputs": [],
   "source": [
    "from sklearn.metrics import confusion_matrix"
   ]
  },
  {
   "cell_type": "code",
   "execution_count": 24,
   "id": "e6085b31-b216-4669-a3de-96f013a82546",
   "metadata": {
    "tags": []
   },
   "outputs": [
    {
     "data": {
      "text/plain": [
       "array([[4412,  549],\n",
       "       [ 810, 4229]], dtype=int64)"
      ]
     },
     "execution_count": 24,
     "metadata": {},
     "output_type": "execute_result"
    }
   ],
   "source": [
    "confusion_matrix(y_test, y_pred)"
   ]
  },
  {
   "cell_type": "code",
   "execution_count": 25,
   "id": "5d53d2b7-36dc-4a19-9641-344127a6bebd",
   "metadata": {
    "tags": []
   },
   "outputs": [
    {
     "data": {
      "text/plain": [
       "24712                                                                                                                                                                                                                                                                                                                                                                                                                                                                                                                                                                                                                                                                                                                                                                                                                                                                                                                                                                                                                                                                                                                                                                                                                                                                                                                                                                                                                                                                                                                                                                                                                                                                                                                                                                                                                                                                                                                                                                                                                                                                                                                                                                                                                                                                                                                                                                                                                                                                                                                                                          A ruthless assassin has been hired to eliminate someone at the very top of the YOU government Constantly changing his identity and location he is known only as the Jackal Everything about this hit man is secret Aware of the Jackal presence but uncertain of his purpose the FBI Deputy Director faces the biggest challenge of his career In order to track down this cold blooded killer he and by the book Russian intelligence officer enlist the aid of an imprisoned Irish terrorist These unlikely allies enter global race against the clock to stop the mysterious mercenary before he can complete his assignment If you are looking for non stop action movie like Die Hard then The Jackal is not your movie It a slow spy thriller with many cool gadgets and weapons Richard Gere does good job playing an impassioned terrorist who is helping the FBI for deeper because than just freedom And Willis puts forth good effort as the Jackal OK film but nothing more \n",
       "43824                                                                                                                                                                                                                                                                                                                                                                                                                                                                                                                                                                                                                                                                                                                                                                                                                                                                                                                                                                                                                                                                                                                                                                                                                                                                                                                                                                                                                                                                                                                                                                                                                                                                                                                                                                                                                                                                                                                                                                                                                                                                                                                                                                                                                                                                                                                                                                                                                                                                                                                                                                                                                                                                                                                                                                                                                                                                        Although this series and the mini film in particular were very important at the time of release feel that the series as whole was actually fairly poorly written with weak cast The issues at heart are extremely well portrayed yet it is difficult to relate and understand the problems within the film when the acting and script is not convincing enough especially when looking at the mini film also do not believe that this mini film or series has stood the test of time as now many of the scenes are quite laughable The issues are still crucial but Boys From The Blackstuff cannot fully aid the because of understanding the problems in Britain in the \n",
       "725                                                                                                                                                                                                                                                                                                                                                                                                                                                                                                                                                                                                                                                                                                                                                                                                                                                                                                                                                                                                                                                                                                                                                                                                                                                                                                                                                                                                                                                                                                                                                                                                                                                                                                                                                                                                                                                                                                                                                                                                                                                                                                                                                                                                                                                                                                                                                                                                                                                                                                                                                                                                                                                                                                                                                                                                                                                As long time fan of all the Star Trek series found this disappointing episode and wonder if the liberal use of flashbacks featuring Will Riker exploits both positive and largely romantic and negative lots of pain and crewmate death was money saving device as were many of their bottle shows episodes in which all scenes take place on the Enterprise Diana Muldaur who also appeared at least twice on the original series deserved better final appearance than this for her character Dr Kate Pulaski Loyal viewers in the Star Trek world is there any other kind also were shortchanged This was the last episode of second season thus the season ended not with bang but with whimper \n",
       "13413                                                                                                                                                                                                                                                                                                                                                                                                                                                                                                                                                                                                                                                                                                                                                                                                                                                                                                                                                                                                                                                                                                                                                                                                                                                                                                                                                                                                                                                                                                                                                                                                                                                                                                                                                                                                                                                                                                                                                                                                                                                                                                                                                                                                                                                                                                                                                                                                                                                                                                               Back in his youth the old man had wanted to marry his first cousin but his family forbid it Many decades later the old man has raised three children two boys and one girl and allows his son and daughter to marry and have children Soon the sister is bored with brother and jumps in the bed of brother One might think that the three siblings are stuck somewhere on remote island But no they are upper class Europeans going to college and busy in the social world Never do we see flirtatious moment between any non related female and the two brothers Never do we see any flirtatious moment between any non related male and the one sister All flirtatious moments are shared between only between the brothers and sister The weakest part of GLADIATOR was the incest thing The young emperor Commodus would have hundreds of slave girls and city full of marriage minded girls all over him but no he only wanted his sister If movie incest is your cup of tea then SUNSHINE will slowly thrill you to no end \n",
       "21879                                                                                                                                                                                                                                                                                                                                                                                                                                                                                                                                                                                                                                                                                                                                                                                                                                                                                                                                                                                                                                                                                                                                                                                                                                                                                                                                                                                                                                                                                                                                                                                                                                                                                                                                                                                                                                                                                                                                                                                                                                                                                                                                                                                                                                                                                                                                                                                                                                                                                                                                                                                                                                                                                                                                                                                                                                                                                                                         This feels like feature lenght treatment of comedy routine that could have also been told in ten minute short Also technical credits are sup par The film really feels like film school diploma project The cast is mix of seasoned stage pros and talented newcomers but the problems is the superficial scrip Their lines feel constructed exactly like cued TV show material The director fails to take his protagonists seriously therefore we are not touched by their problems and conflicts The film has been cleverly marketed and offers unique selling point but in the end the film disappoints on all levels \n",
       "                                                                                                                                                                                                                                                                                                                                                                                                                                                                                                                                                                                                                                                                                                                                                                                                                                                                                                                                                                                                                                                                                                                                                                                                                                                                                                                                                                                                                                                                                                                                                                                                                                                                                                                                                                              ...                                                                                                                                                                                                                                                                                                                                                                                                                                                                                                                                                                                                                                                                                                                                                                                                                                                                                                                                                                                                                                                                                                                                                                                                                                                                                                                                                                                                                                                                                                                                                                                                                                                                                                                                                                      \n",
       "21194                                                                                                                                                                                                                                                                                                                                                                                                                                                                                                                                                                                                                                                                                                                                                                                                                                                                                                                                                                                                                                                                                                                                                                                                                                                                                                                                                                                                                                                                                                                                                                                                                                                                                                                                                                                                                                                                                                                                                                                                                                                                                                                                                                                                                                                                                                                                                                                                                                                             I have to agree that the movie is not the best have ever seen but would like to make mention that the actors portraying Tommy and Jimmy Dorsey were the actual Dorsey brothers As actors they were wonderful musicians The movie based on their famous split would have been better had professional actors played the parts Many movies made during this time frame took advantage of the popularity of Big Bands Most often the movies were not that good because musicians are not actors by trade Most of the movie going audience did not go to see Tommy or Jimmy Dorsey playing themselves they went for the plot and the music have never been much of Dorsey fan but the music is good even today have to comment on previous post regarding the actors who played Mom and Pop Dorsey and that their accents would be considered extreme by Dublin audience Arthur Shields and Sara Allgood were actually Irish actors both born in Dublin You might remember Mr Shields as the Reverend Mr Playfair in The Quiet Man and Ms Allgood as Mrs Monahan in Cheaper By The Dozen \n",
       "11915                                                                                                                                                                                                                                                                                                                                                                                                                                                                                                                                                                                                                                                                                                                                                                                                                                                                                                                                                                                                                                                                                                                                                                                                                                                                                                                                                                                                                                                                                                                                                                                                                                                                                                                                                                                                                                                                                                                                                                                                                                                                                                                                                                                                                                                                                                                                                                                 Anyone who has seen Shine Scott Hicks film of the heartbreaking yet ultimately joyful life of the pianist David Helfgotts will am sure realise that The SOLOIST is very poor in comparison It is as slow as lullaby took five breaks answering emails just to wake up The depiction of the homeless area way over the top and extremely self indulgent on par fear with the awful beach battle depiction in Joe Wrights other disaster Attonment Fox performance was an extremely poor example of acting and lacked credibility from the offset Downey on the other hand although struggling with badly paced film still manages to charm Is it me or is he turning into George Clooney in more ways than one Comparing both these well known so called STAR actors though is unnecessary as the light that shines brightest as far as acting is concerned must be that of shine Geoeffry Rush who is brilliant performance definitely SHONE far brighter in my sky With both Attonment and The Soloist the written word wins far more prizes for empathy of subject Read the book and articles or wait for the DVD its bound to be in the bargain basement soon \n",
       "22823                                                                                                                                                                                                                                                                                                                                                                                                                                                                                                                                                                                                                                                                                                                                                                                                                                                                                                                                                                                                                                                                                                                                                                                                                                                                                                                                                                                                                                                        Wow cannot believe people consider this good movie Now have seen much worse but there are much more romantic funny comedies with John Cusack This is mediocre film at best While the acting was not terrible but not great for romantic comedy there was little passion little romance There were many loose ends that do not show up or are not addressed Unfortunately the main characters do come off as complete cowards They do not know themselves well enough to realize that they do not love the people they are engaged to How do we know they are not in love By the utter lack of remorse both characters have for leaving their finances can think of few things more romantic than the continual escape from commitment that these two show The movie does not even end with wedding scene more than likely both will get cold feet and drop each other like hot potatoes once commitment is nearing This movie is really about two people who cannot commit to anything unlike Cusack previous characters who were more than willing to make deep commitment Loyd in Say Anything Martin in Grosse Pointe Blank etc The greatest failure of this movie was the complete lack of any twists turns or anything of interest When the movie ended felt like they had failed to include climax to the story which basically fits the whole movie boring No suspense about whether the two will end up together no joy when they do no consequences to their actions It is sad that people are so blind to the shoddiness of this movie that they simply rebuke any criticism with Everyone is too Cynical Criticism of this movie is not cynicism simply unbiased examination There are many other better romantic comedies even ones with Grace Kelly or Eva Marie Saint If you think this movie is great try these movies you hearts will explode The Princess Bride Say Anything Grosse Pointe Blank High Fidelity Keeping the Faith Charade Rear Window North by Northwest or There is Something About Mary which is good examination of idealized romance vs today society \n",
       "39908    Follows the usual formula in putting new recruit this time the first African American Cuba Gooding after President Truman desegregates the Armed Forces through the YOU Navy deep sea diver training program that is run by racist zealot Robert DeNiro If the program were not bad enough it is got to be located in Bayonne New Jersey There is nothing wrong with the performances Robert De Niro activates his Southern accent and shouts gibberish effectively Cuba Gooding raised by stern father as poor black farm boy in the South is the expectable paragon of rectitude The girls one could hardly call them women are Charleze Theron and Lonette McKee They have minor roles and are mostly there to argue that their men should exercise common sense Other decent performers Powers Boothe and Hal Holbrook have even more perfunctory roles That is about it Almost everything else could have been assembled by computer ship is called boat Robert De Niro salutes indoors uncovered After brutal assault on hospital personnel he is transferred out of his outfit instead of being busted Somebody shouts am outta here in the early Maybe it was common expression at the time If so my bad People address each other by rank Lieutenant Boatswain Mate Commander as they do in the Army whereas in the Navy they are simple Mister if an officer or addressed by their last name if enlisted did not bother to check if there was rank called Senior Master Chief in Cuba Gooding has tough row to hoe Everyone in the Navy it seems hates Negroes except for one guy from Wisconsin He stutters and is held in contempt by the others in his class It is like the scene in Animal House in which the applicant to tony fraternity is asked to wait in room with Sikh black man and blind kid Gooding is an enlisted man second class petty officer He manages to marry beautiful woman who has just graduated from medical school In one of their arguments she pleads with him She just wants to be doctor and he should join her quit the Navy and lead quiet life And just let life pass you by he retorts Yes Yes just be doctor spouse and let life pass you by You can wave to it from the golf course in Boca Raton These kinds of flicks were common enough in World War II Bombardier Airial Gunner that sort of thing Cheap as they often were they had some educational features You learned something about becoming bombardier or gunner Here the technical details are skipped over perhaps because the writer knew nothing about them except Boyle law which we learned in high school chemistry could not follow what was happening during some of the emergencies without which movie like this would not exist If got the mechanical problems right it was because guessed correctly The direction is no help either The movie abounds in close ups so many that they lose any dramatic impact they might have had And the emergencies are confusing because they are ill focused Why go on Want to see better example of this kind of movie Almost any will do except maybe I Jane in which the abused hero is heroin Try the training camp scenes in The Young Lions There the victim is Jew Or try From Here to Eternity in which no easy sympathy buttons are pushed and the victim is grown man who refuses to bend and who is active in bringing the conflict on just like Cool Hand Luke No easy excuses are offered because easy excuses are too easy Thoroughly formulaic and not well done \n",
       "37692                                                                                                                                                                                                                                                                                                                                                                                                                                                                                                                                                                                                                                                                                                                                                                                                                                                                                                                                                                                                                                                                                                                                                                                                                                                                                                                                                                                                                                                                                                                                                                                                                                                                                                                                                                                                                                                                                                                                                                                                                                                                                                                                                                                                                                                                                                                                                                                                                                                                                                                                                                                                                                                                                                                                                                                                                                                                                                                                                                                                                                                                         First of all the genre of this movie is not comedy it is more of drama had low expectations on the movie and still they did not come up them As some of the other reviews point out there are some nice music in the movie But if you want to listen to good music suggest spend the time looking at some concert recording with Bon Jovi or tley Crue it will be more quality time Last if you want to watch GOOD movie in this rock roll genre recommend Almost Famous \n",
       "Name: CleanedText, Length: 549, dtype: object"
      ]
     },
     "execution_count": 25,
     "metadata": {},
     "output_type": "execute_result"
    }
   ],
   "source": [
    "# FALSE POSITIVE\n",
    "X_test[(y_test==0) & (y_pred ==1)]\n",
    "\n",
    "# Same as\n",
    "# X_test[y_pred_class > y_test==0]"
   ]
  },
  {
   "cell_type": "code",
   "execution_count": 26,
   "id": "6fc83f46-0725-4a8a-9c83-4a630ea64c71",
   "metadata": {
    "tags": []
   },
   "outputs": [
    {
     "data": {
      "text/plain": [
       "array([[0.41638782, 0.58361218],\n",
       "       [0.24468108, 0.75531892],\n",
       "       [0.91813651, 0.08186349],\n",
       "       [0.16546289, 0.83453711],\n",
       "       [0.6851621 , 0.3148379 ],\n",
       "       [0.14263684, 0.85736316],\n",
       "       [0.16284902, 0.83715098],\n",
       "       [0.62790198, 0.37209802],\n",
       "       [0.71330229, 0.28669771],\n",
       "       [0.80077332, 0.19922668],\n",
       "       [0.84235302, 0.15764698],\n",
       "       [0.22153957, 0.77846043],\n",
       "       [0.92900112, 0.07099888],\n",
       "       [0.84877965, 0.15122035],\n",
       "       [0.92979544, 0.07020456],\n",
       "       [0.41430541, 0.58569459],\n",
       "       [0.4930601 , 0.5069399 ],\n",
       "       [0.42886955, 0.57113045],\n",
       "       [0.46273585, 0.53726415],\n",
       "       [0.58731703, 0.41268297]])"
      ]
     },
     "execution_count": 26,
     "metadata": {},
     "output_type": "execute_result"
    }
   ],
   "source": [
    "# Calculate the predicted proobabilities for X_test\n",
    "mnb.predict_proba(test_matrix)[:20]"
   ]
  },
  {
   "cell_type": "code",
   "execution_count": 27,
   "id": "5e03595f-7baf-4d7b-8aaf-992a5db1d321",
   "metadata": {
    "tags": []
   },
   "outputs": [
    {
     "data": {
      "text/plain": [
       "(10000, 2)"
      ]
     },
     "execution_count": 27,
     "metadata": {},
     "output_type": "execute_result"
    }
   ],
   "source": [
    "mnb.predict_proba(test_matrix).shape"
   ]
  },
  {
   "cell_type": "code",
   "execution_count": 28,
   "id": "9d9cb8b9-79d1-4e65-957d-b52d9e33886f",
   "metadata": {
    "tags": []
   },
   "outputs": [
    {
     "data": {
      "text/plain": [
       "array([0.58361218, 0.75531892, 0.08186349, ..., 0.50795688, 0.33760579,\n",
       "       0.49727555])"
      ]
     },
     "execution_count": 28,
     "metadata": {},
     "output_type": "execute_result"
    }
   ],
   "source": [
    "# Calculate the predicted probabilities for X-test_dtm (poorly caliberated)\n",
    "# why 1\n",
    "# positive class\n",
    "y_pred_proba = mnb.predict_proba(test_matrix)[:, 1]\n",
    "y_pred_proba"
   ]
  },
  {
   "cell_type": "code",
   "execution_count": 29,
   "id": "1933856b-263c-47e7-bc10-7ea3eb2aac75",
   "metadata": {
    "tags": []
   },
   "outputs": [
    {
     "name": "stdout",
     "output_type": "stream",
     "text": [
      "(10000,)\n",
      "(10000,)\n"
     ]
    }
   ],
   "source": [
    "print(y_test.shape)\n",
    "print(y_pred_proba.shape)"
   ]
  },
  {
   "cell_type": "code",
   "execution_count": 30,
   "id": "1d11fd84-2c39-49d2-b55e-f970e49c7f1c",
   "metadata": {
    "tags": []
   },
   "outputs": [],
   "source": [
    "from sklearn.metrics import roc_auc_score, roc_curve"
   ]
  },
  {
   "cell_type": "code",
   "execution_count": 31,
   "id": "a2efe093-fbbd-4a2b-b3e5-42a3ca0fe426",
   "metadata": {
    "tags": []
   },
   "outputs": [
    {
     "data": {
      "text/plain": [
       "0.939730893227544"
      ]
     },
     "execution_count": 31,
     "metadata": {},
     "output_type": "execute_result"
    }
   ],
   "source": [
    "# Calculate AUC\n",
    "\n",
    "roc_auc_score(y_test, y_pred_proba)"
   ]
  },
  {
   "cell_type": "code",
   "execution_count": 32,
   "id": "1166540f-06b2-4695-b234-e2c8ce9a79a9",
   "metadata": {
    "tags": []
   },
   "outputs": [
    {
     "data": {
      "image/png": "[encoded data removed]",
      "text/plain": [
       "<Figure size 640x480 with 1 Axes>"
      ]
     },
     "metadata": {},
     "output_type": "display_data"
    }
   ],
   "source": [
    "import matplotlib.pyplot as plt\n",
    "y_pred_proba = mnb.predict_proba(test_matrix)[:,1]\n",
    "\n",
    "# sklearn.metrics.roc_curve(y_true, y_score, pos_label=None, sample_weight=None, drop_intermediate=True)\n",
    "# sklearn.metrics.roc_curve(y_true, y_score, pos_label=None)\n",
    "fpr, tpr, _ = roc_curve(y_test,  y_pred_proba)\n",
    "\n",
    "auc = roc_auc_score(y_test, y_pred_proba)\n",
    "\n",
    "plt.plot(fpr,tpr,label=\"SMS - Spam detection, auc=\"+str(auc))\n",
    "plt.legend(loc=4)\n",
    "plt.grid();"
   ]
  },
  {
   "cell_type": "markdown",
   "id": "4507d5c6-ba4e-4e6b-911c-59696975a1b5",
   "metadata": {},
   "source": [
    "#### Explore the most freq pos/neg words in terms of TF-IDF score"
   ]
  },
  {
   "cell_type": "code",
   "execution_count": 34,
   "id": "57509571-f185-4472-a86f-6fb78f49248c",
   "metadata": {
    "tags": []
   },
   "outputs": [],
   "source": [
    "# Get feature names and TF-IDF scores\n",
    "feature_names = vectorizer.get_feature_names_out()"
   ]
  },
  {
   "cell_type": "code",
   "execution_count": 35,
   "id": "aa20ef89-aaa8-4264-846d-e598e5db2ef5",
   "metadata": {
    "tags": []
   },
   "outputs": [
    {
     "data": {
      "text/plain": [
       "array(['aa', 'aaa', 'aaaaaaaaaaaahhhhhhhhhhhhhh', ...,\n",
       "       'zzzzzzzzzzzzzzzzzz', 'zzzzzzzzzzzzzzzzzzzzzzzzzzzzzzz',\n",
       "       'zzzzzzzzzzzzzzzzzzzzzzzzzzzzzzzzzzzzzzzzzzzz'], dtype=object)"
      ]
     },
     "execution_count": 35,
     "metadata": {},
     "output_type": "execute_result"
    }
   ],
   "source": [
    "feature_names"
   ]
  },
  {
   "cell_type": "code",
   "execution_count": 36,
   "id": "b0d7230e-b3fa-4d6e-81ad-e2c24fc4288e",
   "metadata": {
    "tags": []
   },
   "outputs": [],
   "source": [
    "tfidf_scores = train_matrix.sum(axis=0).A1"
   ]
  },
  {
   "cell_type": "code",
   "execution_count": 37,
   "id": "34fb7a05-2947-41c7-aa53-99280f7d7f3e",
   "metadata": {
    "tags": []
   },
   "outputs": [
    {
     "data": {
      "text/plain": [
       "array([1.15005654, 1.27843966, 0.18720668, ..., 0.22067006, 0.15619112,\n",
       "       0.15619112])"
      ]
     },
     "execution_count": 37,
     "metadata": {},
     "output_type": "execute_result"
    }
   ],
   "source": [
    "tfidf_scores"
   ]
  },
  {
   "cell_type": "code",
   "execution_count": 38,
   "id": "089c86ef-865a-4c01-b79a-e5d44c47f774",
   "metadata": {
    "tags": []
   },
   "outputs": [],
   "source": [
    "# Create a DataFrame to display the top 100 words and their TF-IDF scores\n",
    "df_tfidf = pd.DataFrame({'Word': feature_names, 'TF-IDF Score': tfidf_scores})\n",
    "df_tfidf = df_tfidf.sort_values(by='TF-IDF Score', ascending=False).head(100)"
   ]
  },
  {
   "cell_type": "code",
   "execution_count": 39,
   "id": "d52d1ca8-966c-4fea-b8b7-9be395aa9d28",
   "metadata": {
    "tags": []
   },
   "outputs": [
    {
     "data": {
      "text/html": [
       "<div>\n",
       "<style scoped>\n",
       "    .dataframe tbody tr th:only-of-type {\n",
       "        vertical-align: middle;\n",
       "    }\n",
       "\n",
       "    .dataframe tbody tr th {\n",
       "        vertical-align: top;\n",
       "    }\n",
       "\n",
       "    .dataframe thead th {\n",
       "        text-align: right;\n",
       "    }\n",
       "</style>\n",
       "<table border=\"1\" class=\"dataframe\">\n",
       "  <thead>\n",
       "    <tr style=\"text-align: right;\">\n",
       "      <th></th>\n",
       "      <th>Word</th>\n",
       "      <th>TF-IDF Score</th>\n",
       "    </tr>\n",
       "  </thead>\n",
       "  <tbody>\n",
       "    <tr>\n",
       "      <th>81570</th>\n",
       "      <td>the</td>\n",
       "      <td>6873.427064</td>\n",
       "    </tr>\n",
       "    <tr>\n",
       "      <th>2724</th>\n",
       "      <td>and</td>\n",
       "      <td>3465.386107</td>\n",
       "    </tr>\n",
       "    <tr>\n",
       "      <th>41669</th>\n",
       "      <td>is</td>\n",
       "      <td>3124.087232</td>\n",
       "    </tr>\n",
       "    <tr>\n",
       "      <th>57137</th>\n",
       "      <td>of</td>\n",
       "      <td>3089.230865</td>\n",
       "    </tr>\n",
       "    <tr>\n",
       "      <th>82644</th>\n",
       "      <td>to</td>\n",
       "      <td>2915.433749</td>\n",
       "    </tr>\n",
       "    <tr>\n",
       "      <th>...</th>\n",
       "      <td>...</td>\n",
       "      <td>...</td>\n",
       "    </tr>\n",
       "    <tr>\n",
       "      <th>73474</th>\n",
       "      <td>show</td>\n",
       "      <td>413.350368</td>\n",
       "    </tr>\n",
       "    <tr>\n",
       "      <th>41268</th>\n",
       "      <td>into</td>\n",
       "      <td>408.015229</td>\n",
       "    </tr>\n",
       "    <tr>\n",
       "      <th>81686</th>\n",
       "      <td>then</td>\n",
       "      <td>407.815372</td>\n",
       "    </tr>\n",
       "    <tr>\n",
       "      <th>89206</th>\n",
       "      <td>way</td>\n",
       "      <td>404.788897</td>\n",
       "    </tr>\n",
       "    <tr>\n",
       "      <th>61892</th>\n",
       "      <td>plot</td>\n",
       "      <td>404.477495</td>\n",
       "    </tr>\n",
       "  </tbody>\n",
       "</table>\n",
       "<p>100 rows × 2 columns</p>\n",
       "</div>"
      ],
      "text/plain": [
       "       Word  TF-IDF Score\n",
       "81570   the   6873.427064\n",
       "2724    and   3465.386107\n",
       "41669    is   3124.087232\n",
       "57137    of   3089.230865\n",
       "82644    to   2915.433749\n",
       "...     ...           ...\n",
       "73474  show    413.350368\n",
       "41268  into    408.015229\n",
       "81686  then    407.815372\n",
       "89206   way    404.788897\n",
       "61892  plot    404.477495\n",
       "\n",
       "[100 rows x 2 columns]"
      ]
     },
     "execution_count": 39,
     "metadata": {},
     "output_type": "execute_result"
    }
   ],
   "source": [
    "df_tfidf"
   ]
  },
  {
   "cell_type": "markdown",
   "id": "3d4fe4ab-8dd9-4a65-bd3b-ea871496e979",
   "metadata": {},
   "source": [
    "#### Conclusion\n",
    "- improved results compared to count\n",
    "- many of the top words are common among the positive and negative comments\n",
    "- many top words seem like stop words\n",
    "- need for more pre-processing\n",
    "- need for a better vectorizer"
   ]
  },
  {
   "cell_type": "code",
   "execution_count": null,
   "id": "4ebeb299-76a3-43c9-80a8-a08398e27ec2",
   "metadata": {},
   "outputs": [],
   "source": []
  }
 ],
 "metadata": {
  "kernelspec": {
   "display_name": "Python 3 (ipykernel)",
   "language": "python",
   "name": "python3"
  },
  "language_info": {
   "codemirror_mode": {
    "name": "ipython",
    "version": 3
   },
   "file_extension": ".py",
   "mimetype": "text/x-python",
   "name": "python",
   "nbconvert_exporter": "python",
   "pygments_lexer": "ipython3",
   "version": "3.11.5"
  }
 },
 "nbformat": 4,
 "nbformat_minor": 5
}
