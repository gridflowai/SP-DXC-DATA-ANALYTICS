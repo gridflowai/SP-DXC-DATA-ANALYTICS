{
 "cells": [
  {
   "cell_type": "code",
   "execution_count": 1,
   "id": "588680c6-379f-49e1-8514-854308a440b5",
   "metadata": {
    "tags": []
   },
   "outputs": [],
   "source": [
    "import numpy as np\n",
    "from scipy.stats import kruskal, friedmanchisquare"
   ]
  },
  {
   "cell_type": "code",
   "execution_count": 2,
   "id": "a6cbb49f-d336-4446-a4d3-ffb27ff948e6",
   "metadata": {
    "tags": []
   },
   "outputs": [],
   "source": [
    "# Generate example data for Kruskal-Wallis test\n",
    "group1 = np.random.normal(0, 1, 30)\n",
    "group2 = np.random.normal(0, 1.5, 30)\n",
    "group3 = np.random.normal(0, 2, 30)"
   ]
  },
  {
   "cell_type": "code",
   "execution_count": 3,
   "id": "1b53aaa9-8f2c-42e4-a13a-c23ebaaa9fe0",
   "metadata": {
    "tags": []
   },
   "outputs": [],
   "source": [
    "# Perform Kruskal-Wallis test\n",
    "kruskal_statistic, kruskal_p_value = kruskal(group1, group2, group3)"
   ]
  },
  {
   "cell_type": "code",
   "execution_count": 4,
   "id": "965bd264-a13c-4d78-a03d-9732eb3cde81",
   "metadata": {
    "tags": []
   },
   "outputs": [
    {
     "name": "stdout",
     "output_type": "stream",
     "text": [
      "Kruskal-Wallis Test:\n",
      "Test Statistic: 0.30007326007324764\n",
      "P-value: 0.8606764492377834\n"
     ]
    }
   ],
   "source": [
    "# Print Kruskal-Wallis test results\n",
    "print(\"Kruskal-Wallis Test:\")\n",
    "print(f\"Test Statistic: {kruskal_statistic}\")\n",
    "print(f\"P-value: {kruskal_p_value}\")"
   ]
  },
  {
   "cell_type": "code",
   "execution_count": 5,
   "id": "480a990b-2133-4adb-a56a-b7d1acb0854e",
   "metadata": {
    "tags": []
   },
   "outputs": [
    {
     "name": "stdout",
     "output_type": "stream",
     "text": [
      "\n",
      "Friedman Test:\n",
      "Test Statistic: 1.4000000000000057\n",
      "P-value: 0.496585303791408\n"
     ]
    }
   ],
   "source": [
    "# Generate example data for Friedman test (repeated measures)\n",
    "data_matrix = np.random.rand(10, 3)\n",
    "\n",
    "# Perform Friedman test\n",
    "friedman_statistic, friedman_p_value = friedmanchisquare(*data_matrix.T)\n",
    "\n",
    "# Print Friedman test results\n",
    "print(\"\\nFriedman Test:\")\n",
    "print(f\"Test Statistic: {friedman_statistic}\")\n",
    "print(f\"P-value: {friedman_p_value}\")"
   ]
  },
  {
   "cell_type": "code",
   "execution_count": null,
   "id": "002b09c6-b9ff-4c35-8b26-1e3bec20ac50",
   "metadata": {},
   "outputs": [],
   "source": []
  }
 ],
 "metadata": {
  "kernelspec": {
   "display_name": "Python 3 (ipykernel)",
   "language": "python",
   "name": "python3"
  },
  "language_info": {
   "codemirror_mode": {
    "name": "ipython",
    "version": 3
   },
   "file_extension": ".py",
   "mimetype": "text/x-python",
   "name": "python",
   "nbconvert_exporter": "python",
   "pygments_lexer": "ipython3",
   "version": "3.11.5"
  }
 },
 "nbformat": 4,
 "nbformat_minor": 5
}
