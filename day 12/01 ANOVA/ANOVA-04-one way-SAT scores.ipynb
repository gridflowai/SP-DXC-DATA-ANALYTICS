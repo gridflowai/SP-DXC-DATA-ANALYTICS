{
 "cells": [
  {
   "cell_type": "code",
   "execution_count": 4,
   "metadata": {},
   "outputs": [],
   "source": [
    "import numpy as np\n",
    "import pandas as pd\n",
    "from scipy import stats\n",
    "\n",
    "import statsmodels\n",
    "import statsmodels.api as sm\n",
    "from statsmodels.formula.api import ols\n",
    "\n",
    "import matplotlib.pyplot as plt\n",
    "from pandas.plotting import scatter_matrix\n",
    "%matplotlib inline \n",
    "\n",
    "import seaborn as sns\n",
    "sns.set(style=\"white\", color_codes=True)\n",
    "sns.set(font_scale=1.5)"
   ]
  },
  {
   "cell_type": "code",
   "execution_count": 5,
   "metadata": {},
   "outputs": [
    {
     "name": "stdout",
     "output_type": "stream",
     "text": [
      "Python: 3.7.6 (default, Jan  8 2020, 20:23:39) [MSC v.1916 64 bit (AMD64)]\n",
      "scipy: 1.4.1\n",
      "numpy: 1.18.2\n",
      "matplotlib: 3.2.1\n",
      "pandas: 1.0.1\n"
     ]
    }
   ],
   "source": [
    "# Python version\n",
    "import sys\n",
    "print('Python: {}'.format(sys.version))\n",
    "# scipy\n",
    "import scipy\n",
    "print('scipy: {}'.format(scipy.__version__))\n",
    "# numpy\n",
    "import numpy\n",
    "print('numpy: {}'.format(numpy.__version__))\n",
    "# matplotlib\n",
    "import matplotlib\n",
    "print('matplotlib: {}'.format(matplotlib.__version__))\n",
    "# pandas\n",
    "import pandas\n",
    "print('pandas: {}'.format(pandas.__version__))"
   ]
  },
  {
   "cell_type": "markdown",
   "metadata": {},
   "source": [
    "- An Analysis of Variance Test or an ANOVA is a generalization of the t-tests to more than 2 groups. \n",
    "- Our null hypothesis states that there are __equal means__ in the populations from which the groups of data were sampled. \n",
    "\n",
    "- More succinctly:\n",
    "\n",
    "$𝜇_1 = 𝜇_2 = ... = 𝜇_𝑛$\n",
    "for 𝑛 groups of data. \n",
    "\n",
    "- Our alternative hypothesis would be that any one of the equivalences in the above equation fail to be met."
   ]
  },
  {
   "cell_type": "code",
   "execution_count": 6,
   "metadata": {},
   "outputs": [],
   "source": [
    "location = r\"E:\\MYLEARN\\2-ANALYTICS-DataScience\\datasets\\scores.csv\""
   ]
  },
  {
   "cell_type": "code",
   "execution_count": 7,
   "metadata": {},
   "outputs": [
    {
     "data": {
      "text/html": [
       "<div>\n",
       "<style scoped>\n",
       "    .dataframe tbody tr th:only-of-type {\n",
       "        vertical-align: middle;\n",
       "    }\n",
       "\n",
       "    .dataframe tbody tr th {\n",
       "        vertical-align: top;\n",
       "    }\n",
       "\n",
       "    .dataframe thead th {\n",
       "        text-align: right;\n",
       "    }\n",
       "</style>\n",
       "<table border=\"1\" class=\"dataframe\">\n",
       "  <thead>\n",
       "    <tr style=\"text-align: right;\">\n",
       "      <th></th>\n",
       "      <th>School ID</th>\n",
       "      <th>School Name</th>\n",
       "      <th>Borough</th>\n",
       "      <th>Building Code</th>\n",
       "      <th>Street Address</th>\n",
       "      <th>City</th>\n",
       "      <th>State</th>\n",
       "      <th>Zip Code</th>\n",
       "      <th>Latitude</th>\n",
       "      <th>Longitude</th>\n",
       "      <th>...</th>\n",
       "      <th>End Time</th>\n",
       "      <th>Student Enrollment</th>\n",
       "      <th>Percent White</th>\n",
       "      <th>Percent Black</th>\n",
       "      <th>Percent Hispanic</th>\n",
       "      <th>Percent Asian</th>\n",
       "      <th>Average Score (SAT Math)</th>\n",
       "      <th>Average Score (SAT Reading)</th>\n",
       "      <th>Average Score (SAT Writing)</th>\n",
       "      <th>Percent Tested</th>\n",
       "    </tr>\n",
       "  </thead>\n",
       "  <tbody>\n",
       "    <tr>\n",
       "      <th>0</th>\n",
       "      <td>02M260</td>\n",
       "      <td>Clinton School Writers and Artists</td>\n",
       "      <td>Manhattan</td>\n",
       "      <td>M933</td>\n",
       "      <td>425 West 33rd Street</td>\n",
       "      <td>Manhattan</td>\n",
       "      <td>NY</td>\n",
       "      <td>10001</td>\n",
       "      <td>40.75321</td>\n",
       "      <td>-73.99786</td>\n",
       "      <td>...</td>\n",
       "      <td>NaN</td>\n",
       "      <td>NaN</td>\n",
       "      <td>NaN</td>\n",
       "      <td>NaN</td>\n",
       "      <td>NaN</td>\n",
       "      <td>NaN</td>\n",
       "      <td>NaN</td>\n",
       "      <td>NaN</td>\n",
       "      <td>NaN</td>\n",
       "      <td>NaN</td>\n",
       "    </tr>\n",
       "    <tr>\n",
       "      <th>1</th>\n",
       "      <td>06M211</td>\n",
       "      <td>Inwood Early College for Health and Informatio...</td>\n",
       "      <td>Manhattan</td>\n",
       "      <td>M052</td>\n",
       "      <td>650 Academy Street</td>\n",
       "      <td>Manhattan</td>\n",
       "      <td>NY</td>\n",
       "      <td>10002</td>\n",
       "      <td>40.86605</td>\n",
       "      <td>-73.92486</td>\n",
       "      <td>...</td>\n",
       "      <td>3:00 PM</td>\n",
       "      <td>87.0</td>\n",
       "      <td>3.4%</td>\n",
       "      <td>21.8%</td>\n",
       "      <td>67.8%</td>\n",
       "      <td>4.6%</td>\n",
       "      <td>NaN</td>\n",
       "      <td>NaN</td>\n",
       "      <td>NaN</td>\n",
       "      <td>NaN</td>\n",
       "    </tr>\n",
       "    <tr>\n",
       "      <th>2</th>\n",
       "      <td>01M539</td>\n",
       "      <td>New Explorations into Science, Technology and ...</td>\n",
       "      <td>Manhattan</td>\n",
       "      <td>M022</td>\n",
       "      <td>111 Columbia Street</td>\n",
       "      <td>Manhattan</td>\n",
       "      <td>NY</td>\n",
       "      <td>10002</td>\n",
       "      <td>40.71873</td>\n",
       "      <td>-73.97943</td>\n",
       "      <td>...</td>\n",
       "      <td>4:00 PM</td>\n",
       "      <td>1735.0</td>\n",
       "      <td>28.6%</td>\n",
       "      <td>13.3%</td>\n",
       "      <td>18.0%</td>\n",
       "      <td>38.5%</td>\n",
       "      <td>657.0</td>\n",
       "      <td>601.0</td>\n",
       "      <td>601.0</td>\n",
       "      <td>91.0%</td>\n",
       "    </tr>\n",
       "    <tr>\n",
       "      <th>3</th>\n",
       "      <td>02M294</td>\n",
       "      <td>Essex Street Academy</td>\n",
       "      <td>Manhattan</td>\n",
       "      <td>M445</td>\n",
       "      <td>350 Grand Street</td>\n",
       "      <td>Manhattan</td>\n",
       "      <td>NY</td>\n",
       "      <td>10002</td>\n",
       "      <td>40.71687</td>\n",
       "      <td>-73.98953</td>\n",
       "      <td>...</td>\n",
       "      <td>2:45 PM</td>\n",
       "      <td>358.0</td>\n",
       "      <td>11.7%</td>\n",
       "      <td>38.5%</td>\n",
       "      <td>41.3%</td>\n",
       "      <td>5.9%</td>\n",
       "      <td>395.0</td>\n",
       "      <td>411.0</td>\n",
       "      <td>387.0</td>\n",
       "      <td>78.9%</td>\n",
       "    </tr>\n",
       "    <tr>\n",
       "      <th>4</th>\n",
       "      <td>02M308</td>\n",
       "      <td>Lower Manhattan Arts Academy</td>\n",
       "      <td>Manhattan</td>\n",
       "      <td>M445</td>\n",
       "      <td>350 Grand Street</td>\n",
       "      <td>Manhattan</td>\n",
       "      <td>NY</td>\n",
       "      <td>10002</td>\n",
       "      <td>40.71687</td>\n",
       "      <td>-73.98953</td>\n",
       "      <td>...</td>\n",
       "      <td>3:00 PM</td>\n",
       "      <td>383.0</td>\n",
       "      <td>3.1%</td>\n",
       "      <td>28.2%</td>\n",
       "      <td>56.9%</td>\n",
       "      <td>8.6%</td>\n",
       "      <td>418.0</td>\n",
       "      <td>428.0</td>\n",
       "      <td>415.0</td>\n",
       "      <td>65.1%</td>\n",
       "    </tr>\n",
       "  </tbody>\n",
       "</table>\n",
       "<p>5 rows × 22 columns</p>\n",
       "</div>"
      ],
      "text/plain": [
       "  School ID                                        School Name    Borough  \\\n",
       "0    02M260                 Clinton School Writers and Artists  Manhattan   \n",
       "1    06M211  Inwood Early College for Health and Informatio...  Manhattan   \n",
       "2    01M539  New Explorations into Science, Technology and ...  Manhattan   \n",
       "3    02M294                               Essex Street Academy  Manhattan   \n",
       "4    02M308                       Lower Manhattan Arts Academy  Manhattan   \n",
       "\n",
       "  Building Code        Street Address       City State  Zip Code  Latitude  \\\n",
       "0          M933  425 West 33rd Street  Manhattan    NY     10001  40.75321   \n",
       "1          M052    650 Academy Street  Manhattan    NY     10002  40.86605   \n",
       "2          M022   111 Columbia Street  Manhattan    NY     10002  40.71873   \n",
       "3          M445      350 Grand Street  Manhattan    NY     10002  40.71687   \n",
       "4          M445      350 Grand Street  Manhattan    NY     10002  40.71687   \n",
       "\n",
       "   Longitude  ... End Time Student Enrollment Percent White  Percent Black  \\\n",
       "0  -73.99786  ...      NaN                NaN           NaN            NaN   \n",
       "1  -73.92486  ...  3:00 PM               87.0          3.4%          21.8%   \n",
       "2  -73.97943  ...  4:00 PM             1735.0         28.6%          13.3%   \n",
       "3  -73.98953  ...  2:45 PM              358.0         11.7%          38.5%   \n",
       "4  -73.98953  ...  3:00 PM              383.0          3.1%          28.2%   \n",
       "\n",
       "  Percent Hispanic Percent Asian Average Score (SAT Math)  \\\n",
       "0              NaN           NaN                      NaN   \n",
       "1            67.8%          4.6%                      NaN   \n",
       "2            18.0%         38.5%                    657.0   \n",
       "3            41.3%          5.9%                    395.0   \n",
       "4            56.9%          8.6%                    418.0   \n",
       "\n",
       "  Average Score (SAT Reading)  Average Score (SAT Writing)  Percent Tested  \n",
       "0                         NaN                          NaN             NaN  \n",
       "1                         NaN                          NaN             NaN  \n",
       "2                       601.0                        601.0           91.0%  \n",
       "3                       411.0                        387.0           78.9%  \n",
       "4                       428.0                        415.0           65.1%  \n",
       "\n",
       "[5 rows x 22 columns]"
      ]
     },
     "execution_count": 7,
     "metadata": {},
     "output_type": "execute_result"
    }
   ],
   "source": [
    "data = pd.read_csv(location)\n",
    "data.head()"
   ]
  },
  {
   "cell_type": "code",
   "execution_count": 8,
   "metadata": {},
   "outputs": [
    {
     "data": {
      "text/plain": [
       "Brooklyn         121\n",
       "Bronx            118\n",
       "Manhattan        106\n",
       "Queens            80\n",
       "Staten Island     10\n",
       "Name: Borough, dtype: int64"
      ]
     },
     "execution_count": 8,
     "metadata": {},
     "output_type": "execute_result"
    }
   ],
   "source": [
    "data['Borough'].value_counts()"
   ]
  },
  {
   "cell_type": "markdown",
   "metadata": {},
   "source": [
    "Creating New Columns\n",
    "There is no total score column, so we'll have to create it. In addition, we'll have to find the mean score of the each district across all schools."
   ]
  },
  {
   "cell_type": "code",
   "execution_count": 9,
   "metadata": {},
   "outputs": [
    {
     "data": {
      "text/html": [
       "<div>\n",
       "<style scoped>\n",
       "    .dataframe tbody tr th:only-of-type {\n",
       "        vertical-align: middle;\n",
       "    }\n",
       "\n",
       "    .dataframe tbody tr th {\n",
       "        vertical-align: top;\n",
       "    }\n",
       "\n",
       "    .dataframe thead th {\n",
       "        text-align: right;\n",
       "    }\n",
       "</style>\n",
       "<table border=\"1\" class=\"dataframe\">\n",
       "  <thead>\n",
       "    <tr style=\"text-align: right;\">\n",
       "      <th></th>\n",
       "      <th>Borough</th>\n",
       "      <th>total_score</th>\n",
       "    </tr>\n",
       "  </thead>\n",
       "  <tbody>\n",
       "    <tr>\n",
       "      <th>2</th>\n",
       "      <td>Manhattan</td>\n",
       "      <td>1859.0</td>\n",
       "    </tr>\n",
       "    <tr>\n",
       "      <th>3</th>\n",
       "      <td>Manhattan</td>\n",
       "      <td>1193.0</td>\n",
       "    </tr>\n",
       "    <tr>\n",
       "      <th>4</th>\n",
       "      <td>Manhattan</td>\n",
       "      <td>1261.0</td>\n",
       "    </tr>\n",
       "    <tr>\n",
       "      <th>5</th>\n",
       "      <td>Manhattan</td>\n",
       "      <td>1529.0</td>\n",
       "    </tr>\n",
       "    <tr>\n",
       "      <th>6</th>\n",
       "      <td>Manhattan</td>\n",
       "      <td>1197.0</td>\n",
       "    </tr>\n",
       "  </tbody>\n",
       "</table>\n",
       "</div>"
      ],
      "text/plain": [
       "     Borough  total_score\n",
       "2  Manhattan       1859.0\n",
       "3  Manhattan       1193.0\n",
       "4  Manhattan       1261.0\n",
       "5  Manhattan       1529.0\n",
       "6  Manhattan       1197.0"
      ]
     },
     "execution_count": 9,
     "metadata": {},
     "output_type": "execute_result"
    }
   ],
   "source": [
    "data['total_score'] = data['Average Score (SAT Reading)'] +  \\\n",
    "                      data['Average Score (SAT Math)']    +  \\\n",
    "                      data['Average Score (SAT Writing)']\n",
    "        \n",
    "data = data[['Borough', 'total_score']].dropna()   \n",
    "\n",
    "data.head()"
   ]
  },
  {
   "cell_type": "code",
   "execution_count": 10,
   "metadata": {},
   "outputs": [
    {
     "data": {
      "text/plain": [
       "117    1164.0\n",
       "118    1227.0\n",
       "119    1202.0\n",
       "120    1100.0\n",
       "121    1203.0\n",
       "        ...  \n",
       "228    1165.0\n",
       "230    1210.0\n",
       "231    1273.0\n",
       "232    1255.0\n",
       "233    1192.0\n",
       "Name: total_score, Length: 98, dtype: float64"
      ]
     },
     "execution_count": 10,
     "metadata": {},
     "output_type": "execute_result"
    }
   ],
   "source": [
    "data[data['Borough'] == 'Bronx']['total_score']"
   ]
  },
  {
   "cell_type": "code",
   "execution_count": 11,
   "metadata": {},
   "outputs": [],
   "source": [
    "x = ['Brooklyn', 'Bronx', 'Manhattan', 'Queens', 'Staten Island']\n",
    "\n",
    "district_dict = {}\n",
    "\n",
    "# Assigns each test score series to a dictionary key\n",
    "for district in x:\n",
    "    district_dict[district] = data[data['Borough'] == district]['total_score']\n"
   ]
  },
  {
   "cell_type": "code",
   "execution_count": 12,
   "metadata": {},
   "outputs": [
    {
     "name": "stdout",
     "output_type": "stream",
     "text": [
      "Brooklyn_std : 154.8684270520867\n",
      "Bronx_std : 150.39390071890668\n",
      "Manhattan_std : 230.2941395363782\n",
      "Queens_std : 195.25289850192115\n",
      "Staten Island_std : 222.30359621222706\n"
     ]
    },
    {
     "data": {
      "text/plain": [
       "Text(0, 0.5, 'Average Total SAT Score')"
      ]
     },
     "execution_count": 12,
     "metadata": {},
     "output_type": "execute_result"
    },
    {
     "data": {
      "image/png": "[encoded data removed]",
      "text/plain": [
       "<Figure size 720x360 with 1 Axes>"
      ]
     },
     "metadata": {},
     "output_type": "display_data"
    }
   ],
   "source": [
    "y = []\n",
    "yerror = []\n",
    "\n",
    "# Assigns the mean score and 95% confidence limit to each district\n",
    "for district in x:\n",
    "    y.append(district_dict[district].mean())\n",
    "    \n",
    "    yerror.append(1.96 * district_dict[district].std()/np.sqrt(district_dict[district].shape[0]))    \n",
    "    \n",
    "    print(district + '_std : {}'.format(district_dict[district].std()))\n",
    "    \n",
    "sns.set(font_scale=1.8)\n",
    "fig = plt.figure(figsize=(10,5))\n",
    "ax = sns.barplot(x, y, yerr=yerror)\n",
    "ax.set_ylabel('Average Total SAT Score')"
   ]
  },
  {
   "cell_type": "markdown",
   "metadata": {},
   "source": [
    "- average SAT scores are quite different for each district. \n",
    "- We are interested in knowing if this is caused by random variation in data, or if there is an underlying cause. \n",
    "- Since we have 5 different groups, we cannot use the t-test. \n",
    "- Also note that the standard deviation of each group are also very different, so we've violated one of our assumpions. \n",
    "- we are going to use the 1-way ANOVA test\n",
    "\n",
    "__The Null hypothesis:-__\n",
    "There are no significant differences between the groups' mean SAT scores.\n",
    "$ H_0 : μ1=μ2=μ3=μ4=μ5$ \n",
    "\n",
    "\n",
    "__and Alternative Hypothesis :-__\n",
    "There is a significant difference between the groups' mean SAT scores.\n",
    "$H_A : μi≠μj$\n",
    "\n",
    "Where μi and μj can be the mean of any group. \n",
    "\n",
    "If there is at least one group with a significant difference with another group, the null hypothesis will be rejected.\n",
    "\n",
    "#### 1-way ANOVA\n",
    "Similar to the t-test, we can calculate a score for the ANOVA. Then we can look up the score in the F-distribution and obtain a p-value.\n",
    "\n",
    "_This is quite a lot of math, fortunately scipy has a function that plugs in all the values for us._ "
   ]
  },
  {
   "cell_type": "code",
   "execution_count": 14,
   "metadata": {},
   "outputs": [
    {
     "data": {
      "text/plain": [
       "F_onewayResult(statistic=12.733085029201668, pvalue=1.0161974965566023e-09)"
      ]
     },
     "execution_count": 14,
     "metadata": {},
     "output_type": "execute_result"
    }
   ],
   "source": [
    "stats.f_oneway(\n",
    "             district_dict['Brooklyn'], district_dict['Bronx'], \\\n",
    "             district_dict['Manhattan'], district_dict['Queens'], \\\n",
    "             district_dict['Staten Island']\n",
    ")"
   ]
  },
  {
   "cell_type": "markdown",
   "metadata": {},
   "source": [
    "The resulting pvalue was less than 0.05. We can reject the null hypothesis and conclude that there is a significant difference between the SAT scores for each district. "
   ]
  },
  {
   "cell_type": "code",
   "execution_count": null,
   "metadata": {},
   "outputs": [],
   "source": []
  },
  {
   "cell_type": "code",
   "execution_count": null,
   "metadata": {},
   "outputs": [],
   "source": []
  }
 ],
 "metadata": {
  "kernelspec": {
   "display_name": "Python 3 (ipykernel)",
   "language": "python",
   "name": "python3"
  },
  "language_info": {
   "codemirror_mode": {
    "name": "ipython",
    "version": 3
   },
   "file_extension": ".py",
   "mimetype": "text/x-python",
   "name": "python",
   "nbconvert_exporter": "python",
   "pygments_lexer": "ipython3",
   "version": "3.11.5"
  }
 },
 "nbformat": 4,
 "nbformat_minor": 4
}
