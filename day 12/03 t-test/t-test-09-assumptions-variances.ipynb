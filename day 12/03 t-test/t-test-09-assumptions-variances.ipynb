{
 "cells": [
  {
   "cell_type": "markdown",
   "id": "52c8bab0-5232-44d1-8ed7-9b65f0bb0f31",
   "metadata": {},
   "source": [
    "---------------------\n",
    "#### assumption of homogeneity of variances \n",
    "\n",
    "- (or homoscedasticity) is crucial when conducting a t-test, especially for the independent two-sample t-test. \n",
    "- This assumption states that the variances of the two groups being compared are equal in the population. \n",
    "- When this assumption is met, it ensures that the t-test is robust and that the risk of Type I errors is controlled.\n",
    "\n",
    "- If the variances are significantly different, the standard two-sample t-test can be inappropriate. \n",
    "- In such cases, a variation of the t-test called Welch's t-test, which does not assume equal variances, can be used."
   ]
  },
  {
   "cell_type": "markdown",
   "id": "c54d4bdc-d543-44ea-9da9-af1b0a2e1379",
   "metadata": {},
   "source": [
    "**Levene's Test**\n",
    "- is a common test used to assess the homogeneity of variances. \n",
    "- The null hypothesis for Levene's Test is that the variances are equal across all groups."
   ]
  },
  {
   "cell_type": "code",
   "execution_count": 3,
   "id": "75fba7a3-e47f-437f-b8de-50f2e5a21ee7",
   "metadata": {
    "tags": []
   },
   "outputs": [],
   "source": [
    "import numpy as np\n",
    "from scipy.stats import levene"
   ]
  },
  {
   "cell_type": "code",
   "execution_count": 4,
   "id": "14e07b92-8679-4968-a1fe-f68563e40cd1",
   "metadata": {
    "tags": []
   },
   "outputs": [],
   "source": [
    "# Generate dummy data\n",
    "np.random.seed(0)  # for reproducibility\n",
    "data1 = np.random.randn(40) + 2\n",
    "data2 = np.random.randn(40)"
   ]
  },
  {
   "cell_type": "code",
   "execution_count": 5,
   "id": "602fe4f0-3dab-4fb1-8d1c-575078844573",
   "metadata": {
    "tags": []
   },
   "outputs": [],
   "source": [
    "# Levene's Test\n",
    "stat, p_value = levene(data1, data2)"
   ]
  },
  {
   "cell_type": "code",
   "execution_count": 6,
   "id": "b6905523-dbfc-421a-b9b3-b5a31045d8e8",
   "metadata": {
    "tags": []
   },
   "outputs": [
    {
     "name": "stdout",
     "output_type": "stream",
     "text": [
      "Levene's Test Statistic: 1.7929\n",
      "P-Value: 0.1845\n",
      "Variances appear to be equal across the two groups (fail to reject H0)\n"
     ]
    }
   ],
   "source": [
    "print(f\"Levene's Test Statistic: {stat:.4f}\")\n",
    "print(f'P-Value: {p_value:.4f}')\n",
    "\n",
    "if p_value > 0.05:\n",
    "    print('Variances appear to be equal across the two groups (fail to reject H0)')\n",
    "else:\n",
    "    print('Variances appear to be different across the two groups (reject H0)')"
   ]
  },
  {
   "cell_type": "markdown",
   "id": "28b92415-089f-4732-aae5-1dabc0e7e1fd",
   "metadata": {},
   "source": [
    "**Interpretation**:\n",
    "\n",
    "- If the p-value from Levene's test is greater than 0.05, we would not reject the null hypothesis of equal variances.\n",
    "- If the p-value is less than 0.05, we would reject the null hypothesis, suggesting the variances are significantly different across the two groups."
   ]
  },
  {
   "cell_type": "markdown",
   "id": "a3feb56d-4c1b-44cc-9be2-40b401d1dd87",
   "metadata": {},
   "source": [
    "It's worth noting that even if the assumption of homogeneity of variance is violated, the t-test is quite robust to this violation when sample sizes are equal. \n",
    "\n",
    "However, when sample sizes are unequal, and variances are unequal, the risk of Type I errors can be inflated, which is why alternatives like Welch's t-test are recommended."
   ]
  },
  {
   "cell_type": "code",
   "execution_count": null,
   "id": "7c251bbc-a203-41bd-8d74-db5f15f41fbf",
   "metadata": {},
   "outputs": [],
   "source": []
  }
 ],
 "metadata": {
  "kernelspec": {
   "display_name": "Python 3 (ipykernel)",
   "language": "python",
   "name": "python3"
  },
  "language_info": {
   "codemirror_mode": {
    "name": "ipython",
    "version": 3
   },
   "file_extension": ".py",
   "mimetype": "text/x-python",
   "name": "python",
   "nbconvert_exporter": "python",
   "pygments_lexer": "ipython3",
   "version": "3.11.3"
  }
 },
 "nbformat": 4,
 "nbformat_minor": 5
}
