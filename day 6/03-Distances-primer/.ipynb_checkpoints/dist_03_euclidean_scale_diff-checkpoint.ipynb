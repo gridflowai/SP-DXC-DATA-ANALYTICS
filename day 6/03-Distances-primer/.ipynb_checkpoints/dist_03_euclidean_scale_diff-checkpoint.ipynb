{
 "cells": [
  {
   "cell_type": "markdown",
   "id": "1a8ad5fd-9fc9-4935-b4ca-076264d92c47",
   "metadata": {},
   "source": [
    "---------------\n",
    "#### Sensitivity to Scale\n",
    "------------------"
   ]
  },
  {
   "cell_type": "code",
   "execution_count": 2,
   "id": "76362dcb-6b26-454f-b48b-32af512d35fe",
   "metadata": {
    "tags": []
   },
   "outputs": [],
   "source": [
    "import numpy as np\n",
    "from sklearn.metrics.pairwise import euclidean_distances"
   ]
  },
  {
   "cell_type": "code",
   "execution_count": 7,
   "id": "46c808c7-fb33-4921-8064-eb89ba5c015a",
   "metadata": {
    "tags": []
   },
   "outputs": [],
   "source": [
    "# Generate synthetic data with different scales\n",
    "data = np.array([[1,   2],\n",
    "                 [5,   10],\n",
    "                 [0.1, 0.2]])"
   ]
  },
  {
   "cell_type": "code",
   "execution_count": 8,
   "id": "bfffe4c8-2a64-4327-aee3-31ea794b2851",
   "metadata": {
    "tags": []
   },
   "outputs": [
    {
     "name": "stdout",
     "output_type": "stream",
     "text": [
      "Original Data:\n",
      "[[ 1.   2. ]\n",
      " [ 5.  10. ]\n",
      " [ 0.1  0.2]]\n",
      "Euclidean Distances:\n",
      "[[ 0.          8.94427191  2.01246118]\n",
      " [ 8.94427191  0.         10.95673309]\n",
      " [ 2.01246118 10.95673309  0.        ]]\n"
     ]
    }
   ],
   "source": [
    "# Calculate Euclidean distances between points\n",
    "euclidean_dist = euclidean_distances(data)\n",
    "\n",
    "print(\"Original Data:\")\n",
    "print(data)\n",
    "\n",
    "print(\"Euclidean Distances:\")\n",
    "print(euclidean_dist)"
   ]
  },
  {
   "cell_type": "markdown",
   "id": "12af9883-ae01-463b-9de4-debd656d3e9e",
   "metadata": {},
   "source": [
    "Notice how the distances are larger between the `first two points` and between the `second and third points`, mainly due to the differences in scale between the dimensions. \n",
    "\n",
    "This demonstrates the sensitivity of Euclidean distance to the scale of the data. In some cases, you might want to standardize or normalize the data before calculating distances to mitigate this issue."
   ]
  },
  {
   "cell_type": "code",
   "execution_count": null,
   "id": "93c17ca4-68e6-4cab-93d1-7fd18a15b4b2",
   "metadata": {},
   "outputs": [],
   "source": []
  },
  {
   "cell_type": "code",
   "execution_count": null,
   "id": "e8cd344d-40f5-417f-a37e-909d853132ce",
   "metadata": {},
   "outputs": [],
   "source": []
  }
 ],
 "metadata": {
  "kernelspec": {
   "display_name": "Python 3 (ipykernel)",
   "language": "python",
   "name": "python3"
  },
  "language_info": {
   "codemirror_mode": {
    "name": "ipython",
    "version": 3
   },
   "file_extension": ".py",
   "mimetype": "text/x-python",
   "name": "python",
   "nbconvert_exporter": "python",
   "pygments_lexer": "ipython3",
   "version": "3.11.3"
  }
 },
 "nbformat": 4,
 "nbformat_minor": 5
}
