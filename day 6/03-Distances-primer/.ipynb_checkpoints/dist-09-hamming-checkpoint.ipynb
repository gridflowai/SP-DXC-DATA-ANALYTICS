{
 "cells": [
  {
   "cell_type": "code",
   "execution_count": 2,
   "id": "9e6e66fb",
   "metadata": {},
   "outputs": [],
   "source": [
    "from IPython.display import Image"
   ]
  },
  {
   "cell_type": "markdown",
   "id": "b32f9008",
   "metadata": {},
   "source": [
    "---------------------\n",
    "#### Hamming distance\n",
    "--------------------------\n",
    "\n",
    "- Compute the `Hamming distance` between two 1-D arrays.\n",
    "\n",
    "- The `Hamming distance` between 1-D arrays u and v, is simply the proportion of disagreeing components in u and v.\n",
    "\n",
    "- In information theory, the `Hamming distance` between two strings of equal length is the number of positions at which the corresponding symbols are different. \n",
    "\n",
    "    - In other words, it measures the minimum number of substitutions required to change one string into the other, or the minimum number of errors that could have transformed one string into the other.\n",
    "    \n",
    "The Hamming distance between two strings is the number of positions at which they have different characters.\n",
    "\n",
    "For instance, compare these strings:\n",
    "\n",
    "- GATTACA\n",
    "- GACTATA\n",
    "\n",
    "They are different at two locations:\n",
    "\n",
    "|G|A|T|T|A|C|A|\n",
    "|-|-|-|-|-|-|-|\n",
    "|G|A|C|T|A|T|A|\n",
    "\n",
    "\n",
    "So the Hamming distance is 2."
   ]
  },
  {
   "cell_type": "code",
   "execution_count": 17,
   "id": "a0ba15fe",
   "metadata": {},
   "outputs": [],
   "source": [
    "# Return the Hamming distance between string1 and string2.\n",
    "# string1 and string2 should be the same length.\n",
    "def hamming_distance(string1 , string2): \n",
    "    \n",
    "    # check if the lengths of strings equal, \n",
    "    # if not return with Error\n",
    "    if len(string1) != len(string2):\n",
    "        return 'Given strings must have the same length'\n",
    "    \n",
    "    # Start with a distance of zero, and count up\n",
    "    distance = 0\n",
    "    \n",
    "    # Loop over the indices of the string\n",
    "    L = len(string1)\n",
    "    \n",
    "    for i in range(L):\n",
    "        # Add 1 to the distance if these two characters are not equal\n",
    "        if string1[i] != string2[i]:\n",
    "            distance += 1\n",
    "            \n",
    "    # Return the final count of differences\n",
    "    return distance"
   ]
  },
  {
   "cell_type": "code",
   "execution_count": 18,
   "id": "9dcd05a9",
   "metadata": {},
   "outputs": [
    {
     "data": {
      "text/plain": [
       "2"
      ]
     },
     "execution_count": 18,
     "metadata": {},
     "output_type": "execute_result"
    }
   ],
   "source": [
    "hamming_distance(\"GATTACA\", \"GACTATA\")"
   ]
  },
  {
   "cell_type": "code",
   "execution_count": 19,
   "id": "e671fe33",
   "metadata": {},
   "outputs": [
    {
     "data": {
      "text/plain": [
       "'Given strings must have the same length'"
      ]
     },
     "execution_count": 19,
     "metadata": {},
     "output_type": "execute_result"
    }
   ],
   "source": [
    "hamming_distance(\"rja\", \"jfjfff\")"
   ]
  },
  {
   "cell_type": "code",
   "execution_count": null,
   "id": "97c93956",
   "metadata": {},
   "outputs": [],
   "source": []
  },
  {
   "cell_type": "markdown",
   "id": "65668a9f",
   "metadata": {},
   "source": [
    "#### using scipy\n",
    "\n"
   ]
  },
  {
   "cell_type": "code",
   "execution_count": 5,
   "id": "22ffde72",
   "metadata": {},
   "outputs": [],
   "source": [
    "from scipy.spatial import distance"
   ]
  },
  {
   "cell_type": "code",
   "execution_count": 8,
   "id": "104a1c2f",
   "metadata": {},
   "outputs": [],
   "source": [
    "import pandas as pd"
   ]
  },
  {
   "cell_type": "code",
   "execution_count": 9,
   "id": "1e7a84d6",
   "metadata": {},
   "outputs": [],
   "source": [
    "data_dict = {'num_doors':   pd.Series(data= [2, 4, 2, 2]),\n",
    "             'num_cyl':     pd.Series(data= [2, 3, 4, 8]),\n",
    "             'cruise_ctrl': pd.Series(data= [0, 0, 1, 1]),\n",
    "             'price_cat':   pd.Series(data= [1, 2, 2, 4])\n",
    "            }"
   ]
  },
  {
   "cell_type": "code",
   "execution_count": 10,
   "id": "2f7ffd14",
   "metadata": {},
   "outputs": [
    {
     "data": {
      "text/html": [
       "<div>\n",
       "<style scoped>\n",
       "    .dataframe tbody tr th:only-of-type {\n",
       "        vertical-align: middle;\n",
       "    }\n",
       "\n",
       "    .dataframe tbody tr th {\n",
       "        vertical-align: top;\n",
       "    }\n",
       "\n",
       "    .dataframe thead th {\n",
       "        text-align: right;\n",
       "    }\n",
       "</style>\n",
       "<table border=\"1\" class=\"dataframe\">\n",
       "  <thead>\n",
       "    <tr style=\"text-align: right;\">\n",
       "      <th></th>\n",
       "      <th>num_doors</th>\n",
       "      <th>num_cyl</th>\n",
       "      <th>cruise_ctrl</th>\n",
       "      <th>price_cat</th>\n",
       "    </tr>\n",
       "  </thead>\n",
       "  <tbody>\n",
       "    <tr>\n",
       "      <th>0</th>\n",
       "      <td>2</td>\n",
       "      <td>2</td>\n",
       "      <td>0</td>\n",
       "      <td>1</td>\n",
       "    </tr>\n",
       "    <tr>\n",
       "      <th>1</th>\n",
       "      <td>4</td>\n",
       "      <td>3</td>\n",
       "      <td>0</td>\n",
       "      <td>2</td>\n",
       "    </tr>\n",
       "    <tr>\n",
       "      <th>2</th>\n",
       "      <td>2</td>\n",
       "      <td>4</td>\n",
       "      <td>1</td>\n",
       "      <td>2</td>\n",
       "    </tr>\n",
       "    <tr>\n",
       "      <th>3</th>\n",
       "      <td>2</td>\n",
       "      <td>8</td>\n",
       "      <td>1</td>\n",
       "      <td>4</td>\n",
       "    </tr>\n",
       "  </tbody>\n",
       "</table>\n",
       "</div>"
      ],
      "text/plain": [
       "   num_doors  num_cyl  cruise_ctrl  price_cat\n",
       "0          2        2            0          1\n",
       "1          4        3            0          2\n",
       "2          2        4            1          2\n",
       "3          2        8            1          4"
      ]
     },
     "execution_count": 10,
     "metadata": {},
     "output_type": "execute_result"
    }
   ],
   "source": [
    "df = pd.DataFrame(data_dict)\n",
    "df"
   ]
  },
  {
   "cell_type": "code",
   "execution_count": 11,
   "id": "7a6db90c",
   "metadata": {},
   "outputs": [],
   "source": [
    "a = df.iloc[1].values\n",
    "b = df.iloc[2].values"
   ]
  },
  {
   "cell_type": "code",
   "execution_count": 12,
   "id": "d0ca4405",
   "metadata": {},
   "outputs": [
    {
     "data": {
      "text/plain": [
       "array([4, 3, 0, 2], dtype=int64)"
      ]
     },
     "execution_count": 12,
     "metadata": {},
     "output_type": "execute_result"
    }
   ],
   "source": [
    "a"
   ]
  },
  {
   "cell_type": "code",
   "execution_count": 13,
   "id": "2a208232",
   "metadata": {},
   "outputs": [
    {
     "data": {
      "text/plain": [
       "0.75"
      ]
     },
     "execution_count": 13,
     "metadata": {},
     "output_type": "execute_result"
    }
   ],
   "source": [
    "distance.hamming(a, b)"
   ]
  },
  {
   "cell_type": "code",
   "execution_count": null,
   "id": "55e19c02",
   "metadata": {},
   "outputs": [],
   "source": []
  }
 ],
 "metadata": {
  "kernelspec": {
   "display_name": "Python 3 (ipykernel)",
   "language": "python",
   "name": "python3"
  },
  "language_info": {
   "codemirror_mode": {
    "name": "ipython",
    "version": 3
   },
   "file_extension": ".py",
   "mimetype": "text/x-python",
   "name": "python",
   "nbconvert_exporter": "python",
   "pygments_lexer": "ipython3",
   "version": "3.9.13"
  }
 },
 "nbformat": 4,
 "nbformat_minor": 5
}
