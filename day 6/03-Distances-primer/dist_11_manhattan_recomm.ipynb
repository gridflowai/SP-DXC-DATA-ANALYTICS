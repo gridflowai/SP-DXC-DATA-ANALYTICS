{
 "cells": [
  {
   "cell_type": "code",
   "execution_count": 2,
   "id": "e0b5e3ba-9309-44e8-af17-4a79e6834aeb",
   "metadata": {
    "tags": []
   },
   "outputs": [],
   "source": [
    "import numpy as np\n",
    "from scipy.spatial.distance import cityblock"
   ]
  },
  {
   "cell_type": "code",
   "execution_count": 3,
   "id": "27833878-4884-4b1b-a14a-86523d30de1a",
   "metadata": {
    "tags": []
   },
   "outputs": [],
   "source": [
    "# User-movie ratings matrix (rows: users, columns: movies)\n",
    "ratings = np.array([[4, 5, 0, 0],\n",
    "                    [0, 3, 4, 0],\n",
    "                    [5, 0, 0, 2],\n",
    "                    [0, 0, 3, 4]])"
   ]
  },
  {
   "cell_type": "code",
   "execution_count": 4,
   "id": "79c1cb91-eda8-4a80-a99a-61e569867f7c",
   "metadata": {
    "tags": []
   },
   "outputs": [],
   "source": [
    "# Target user's ratings\n",
    "target_user_ratings = np.array([4, 0, 3, 0])"
   ]
  },
  {
   "cell_type": "code",
   "execution_count": 5,
   "id": "556bf358-ee43-4559-af8b-fa9535dc05da",
   "metadata": {
    "tags": []
   },
   "outputs": [],
   "source": [
    "# Calculate Manhattan distances between the target user and others\n",
    "similarities = [cityblock(target_user_ratings, user_ratings) for user_ratings in ratings]\n"
   ]
  },
  {
   "cell_type": "code",
   "execution_count": 5,
   "id": "a50fd36a-1f54-4757-8c7e-90dd67d09d1e",
   "metadata": {
    "tags": []
   },
   "outputs": [
    {
     "data": {
      "text/plain": [
       "[8, 8, 6, 8]"
      ]
     },
     "execution_count": 5,
     "metadata": {},
     "output_type": "execute_result"
    }
   ],
   "source": [
    "similarities"
   ]
  },
  {
   "cell_type": "code",
   "execution_count": 8,
   "id": "96f58d5a-3620-4b08-b7da-2739cf2e930a",
   "metadata": {
    "tags": []
   },
   "outputs": [
    {
     "name": "stdout",
     "output_type": "stream",
     "text": [
      "Similar Users: [2]\n"
     ]
    }
   ],
   "source": [
    "# Find similar users with distance threshold\n",
    "threshold     = 7  # Adjust threshold as needed\n",
    "similar_users = [i for i, similarity in enumerate(similarities) if similarity < threshold]\n",
    "\n",
    "print(\"Similar Users:\", similar_users)"
   ]
  },
  {
   "cell_type": "markdown",
   "id": "35b5735d-1fa6-45ff-a2c8-a3870c3a52c1",
   "metadata": {},
   "source": [
    "users with Manhattan distances (similarities) smaller than the specified threshold are considered similar and are included in the list of similar users."
   ]
  },
  {
   "cell_type": "code",
   "execution_count": null,
   "id": "3df96d2c-d8bf-4ff1-a737-c9ca0d00fac9",
   "metadata": {},
   "outputs": [],
   "source": []
  }
 ],
 "metadata": {
  "kernelspec": {
   "display_name": "Python 3 (ipykernel)",
   "language": "python",
   "name": "python3"
  },
  "language_info": {
   "codemirror_mode": {
    "name": "ipython",
    "version": 3
   },
   "file_extension": ".py",
   "mimetype": "text/x-python",
   "name": "python",
   "nbconvert_exporter": "python",
   "pygments_lexer": "ipython3",
   "version": "3.9.13"
  }
 },
 "nbformat": 4,
 "nbformat_minor": 5
}
