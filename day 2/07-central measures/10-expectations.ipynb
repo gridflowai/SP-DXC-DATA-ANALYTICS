{
 "cells": [
  {
   "cell_type": "markdown",
   "id": "22ebab08-120c-4638-b52d-5499358349b3",
   "metadata": {},
   "source": [
    "#### Example 1: Expected Value of a Dice Roll:\n",
    "Let's calculate the expected value of rolling a fair six-sided die. Each outcome has a probability of 1/6."
   ]
  },
  {
   "cell_type": "code",
   "execution_count": 1,
   "id": "13317f17-d621-4df5-b555-2ad5f7f79bf2",
   "metadata": {
    "tags": []
   },
   "outputs": [],
   "source": [
    "outcomes      = [1, 2, 3, 4, 5, 6]\n",
    "probabilities = [1/6] * 6"
   ]
  },
  {
   "cell_type": "code",
   "execution_count": 2,
   "id": "0c6b7a9f-dd56-49cb-af89-c4460e8a7738",
   "metadata": {
    "tags": []
   },
   "outputs": [
    {
     "name": "stdout",
     "output_type": "stream",
     "text": [
      "Expected value of a dice roll: 3.5\n"
     ]
    }
   ],
   "source": [
    "expected_value = sum(outcome * prob for outcome, prob in zip(outcomes, probabilities))\n",
    "print(\"Expected value of a dice roll:\", expected_value)"
   ]
  },
  {
   "cell_type": "markdown",
   "id": "bbab02cb-e251-4b29-8419-1f31f24637b4",
   "metadata": {},
   "source": [
    "#### Example 2: Expected Value in Monte Carlo Simulation:\n",
    "In this example, we'll estimate the value of π (pi) using a Monte Carlo simulation. \n",
    "\n",
    "We'll generate random points within a unit square and calculate the ratio of points that fall within a quarter circle inscribed in the square."
   ]
  },
  {
   "cell_type": "code",
   "execution_count": 3,
   "id": "6a45832a-eed7-43a8-83b6-0aee3ab35558",
   "metadata": {
    "tags": []
   },
   "outputs": [],
   "source": [
    "import random"
   ]
  },
  {
   "cell_type": "code",
   "execution_count": 4,
   "id": "84c8b3b5-e5d3-4928-9a5c-f2565eb3b5b5",
   "metadata": {
    "tags": []
   },
   "outputs": [],
   "source": [
    "num_points           = 1000000\n",
    "points_inside_circle = 0"
   ]
  },
  {
   "cell_type": "code",
   "execution_count": 5,
   "id": "c815cd8d-2517-46f8-ac22-c810bdedf7a0",
   "metadata": {
    "tags": []
   },
   "outputs": [],
   "source": [
    "for _ in range(num_points):\n",
    "    x = random.random()  # Random number between 0 and 1\n",
    "    y = random.random()\n",
    "    if x**2 + y**2 <= 1:\n",
    "        points_inside_circle += 1"
   ]
  },
  {
   "cell_type": "code",
   "execution_count": 6,
   "id": "26da3328-a8b7-405e-a395-5f9983774990",
   "metadata": {
    "tags": []
   },
   "outputs": [
    {
     "name": "stdout",
     "output_type": "stream",
     "text": [
      "Estimated value of π using Monte Carlo: 3.140404\n"
     ]
    }
   ],
   "source": [
    "estimated_pi = 4 * (points_inside_circle / num_points)\n",
    "print(\"Estimated value of π using Monte Carlo:\", estimated_pi)"
   ]
  },
  {
   "cell_type": "code",
   "execution_count": null,
   "id": "2a04bdd8-7ad2-4639-a4bb-e311254775f4",
   "metadata": {},
   "outputs": [],
   "source": []
  }
 ],
 "metadata": {
  "kernelspec": {
   "display_name": "Python 3 (ipykernel)",
   "language": "python",
   "name": "python3"
  },
  "language_info": {
   "codemirror_mode": {
    "name": "ipython",
    "version": 3
   },
   "file_extension": ".py",
   "mimetype": "text/x-python",
   "name": "python",
   "nbconvert_exporter": "python",
   "pygments_lexer": "ipython3",
   "version": "3.11.4"
  }
 },
 "nbformat": 4,
 "nbformat_minor": 5
}
