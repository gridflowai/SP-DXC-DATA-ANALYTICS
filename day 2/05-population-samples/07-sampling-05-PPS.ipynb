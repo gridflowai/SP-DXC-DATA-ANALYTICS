{
 "cells": [
  {
   "cell_type": "markdown",
   "id": "f2eb9cdb-8c22-46f6-ba86-ac32001f96f2",
   "metadata": {},
   "source": [
    "----------------\n",
    "### PPS sampling\n",
    "--------------------"
   ]
  },
  {
   "cell_type": "code",
   "execution_count": 6,
   "id": "65ec2c71-91e5-4bdc-9b00-beb6847996b5",
   "metadata": {
    "tags": []
   },
   "outputs": [],
   "source": [
    "import random\n",
    "import numpy as np"
   ]
  },
  {
   "cell_type": "markdown",
   "id": "1e72f82d-8874-4118-b783-4d1534a7ff6e",
   "metadata": {},
   "source": [
    "- elements: List of elements/units to be sampled \n",
    "- sizes: List of sizes corresponding to each element.\n",
    "- n: Number of samples."
   ]
  },
  {
   "cell_type": "code",
   "execution_count": 11,
   "id": "b13ada5c-c1f0-45b3-ac66-5826e39bd285",
   "metadata": {},
   "outputs": [],
   "source": [
    "# Example data\n",
    "elements = ['A', 'B', 'C', 'D']\n",
    "sizes    = [10,   5,   15,  20]\n",
    "\n",
    "n = 50"
   ]
  },
  {
   "cell_type": "code",
   "execution_count": 12,
   "id": "7214e7a1-5ee3-4786-b161-e70f18944a28",
   "metadata": {
    "tags": []
   },
   "outputs": [
    {
     "data": {
      "text/plain": [
       "array([10, 15, 30, 50])"
      ]
     },
     "execution_count": 12,
     "metadata": {},
     "output_type": "execute_result"
    }
   ],
   "source": [
    "# Calculate cumulative sum of sizes\n",
    "cum_sum = np.cumsum(sizes)\n",
    "cum_sum"
   ]
  },
  {
   "cell_type": "code",
   "execution_count": 13,
   "id": "ef574659-b99e-4437-8460-05d9c86ef261",
   "metadata": {
    "tags": []
   },
   "outputs": [
    {
     "data": {
      "text/plain": [
       "array([0.2, 0.3, 0.6, 1. ])"
      ]
     },
     "execution_count": 13,
     "metadata": {},
     "output_type": "execute_result"
    }
   ],
   "source": [
    "# Normalize the cumulative sum to get probabilities\n",
    "cum_prob = cum_sum / cum_sum[-1]\n",
    "cum_prob"
   ]
  },
  {
   "cell_type": "code",
   "execution_count": 15,
   "id": "c7853e1d-c987-480e-a6fe-860bef4701bd",
   "metadata": {
    "tags": []
   },
   "outputs": [
    {
     "name": "stdout",
     "output_type": "stream",
     "text": [
      "['D', 'D', 'B', 'A', 'B', 'D', 'A', 'C', 'D', 'C', 'D', 'A', 'D', 'A', 'D', 'D', 'C', 'D', 'C', 'C', 'D', 'C', 'C', 'C', 'A', 'C', 'C', 'A', 'C', 'A', 'D', 'A', 'A', 'A', 'D', 'C', 'D', 'A', 'C', 'C', 'A', 'D', 'A', 'A', 'D', 'A', 'D', 'D', 'D', 'D']\n"
     ]
    }
   ],
   "source": [
    "sampled_elements = []\n",
    "    \n",
    "for _ in range(n):\n",
    "    rand_num = np.random.rand()\n",
    "\n",
    "    # Find the interval the random number falls into\n",
    "    idx = np.searchsorted(cum_prob, rand_num)\n",
    "\n",
    "    sampled_elements.append(elements[idx])\n",
    "\n",
    "print(sampled_elements)"
   ]
  },
  {
   "cell_type": "code",
   "execution_count": null,
   "id": "8c703166-6183-41fd-b0b2-3e4de182cab1",
   "metadata": {},
   "outputs": [],
   "source": []
  }
 ],
 "metadata": {
  "kernelspec": {
   "display_name": "Python 3 (ipykernel)",
   "language": "python",
   "name": "python3"
  },
  "language_info": {
   "codemirror_mode": {
    "name": "ipython",
    "version": 3
   },
   "file_extension": ".py",
   "mimetype": "text/x-python",
   "name": "python",
   "nbconvert_exporter": "python",
   "pygments_lexer": "ipython3",
   "version": "3.11.4"
  }
 },
 "nbformat": 4,
 "nbformat_minor": 5
}
