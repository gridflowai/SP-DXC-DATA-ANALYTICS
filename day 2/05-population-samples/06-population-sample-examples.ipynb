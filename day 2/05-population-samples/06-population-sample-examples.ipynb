{
 "cells": [
  {
   "cell_type": "markdown",
   "id": "858be39d-9621-484c-9080-2ca8b6a28e25",
   "metadata": {},
   "source": [
    "####  Example 1: Election Polling\n",
    "- Suppose you want to simulate an election polling scenario:"
   ]
  },
  {
   "cell_type": "code",
   "execution_count": 6,
   "id": "67d597f6-ae45-4f4b-b208-3a9f26d27edf",
   "metadata": {
    "tags": []
   },
   "outputs": [],
   "source": [
    "import numpy as np"
   ]
  },
  {
   "cell_type": "code",
   "execution_count": 23,
   "id": "e9fb7c09-a723-4503-bd59-dc65c8debc6b",
   "metadata": {
    "tags": []
   },
   "outputs": [],
   "source": [
    "# Simulating voter preferences (1 = Candidate A, 2 = Candidate B)\n",
    "population_size  = 1000000\n",
    "population_votes = np.random.choice([1, 2], population_size, p=[0.6, 0.4])  \n",
    "# Simulating 60% for A and 40% for B"
   ]
  },
  {
   "cell_type": "code",
   "execution_count": 24,
   "id": "e3b5846b-9d38-41cb-8eac-cf1e2d87206f",
   "metadata": {
    "tags": []
   },
   "outputs": [],
   "source": [
    "# Taking a sample for polling\n",
    "sample_size  = 1000\n",
    "sample_votes = np.random.choice(population_votes, sample_size)"
   ]
  },
  {
   "cell_type": "code",
   "execution_count": 25,
   "id": "54ab054e-f37c-4c5f-bec0-7fc9d6b10c4d",
   "metadata": {
    "tags": []
   },
   "outputs": [],
   "source": [
    "# Calculating the proportion of votes for each candidate in the sample\n",
    "candidate_a_sample = np.sum(sample_votes == 1)\n",
    "candidate_b_sample = np.sum(sample_votes == 2)"
   ]
  },
  {
   "cell_type": "code",
   "execution_count": 26,
   "id": "023e477c-fe2f-42d3-9de1-a4e6054cf40c",
   "metadata": {
    "tags": []
   },
   "outputs": [
    {
     "name": "stdout",
     "output_type": "stream",
     "text": [
      "Estimated proportion of votes for Candidate A in the population: 0.61\n",
      "Estimated proportion of votes for Candidate B in the population: 0.39\n"
     ]
    }
   ],
   "source": [
    "# Estimating the proportion for the entire population based on the sample\n",
    "proportion_a_population = candidate_a_sample / sample_size\n",
    "proportion_b_population = candidate_b_sample / sample_size\n",
    "\n",
    "print(f\"Estimated proportion of votes for Candidate A in the population: {proportion_a_population:.2f}\")\n",
    "print(f\"Estimated proportion of votes for Candidate B in the population: {proportion_b_population:.2f}\")\n"
   ]
  },
  {
   "cell_type": "markdown",
   "id": "9bc9c6f4-2669-48c0-8b3d-815fff238fae",
   "metadata": {},
   "source": [
    "#### Example 2: Customer Satisfaction Survey\n",
    "- Suppose you want to analyze customer satisfaction data:"
   ]
  },
  {
   "cell_type": "code",
   "execution_count": 7,
   "id": "06a6a66a-a971-4c97-baaf-902f15ab6f9e",
   "metadata": {
    "tags": []
   },
   "outputs": [],
   "source": [
    "# Simulating customer satisfaction scores (1 = Dissatisfied, 2 = Neutral, 3 = Satisfied)\n",
    "population_size = 50000\n",
    "population_satisfaction = np.random.choice([1, 2, 3], population_size, p=[0.2, 0.4, 0.4])  \n",
    "# Simulating distribution"
   ]
  },
  {
   "cell_type": "code",
   "execution_count": 8,
   "id": "70e1d0c3-8a54-4543-8927-6a2ce956f269",
   "metadata": {
    "tags": []
   },
   "outputs": [],
   "source": [
    "# Taking a sample for the survey\n",
    "sample_size = 500\n",
    "sample_satisfaction = np.random.choice(population_satisfaction, sample_size)"
   ]
  },
  {
   "cell_type": "code",
   "execution_count": 9,
   "id": "8d86436b-701c-4768-9cc6-fca60e67f2a4",
   "metadata": {
    "tags": []
   },
   "outputs": [],
   "source": [
    "# Calculating the proportion of satisfied customers in the sample\n",
    "satisfied_customers_sample = np.sum(sample_satisfaction == 3)"
   ]
  },
  {
   "cell_type": "code",
   "execution_count": 10,
   "id": "f7688e2e-5d2d-4e6e-badc-3ced608be040",
   "metadata": {
    "tags": []
   },
   "outputs": [
    {
     "name": "stdout",
     "output_type": "stream",
     "text": [
      "Estimated proportion of satisfied customers in the population: 0.44\n"
     ]
    }
   ],
   "source": [
    "# Estimating the proportion of satisfied customers in the entire customer base based on the sample\n",
    "proportion_satisfied_population = satisfied_customers_sample / sample_size\n",
    "\n",
    "print(f\"Estimated proportion of satisfied customers in the population: {proportion_satisfied_population:.2f}\")"
   ]
  },
  {
   "cell_type": "code",
   "execution_count": null,
   "id": "02c68b05-8513-47f4-bb68-aec5932cdb34",
   "metadata": {},
   "outputs": [],
   "source": []
  }
 ],
 "metadata": {
  "kernelspec": {
   "display_name": "Python 3 (ipykernel)",
   "language": "python",
   "name": "python3"
  },
  "language_info": {
   "codemirror_mode": {
    "name": "ipython",
    "version": 3
   },
   "file_extension": ".py",
   "mimetype": "text/x-python",
   "name": "python",
   "nbconvert_exporter": "python",
   "pygments_lexer": "ipython3",
   "version": "3.11.4"
  }
 },
 "nbformat": 4,
 "nbformat_minor": 5
}
