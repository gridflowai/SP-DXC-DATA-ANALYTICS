{
 "cells": [
  {
   "cell_type": "markdown",
   "id": "f2eb9cdb-8c22-46f6-ba86-ac32001f96f2",
   "metadata": {},
   "source": [
    "----------------\n",
    "### Reservoir sampling\n",
    "--------------------"
   ]
  },
  {
   "cell_type": "markdown",
   "id": "d62712fc-99e4-48cc-8a9a-7892904c31d3",
   "metadata": {},
   "source": [
    "- `Reservoir sampling` is an algorithm used to sample `k` items from a `stream of items` with unknown length, such that each item has an equal probability of being chosen."
   ]
  },
  {
   "cell_type": "code",
   "execution_count": 6,
   "id": "65ec2c71-91e5-4bdc-9b00-beb6847996b5",
   "metadata": {
    "tags": []
   },
   "outputs": [],
   "source": [
    "import random\n",
    "import numpy as np"
   ]
  },
  {
   "cell_type": "code",
   "execution_count": 12,
   "id": "8c703166-6183-41fd-b0b2-3e4de182cab1",
   "metadata": {},
   "outputs": [],
   "source": [
    "# Say you have a stream (or list) of integers from 1 to 1000 \n",
    "# and you want to sample 10 of them.\n",
    "stream = range(1, 101)"
   ]
  },
  {
   "cell_type": "code",
   "execution_count": 13,
   "id": "b45deb7e-0739-4819-b90b-4ffa21fa82ca",
   "metadata": {
    "tags": []
   },
   "outputs": [
    {
     "data": {
      "text/plain": [
       "range(1, 101)"
      ]
     },
     "execution_count": 13,
     "metadata": {},
     "output_type": "execute_result"
    }
   ],
   "source": [
    "stream"
   ]
  },
  {
   "cell_type": "markdown",
   "id": "a20827f8-2c99-4811-b65e-7499d6f85063",
   "metadata": {},
   "source": [
    "- Reservoir Sampling algorithm to sample k items from a stream.\n",
    "    \n",
    "    - param stream: The input stream of items. Can be a list, iterator, or a generator.\n",
    "    - param k: The number of items to sample from the stream."
   ]
  },
  {
   "cell_type": "code",
   "execution_count": 16,
   "id": "17754e6c-cefe-42dd-b4fd-b46202230dcd",
   "metadata": {
    "tags": []
   },
   "outputs": [],
   "source": [
    "reservoir = []\n",
    "k = 10"
   ]
  },
  {
   "cell_type": "code",
   "execution_count": 17,
   "id": "c33f9281-fd2b-4a55-b22b-8f5d75d77a06",
   "metadata": {
    "tags": []
   },
   "outputs": [],
   "source": [
    "for i, item in enumerate(stream):\n",
    "    if i < k:\n",
    "        # First k items always go in the reservoir\n",
    "        reservoir.append(item)\n",
    "    else:\n",
    "        # Randomly replace items in the reservoir \n",
    "        # with a decreasing probability\n",
    "        # Choose an index from 0 to i\n",
    "        j = random.randint(0, i)\n",
    "        if j < k:\n",
    "            reservoir[j] = item"
   ]
  },
  {
   "cell_type": "code",
   "execution_count": 18,
   "id": "e5f7cacc-9e30-41f5-9d75-1373ee87beda",
   "metadata": {
    "tags": []
   },
   "outputs": [
    {
     "data": {
      "text/plain": [
       "[87, 78, 31, 60, 5, 47, 66, 48, 86, 90]"
      ]
     },
     "execution_count": 18,
     "metadata": {},
     "output_type": "execute_result"
    }
   ],
   "source": [
    "reservoir"
   ]
  },
  {
   "cell_type": "markdown",
   "id": "cb4bc2f1-c6ef-45cd-9f99-db9d5318cf87",
   "metadata": {},
   "source": [
    "For the first k items in the stream, they are directly selected to the reservoir. \n",
    "\n",
    "So, their probability of being in the reservoir after the entire stream is processed is $\\frac{k}{k} =1$"
   ]
  }
 ],
 "metadata": {
  "kernelspec": {
   "display_name": "Python 3 (ipykernel)",
   "language": "python",
   "name": "python3"
  },
  "language_info": {
   "codemirror_mode": {
    "name": "ipython",
    "version": 3
   },
   "file_extension": ".py",
   "mimetype": "text/x-python",
   "name": "python",
   "nbconvert_exporter": "python",
   "pygments_lexer": "ipython3",
   "version": "3.9.13"
  }
 },
 "nbformat": 4,
 "nbformat_minor": 5
}
