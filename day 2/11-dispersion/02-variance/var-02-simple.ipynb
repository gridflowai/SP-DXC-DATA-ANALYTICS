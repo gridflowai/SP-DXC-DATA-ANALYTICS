{
 "cells": [
  {
   "cell_type": "markdown",
   "id": "f360594f-3df8-4fff-9d5e-784cf5d20c96",
   "metadata": {},
   "source": [
    "-------------------------\n",
    "### compute the variance for a given list or column of data\n",
    "----------------------"
   ]
  },
  {
   "cell_type": "markdown",
   "id": "2462d5ce-88f1-4f55-9074-429382e34598",
   "metadata": {},
   "source": [
    "$$ \\large\n",
    "s^2=\\frac{\\sum_{i=1}^n\\left(x_i-\\bar{x}\\right)^2}{n-1}\n",
    "$$\n",
    "Where:\n",
    "- $s^2$ is the sample variance.\n",
    "- $x_i$ are the data points.\n",
    "- $\\bar{x}$ is the mean of the data points.\n",
    "- $n$ is the number of data points."
   ]
  },
  {
   "cell_type": "markdown",
   "id": "9f6431af-e53c-44af-8b52-a903df3259c3",
   "metadata": {},
   "source": [
    "If you're looking for the formula for population variance, it's:\n",
    "$$\n",
    "\\sigma^2=\\frac{\\sum_{i=1}^n\\left(x_i-\\mu\\right)^2}{n}\n",
    "$$\n",
    "Where:\n",
    "- $\\sigma^2$ is the population variance.\n",
    "- $x_i$ are the data points.\n",
    "- $\\mu$ is the population mean.\n",
    "- $n$ is the number of data points."
   ]
  },
  {
   "cell_type": "code",
   "execution_count": 3,
   "id": "0a3f530a-78c2-479c-81d9-68214c16b7a6",
   "metadata": {
    "tags": []
   },
   "outputs": [],
   "source": [
    "# Data Column\n",
    "data_column = [1, 2, 3, 4, 5]"
   ]
  },
  {
   "cell_type": "code",
   "execution_count": 4,
   "id": "608554cb-32fd-40d1-9861-63a128d762ca",
   "metadata": {
    "tags": []
   },
   "outputs": [],
   "source": [
    "# Calculate the mean of the data.\n",
    "mean = sum(data_column) / len(data_column)"
   ]
  },
  {
   "cell_type": "code",
   "execution_count": 5,
   "id": "51b22e2e-9299-4bd7-8dd2-8052030a0b97",
   "metadata": {
    "tags": []
   },
   "outputs": [],
   "source": [
    "# Subtract the mean and square the result for each data point.\n",
    "squared_diffs = [(x - mean) ** 2 for x in data_column]"
   ]
  },
  {
   "cell_type": "code",
   "execution_count": 6,
   "id": "be521e82-701d-46f7-bc5f-223fbf9e6d78",
   "metadata": {
    "tags": []
   },
   "outputs": [
    {
     "name": "stdout",
     "output_type": "stream",
     "text": [
      "Variance: 2.5\n"
     ]
    }
   ],
   "source": [
    "# Step 3\n",
    "variance = sum(squared_diffs) / (len(data_column) - 1)\n",
    "\n",
    "print(\"Variance:\", variance)"
   ]
  },
  {
   "cell_type": "code",
   "execution_count": null,
   "id": "5725c11e-b6c9-4c84-92cb-41ceee50fd00",
   "metadata": {},
   "outputs": [],
   "source": []
  }
 ],
 "metadata": {
  "kernelspec": {
   "display_name": "Python 3 (ipykernel)",
   "language": "python",
   "name": "python3"
  },
  "language_info": {
   "codemirror_mode": {
    "name": "ipython",
    "version": 3
   },
   "file_extension": ".py",
   "mimetype": "text/x-python",
   "name": "python",
   "nbconvert_exporter": "python",
   "pygments_lexer": "ipython3",
   "version": "3.11.5"
  }
 },
 "nbformat": 4,
 "nbformat_minor": 5
}
