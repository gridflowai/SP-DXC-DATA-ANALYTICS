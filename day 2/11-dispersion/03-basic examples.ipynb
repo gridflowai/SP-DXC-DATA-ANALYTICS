{
 "cells": [
  {
   "cell_type": "markdown",
   "id": "79bf266b-3923-4ea9-86d4-4257d9024c2d",
   "metadata": {},
   "source": [
    "#### Dispersion"
   ]
  },
  {
   "cell_type": "code",
   "execution_count": 1,
   "id": "d5625552-b7ab-4728-a774-5554d49115c8",
   "metadata": {
    "tags": []
   },
   "outputs": [],
   "source": [
    "import numpy as np\n",
    "import matplotlib.pyplot as plt\n",
    "import seaborn as sns  # For density plots"
   ]
  },
  {
   "cell_type": "code",
   "execution_count": 2,
   "id": "72c65e53-503b-4610-b76e-f1b00e3506dd",
   "metadata": {
    "tags": []
   },
   "outputs": [
    {
     "name": "stdout",
     "output_type": "stream",
     "text": [
      "Range: 58\n",
      "Variance: 337.85\n",
      "Standard Deviation: 18.38069639594757\n",
      "Mean Absolute Deviation (MAD): 16.1\n",
      "Interquartile Range (IQR): 29.75\n"
     ]
    }
   ],
   "source": [
    "# Sample dataset\n",
    "data = np.array([12, 18, 25, 30, 32, 40, 50, 58, 60, 70])\n",
    "\n",
    "# Range\n",
    "data_range = np.max(data) - np.min(data)\n",
    "print(\"Range:\", data_range)\n",
    "\n",
    "# Variance\n",
    "data_variance = np.var(data)\n",
    "print(\"Variance:\", data_variance)\n",
    "\n",
    "# Standard Deviation\n",
    "data_std_deviation = np.sqrt(data_variance)\n",
    "print(\"Standard Deviation:\", data_std_deviation)\n",
    "\n",
    "# Mean Absolute Deviation (MAD)\n",
    "data_mean = np.mean(data)\n",
    "data_mad = np.mean(np.abs(data - data_mean))\n",
    "print(\"Mean Absolute Deviation (MAD):\", data_mad)\n",
    "\n",
    "# Interquartile Range (IQR)\n",
    "data_quartiles = np.percentile(data, [25, 75])\n",
    "data_iqr = data_quartiles[1] - data_quartiles[0]\n",
    "print(\"Interquartile Range (IQR):\", data_iqr)"
   ]
  },
  {
   "cell_type": "code",
   "execution_count": null,
   "id": "b19ae4fa-9b30-453f-81f5-12676bd5f14e",
   "metadata": {},
   "outputs": [],
   "source": []
  },
  {
   "cell_type": "code",
   "execution_count": null,
   "id": "94967e2f-840e-47ad-a4b7-2795c87189d2",
   "metadata": {},
   "outputs": [],
   "source": []
  }
 ],
 "metadata": {
  "kernelspec": {
   "display_name": "Python 3 (ipykernel)",
   "language": "python",
   "name": "python3"
  },
  "language_info": {
   "codemirror_mode": {
    "name": "ipython",
    "version": 3
   },
   "file_extension": ".py",
   "mimetype": "text/x-python",
   "name": "python",
   "nbconvert_exporter": "python",
   "pygments_lexer": "ipython3",
   "version": "3.9.13"
  }
 },
 "nbformat": 4,
 "nbformat_minor": 5
}
