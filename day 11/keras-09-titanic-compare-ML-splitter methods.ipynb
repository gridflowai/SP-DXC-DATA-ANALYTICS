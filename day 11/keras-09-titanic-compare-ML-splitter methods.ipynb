{
 "cells": [
  {
   "cell_type": "markdown",
   "id": "189b6e2b-a05b-4c25-b0ff-973dd1335961",
   "metadata": {},
   "source": [
    "--------------------------\n",
    "#### Classification with keras (titanic data)\n",
    "-----------------------------"
   ]
  },
  {
   "cell_type": "code",
   "execution_count": 1,
   "id": "75ee0737-aa17-452a-8bd0-85efb17b5123",
   "metadata": {
    "tags": []
   },
   "outputs": [],
   "source": [
    "import pandas as pd\n",
    "pd.set_option('display.max_colwidth', 120)"
   ]
  },
  {
   "cell_type": "code",
   "execution_count": 2,
   "id": "fd1a9914-0da2-466e-b3aa-54dc144dca9d",
   "metadata": {
    "tags": []
   },
   "outputs": [],
   "source": [
    "location = r\"D:\\AI-DATASETS\\01-MISC\\titanic-train.csv\""
   ]
  },
  {
   "cell_type": "code",
   "execution_count": 3,
   "id": "bdba5400-5164-45db-b38e-5c810977ce6d",
   "metadata": {
    "tags": []
   },
   "outputs": [],
   "source": [
    "df = pd.read_csv(location)"
   ]
  },
  {
   "cell_type": "code",
   "execution_count": 5,
   "id": "d6c0b89d-15b6-4f5a-a7af-345b3a2eea9e",
   "metadata": {
    "tags": []
   },
   "outputs": [
    {
     "data": {
      "text/html": [
       "<div>\n",
       "<style scoped>\n",
       "    .dataframe tbody tr th:only-of-type {\n",
       "        vertical-align: middle;\n",
       "    }\n",
       "\n",
       "    .dataframe tbody tr th {\n",
       "        vertical-align: top;\n",
       "    }\n",
       "\n",
       "    .dataframe thead th {\n",
       "        text-align: right;\n",
       "    }\n",
       "</style>\n",
       "<table border=\"1\" class=\"dataframe\">\n",
       "  <thead>\n",
       "    <tr style=\"text-align: right;\">\n",
       "      <th></th>\n",
       "      <th>PassengerId</th>\n",
       "      <th>Survived</th>\n",
       "      <th>Pclass</th>\n",
       "      <th>Name</th>\n",
       "      <th>Sex</th>\n",
       "      <th>Age</th>\n",
       "      <th>SibSp</th>\n",
       "      <th>Parch</th>\n",
       "      <th>Ticket</th>\n",
       "      <th>Fare</th>\n",
       "      <th>Cabin</th>\n",
       "      <th>Embarked</th>\n",
       "    </tr>\n",
       "  </thead>\n",
       "  <tbody>\n",
       "    <tr>\n",
       "      <th>52</th>\n",
       "      <td>53</td>\n",
       "      <td>1</td>\n",
       "      <td>1</td>\n",
       "      <td>Harper, Mrs. Henry Sleeper (Myna Haxtun)</td>\n",
       "      <td>female</td>\n",
       "      <td>49.0</td>\n",
       "      <td>1</td>\n",
       "      <td>0</td>\n",
       "      <td>PC 17572</td>\n",
       "      <td>76.7292</td>\n",
       "      <td>D33</td>\n",
       "      <td>C</td>\n",
       "    </tr>\n",
       "    <tr>\n",
       "      <th>108</th>\n",
       "      <td>109</td>\n",
       "      <td>0</td>\n",
       "      <td>3</td>\n",
       "      <td>Rekic, Mr. Tido</td>\n",
       "      <td>male</td>\n",
       "      <td>38.0</td>\n",
       "      <td>0</td>\n",
       "      <td>0</td>\n",
       "      <td>349249</td>\n",
       "      <td>7.8958</td>\n",
       "      <td>NaN</td>\n",
       "      <td>S</td>\n",
       "    </tr>\n",
       "    <tr>\n",
       "      <th>301</th>\n",
       "      <td>302</td>\n",
       "      <td>1</td>\n",
       "      <td>3</td>\n",
       "      <td>McCoy, Mr. Bernard</td>\n",
       "      <td>male</td>\n",
       "      <td>NaN</td>\n",
       "      <td>2</td>\n",
       "      <td>0</td>\n",
       "      <td>367226</td>\n",
       "      <td>23.2500</td>\n",
       "      <td>NaN</td>\n",
       "      <td>Q</td>\n",
       "    </tr>\n",
       "    <tr>\n",
       "      <th>119</th>\n",
       "      <td>120</td>\n",
       "      <td>0</td>\n",
       "      <td>3</td>\n",
       "      <td>Andersson, Miss. Ellis Anna Maria</td>\n",
       "      <td>female</td>\n",
       "      <td>2.0</td>\n",
       "      <td>4</td>\n",
       "      <td>2</td>\n",
       "      <td>347082</td>\n",
       "      <td>31.2750</td>\n",
       "      <td>NaN</td>\n",
       "      <td>S</td>\n",
       "    </tr>\n",
       "    <tr>\n",
       "      <th>193</th>\n",
       "      <td>194</td>\n",
       "      <td>1</td>\n",
       "      <td>2</td>\n",
       "      <td>Navratil, Master. Michel M</td>\n",
       "      <td>male</td>\n",
       "      <td>3.0</td>\n",
       "      <td>1</td>\n",
       "      <td>1</td>\n",
       "      <td>230080</td>\n",
       "      <td>26.0000</td>\n",
       "      <td>F2</td>\n",
       "      <td>S</td>\n",
       "    </tr>\n",
       "  </tbody>\n",
       "</table>\n",
       "</div>"
      ],
      "text/plain": [
       "     PassengerId  Survived  Pclass                                      Name  \\\n",
       "52            53         1       1  Harper, Mrs. Henry Sleeper (Myna Haxtun)   \n",
       "108          109         0       3                           Rekic, Mr. Tido   \n",
       "301          302         1       3                        McCoy, Mr. Bernard   \n",
       "119          120         0       3         Andersson, Miss. Ellis Anna Maria   \n",
       "193          194         1       2                Navratil, Master. Michel M   \n",
       "\n",
       "        Sex   Age  SibSp  Parch    Ticket     Fare Cabin Embarked  \n",
       "52   female  49.0      1      0  PC 17572  76.7292   D33        C  \n",
       "108    male  38.0      0      0    349249   7.8958   NaN        S  \n",
       "301    male   NaN      2      0    367226  23.2500   NaN        Q  \n",
       "119  female   2.0      4      2    347082  31.2750   NaN        S  \n",
       "193    male   3.0      1      1    230080  26.0000    F2        S  "
      ]
     },
     "execution_count": 5,
     "metadata": {},
     "output_type": "execute_result"
    }
   ],
   "source": [
    "df.sample(5)"
   ]
  },
  {
   "cell_type": "code",
   "execution_count": 6,
   "id": "55637755-e79f-4afa-a46d-3c3587028366",
   "metadata": {
    "tags": []
   },
   "outputs": [
    {
     "data": {
      "text/plain": [
       "PassengerId      0\n",
       "Survived         0\n",
       "Pclass           0\n",
       "Name             0\n",
       "Sex              0\n",
       "Age            177\n",
       "SibSp            0\n",
       "Parch            0\n",
       "Ticket           0\n",
       "Fare             0\n",
       "Cabin          687\n",
       "Embarked         2\n",
       "dtype: int64"
      ]
     },
     "execution_count": 6,
     "metadata": {},
     "output_type": "execute_result"
    }
   ],
   "source": [
    "df.isnull().sum()"
   ]
  },
  {
   "cell_type": "code",
   "execution_count": 7,
   "id": "d0e45097-15ff-45df-9db6-6cc240df1d45",
   "metadata": {
    "tags": []
   },
   "outputs": [
    {
     "data": {
      "text/html": [
       "<div>\n",
       "<style scoped>\n",
       "    .dataframe tbody tr th:only-of-type {\n",
       "        vertical-align: middle;\n",
       "    }\n",
       "\n",
       "    .dataframe tbody tr th {\n",
       "        vertical-align: top;\n",
       "    }\n",
       "\n",
       "    .dataframe thead th {\n",
       "        text-align: right;\n",
       "    }\n",
       "</style>\n",
       "<table border=\"1\" class=\"dataframe\">\n",
       "  <thead>\n",
       "    <tr style=\"text-align: right;\">\n",
       "      <th></th>\n",
       "      <th>Train</th>\n",
       "    </tr>\n",
       "  </thead>\n",
       "  <tbody>\n",
       "    <tr>\n",
       "      <th>Age</th>\n",
       "      <td>177</td>\n",
       "    </tr>\n",
       "    <tr>\n",
       "      <th>Cabin</th>\n",
       "      <td>687</td>\n",
       "    </tr>\n",
       "    <tr>\n",
       "      <th>Embarked</th>\n",
       "      <td>2</td>\n",
       "    </tr>\n",
       "  </tbody>\n",
       "</table>\n",
       "</div>"
      ],
      "text/plain": [
       "          Train\n",
       "Age         177\n",
       "Cabin       687\n",
       "Embarked      2"
      ]
     },
     "execution_count": 7,
     "metadata": {},
     "output_type": "execute_result"
    }
   ],
   "source": [
    "# Checking for missing data\n",
    "NAs = pd.concat([df.isnull().sum()], axis=1, keys=['Train'])\n",
    "NAs[NAs.sum(axis=1) > 0]"
   ]
  },
  {
   "cell_type": "code",
   "execution_count": 8,
   "id": "a1679ee5-fd32-449b-9184-0c117f134afb",
   "metadata": {
    "tags": []
   },
   "outputs": [
    {
     "data": {
      "text/plain": [
       "(891, 9)"
      ]
     },
     "execution_count": 8,
     "metadata": {},
     "output_type": "execute_result"
    }
   ],
   "source": [
    "# drop the Cabin feature since it is missing a lot of the data\n",
    "df.pop('Cabin')\n",
    "df.pop('Name')\n",
    "df.pop('Ticket')\n",
    "\n",
    "df.shape"
   ]
  },
  {
   "cell_type": "code",
   "execution_count": 9,
   "id": "6d813c3b-0236-461d-9396-518ab99fce69",
   "metadata": {
    "tags": []
   },
   "outputs": [],
   "source": [
    "# Filling missing Age values with mean\n",
    "df['Age'] = df['Age'].fillna(df['Age'].mean())"
   ]
  },
  {
   "cell_type": "code",
   "execution_count": 10,
   "id": "68fd151f-05dc-459e-bfbe-7f4d2983613a",
   "metadata": {
    "tags": []
   },
   "outputs": [],
   "source": [
    "# Filling missing Embarked values with most common value\n",
    "df['Embarked'] = df['Embarked'].fillna(df['Embarked'].mode()[0])"
   ]
  },
  {
   "cell_type": "code",
   "execution_count": 11,
   "id": "02d43723-52d1-43ce-9917-2e0189d39925",
   "metadata": {
    "tags": []
   },
   "outputs": [
    {
     "data": {
      "text/plain": [
       "PassengerId      int64\n",
       "Survived         int64\n",
       "Pclass           int64\n",
       "Sex             object\n",
       "Age            float64\n",
       "SibSp            int64\n",
       "Parch            int64\n",
       "Fare           float64\n",
       "Embarked        object\n",
       "dtype: object"
      ]
     },
     "execution_count": 11,
     "metadata": {},
     "output_type": "execute_result"
    }
   ],
   "source": [
    "df.dtypes"
   ]
  },
  {
   "cell_type": "code",
   "execution_count": 12,
   "id": "f11a3277-8414-4e8a-b9cb-82eb572a4373",
   "metadata": {
    "tags": []
   },
   "outputs": [],
   "source": [
    "df = pd.get_dummies(df)"
   ]
  },
  {
   "cell_type": "code",
   "execution_count": 13,
   "id": "a086b569-7f7c-4886-9f1a-389d9bf44cdd",
   "metadata": {
    "tags": []
   },
   "outputs": [],
   "source": [
    "from sklearn.model_selection import train_test_split"
   ]
  },
  {
   "cell_type": "code",
   "execution_count": 14,
   "id": "fedf70fe-d872-4bc9-8d5f-654610f74c51",
   "metadata": {
    "tags": []
   },
   "outputs": [],
   "source": [
    "X = df.drop(['Survived'], axis=1).values\n",
    "y = df['Survived'].values"
   ]
  },
  {
   "cell_type": "code",
   "execution_count": 15,
   "id": "961cfc9d-cef0-4586-bc8f-865a2379df08",
   "metadata": {
    "tags": []
   },
   "outputs": [],
   "source": [
    "X_train, X_test, y_train, y_test = train_test_split(X, y, test_size=0.25, random_state=1000)"
   ]
  },
  {
   "cell_type": "code",
   "execution_count": 16,
   "id": "ffe45f1e-130f-4792-8e7a-55a43d7feeab",
   "metadata": {
    "tags": []
   },
   "outputs": [],
   "source": [
    "from sklearn.linear_model import LogisticRegression"
   ]
  },
  {
   "cell_type": "code",
   "execution_count": 17,
   "id": "b5e18f9c-b235-4f65-8be1-a8b6c395c12e",
   "metadata": {
    "tags": []
   },
   "outputs": [
    {
     "name": "stdout",
     "output_type": "stream",
     "text": [
      "Train Accuracy: 0.8038922155688623\n",
      "Test  Accuracy: 0.8116591928251121\n"
     ]
    }
   ],
   "source": [
    "classifier = LogisticRegression(max_iter=1000)\n",
    "classifier.fit(X_train, y_train)\n",
    "\n",
    "train_score = classifier.score(X_train, y_train)\n",
    "test_score  = classifier.score(X_test,  y_test)\n",
    "\n",
    "print(\"Train Accuracy:\", train_score)\n",
    "print(\"Test  Accuracy:\", test_score)"
   ]
  },
  {
   "cell_type": "markdown",
   "id": "dcb625fe-34f8-4f4d-916b-2e0f6713c7d9",
   "metadata": {},
   "source": [
    "It would be interesting to see whether we are able to outperform this model.\n",
    "\n",
    "------------------------------\n",
    "#### Deep learning using keras\n",
    "--------------------------"
   ]
  },
  {
   "cell_type": "code",
   "execution_count": 18,
   "id": "f5c1118a-1796-46f9-b32a-5d7d5432cb2b",
   "metadata": {
    "tags": []
   },
   "outputs": [],
   "source": [
    "from keras.models import Sequential\n",
    "from keras.layers import Dense"
   ]
  },
  {
   "cell_type": "code",
   "execution_count": 19,
   "id": "24fd50c9-69fb-4c76-a59d-3e13da47c260",
   "metadata": {
    "tags": []
   },
   "outputs": [
    {
     "data": {
      "text/plain": [
       "11"
      ]
     },
     "execution_count": 19,
     "metadata": {},
     "output_type": "execute_result"
    }
   ],
   "source": [
    "input_dim = X_train.shape[1]  # Number of features\n",
    "input_dim"
   ]
  },
  {
   "cell_type": "markdown",
   "id": "a2ef6b89-465b-43e1-b7cc-07ebbc80d532",
   "metadata": {},
   "source": [
    "#### define keras model"
   ]
  },
  {
   "cell_type": "code",
   "execution_count": 75,
   "id": "53ce6c98-c0ca-4211-93b1-9c7eb6579270",
   "metadata": {
    "tags": []
   },
   "outputs": [],
   "source": [
    "model = Sequential()\n",
    "\n",
    "model.add(Dense(units             = 8, \n",
    "                input_dim         = input_dim, \n",
    "                kernel_initializer='uniform', \n",
    "                activation        ='relu'))\n",
    "\n",
    "# model.add(Dense(units             = 8, \n",
    "#                 kernel_initializer='uniform', \n",
    "#                 activation        ='relu'))\n",
    "\n",
    "model.add(Dense(units  = 1,  \n",
    "                kernel_initializer ='uniform',\n",
    "                activation='sigmoid'))"
   ]
  },
  {
   "cell_type": "code",
   "execution_count": 76,
   "id": "ee0fbbd7-e78a-493b-be91-24aec65b470e",
   "metadata": {
    "tags": []
   },
   "outputs": [
    {
     "name": "stdout",
     "output_type": "stream",
     "text": [
      "Model: \"sequential_12\"\n",
      "_________________________________________________________________\n",
      " Layer (type)                Output Shape              Param #   \n",
      "=================================================================\n",
      " dense_36 (Dense)            (None, 8)                 96        \n",
      "                                                                 \n",
      " dense_37 (Dense)            (None, 1)                 9         \n",
      "                                                                 \n",
      "=================================================================\n",
      "Total params: 105 (420.00 Byte)\n",
      "Trainable params: 105 (420.00 Byte)\n",
      "Non-trainable params: 0 (0.00 Byte)\n",
      "_________________________________________________________________\n"
     ]
    }
   ],
   "source": [
    "model.compile( loss='binary_crossentropy', \n",
    "               optimizer='adam', \n",
    "               metrics=['accuracy'])\n",
    "\n",
    "model.summary()"
   ]
  },
  {
   "cell_type": "markdown",
   "id": "22dd3d9f-48a5-4a1b-b308-b44be9219eb8",
   "metadata": {},
   "source": [
    "#### plot the model"
   ]
  },
  {
   "cell_type": "code",
   "execution_count": 77,
   "id": "c5bf36b4-5cb3-4c08-95c2-5cbde897f18e",
   "metadata": {
    "tags": []
   },
   "outputs": [],
   "source": [
    "from keras.utils import plot_model"
   ]
  },
  {
   "cell_type": "code",
   "execution_count": 78,
   "id": "8d8122e4-9f99-42d4-ba9c-12b8282182b5",
   "metadata": {
    "tags": []
   },
   "outputs": [
    {
     "data": {
      "image/png": "[encoded data removed]",
      "text/plain": [
       "<IPython.core.display.Image object>"
      ]
     },
     "execution_count": 78,
     "metadata": {},
     "output_type": "execute_result"
    }
   ],
   "source": [
    "plot_model(model, to_file='model.png')"
   ]
  },
  {
   "cell_type": "code",
   "execution_count": 79,
   "id": "dbeb88ce-d2de-4e88-b900-198a128e46bc",
   "metadata": {
    "tags": []
   },
   "outputs": [
    {
     "name": "stdout",
     "output_type": "stream",
     "text": [
      "CPU times: total: 1min\n",
      "Wall time: 1min 32s\n"
     ]
    }
   ],
   "source": [
    "%%time\n",
    "history = model.fit(x=X_train, \n",
    "                    y=y_train,\n",
    "                    epochs=200,\n",
    "                    verbose=0,                           # False or 0, 2 detailed report\n",
    "                    validation_data=(X_test, y_test),\n",
    "                    batch_size=10)"
   ]
  },
  {
   "cell_type": "markdown",
   "id": "0071ddc5-1a19-42be-9e7a-edc3f6adc698",
   "metadata": {},
   "source": [
    "evaluate the accuracy model:"
   ]
  },
  {
   "cell_type": "code",
   "execution_count": 80,
   "id": "564ce758-2a69-488e-acf6-7a26354e80d5",
   "metadata": {
    "tags": []
   },
   "outputs": [],
   "source": [
    "train_loss, train_accuracy = model.evaluate(X_train, y_train, verbose=False)\n",
    "test_loss,  test_accuracy  = model.evaluate(X_test,  y_test,  verbose=False)"
   ]
  },
  {
   "cell_type": "code",
   "execution_count": 81,
   "id": "2bf244d4-c39a-4d05-8985-84311353b83d",
   "metadata": {
    "tags": []
   },
   "outputs": [
    {
     "name": "stdout",
     "output_type": "stream",
     "text": [
      "Training Accuracy: 0.8107\n",
      "Testing Accuracy:  0.7978\n"
     ]
    }
   ],
   "source": [
    "print(\"Training Accuracy: {:.4f}\".format(train_accuracy))\n",
    "print(\"Testing Accuracy:  {:.4f}\".format(test_accuracy))"
   ]
  },
  {
   "cell_type": "markdown",
   "id": "ae62a707-07db-4004-903b-00ce20174b32",
   "metadata": {},
   "source": [
    "#### visualize the model performance"
   ]
  },
  {
   "cell_type": "code",
   "execution_count": 82,
   "id": "6eb495c9-846a-4225-885c-e9b6e035d898",
   "metadata": {
    "tags": []
   },
   "outputs": [],
   "source": [
    "import matplotlib.pyplot as plt\n",
    "plt.style.use('ggplot')\n",
    "\n",
    "def plot_history(history):\n",
    "    acc     = history.history['accuracy']\n",
    "    val_acc = history.history['val_accuracy']\n",
    "    \n",
    "    loss     = history.history['loss']\n",
    "    val_loss = history.history['val_loss']\n",
    "    \n",
    "    x = range(1, len(acc) + 1)\n",
    "\n",
    "    plt.figure(figsize=(12, 5))\n",
    "    plt.subplot(1, 2, 1)\n",
    "    plt.plot(x, acc, 'b', label='Training acc')\n",
    "    plt.plot(x, val_acc, 'r', label='Validation acc')\n",
    "    plt.title('Training and validation accuracy')\n",
    "    plt.legend()\n",
    "    plt.subplot(1, 2, 2)\n",
    "    plt.plot(x, loss, 'b', label='Training loss')\n",
    "    plt.plot(x, val_loss, 'r', label='Validation loss')\n",
    "    plt.title('Training and validation loss')\n",
    "    plt.legend()"
   ]
  },
  {
   "cell_type": "code",
   "execution_count": 83,
   "id": "a554a985-84f3-4225-ae2e-7cb54db5dee8",
   "metadata": {
    "tags": []
   },
   "outputs": [
    {
     "data": {
      "image/png": "[encoded data removed]",
      "text/plain": [
       "<Figure size 1200x500 with 2 Axes>"
      ]
     },
     "metadata": {},
     "output_type": "display_data"
    }
   ],
   "source": [
    "plot_history(history)"
   ]
  },
  {
   "cell_type": "markdown",
   "id": "473a67a8-deda-4002-a25e-7131f7326f63",
   "metadata": {},
   "source": [
    "#### K-Fold"
   ]
  },
  {
   "cell_type": "code",
   "execution_count": 53,
   "id": "af6caffb-806d-4b9f-8a3f-22252f9fa348",
   "metadata": {
    "tags": []
   },
   "outputs": [],
   "source": [
    "from sklearn.model_selection import KFold"
   ]
  },
  {
   "cell_type": "code",
   "execution_count": 54,
   "id": "8071eb9e-f111-42ad-8c13-77f7e6df3875",
   "metadata": {
    "tags": []
   },
   "outputs": [],
   "source": [
    "# define 10-fold cross validation test \n",
    "kfold = KFold(n_splits=5, shuffle=True, random_state=1)"
   ]
  },
  {
   "cell_type": "code",
   "execution_count": 62,
   "id": "96c5506d-5617-47d2-bac5-7ebd558ea8f4",
   "metadata": {
    "tags": []
   },
   "outputs": [],
   "source": [
    "# Create function returning a compiled network\n",
    "def create_network():\n",
    "    \n",
    "    model = Sequential()\n",
    "\n",
    "    model.add(Dense(units             = 16, \n",
    "                    input_dim         = input_dim, \n",
    "                    kernel_initializer='uniform', \n",
    "                    activation        ='relu'))\n",
    "\n",
    "    model.add(Dense(units             = 8, \n",
    "                    #input_dim         = input_dim, \n",
    "                    kernel_initializer='uniform', \n",
    "                    activation        ='relu'))\n",
    "\n",
    "    # model.add(Dense(output_dim = 4, \n",
    "    #                 kernel_initializer='uniform', \n",
    "    #                 activation='relu'))\n",
    "\n",
    "    # model.add(Dense(output_dim = 4, \n",
    "    #                 kernel_initializer='uniform', \n",
    "    #                 activation='relu'))\n",
    "\n",
    "    model.add(Dense(units  = 1,  \n",
    "                    kernel_initializer ='uniform',\n",
    "                    activation='sigmoid'))\n",
    "    \n",
    "    # Compile neural network\n",
    "    model.compile(loss='binary_crossentropy', # Cross-entropy\n",
    "                    optimizer='rmsprop', # Root Mean Square Propagation\n",
    "                    metrics=['accuracy']) # Accuracy performance metric\n",
    "    \n",
    "    # Return compiled network\n",
    "    return model"
   ]
  },
  {
   "cell_type": "code",
   "execution_count": 63,
   "id": "7d19c1c9-714f-4de5-8fce-cbb82cda980f",
   "metadata": {
    "tags": []
   },
   "outputs": [
    {
     "name": "stdout",
     "output_type": "stream",
     "text": [
      "Accuracy: 63.69%\n",
      "Accuracy: 56.74%\n",
      "Accuracy: 69.66%\n",
      "Accuracy: 67.42%\n",
      "Accuracy: 72.47%\n"
     ]
    }
   ],
   "source": [
    "for train_index, test_index in kfold.split(X, y):  # X is your feature data, y is your target data\n",
    "    X_train, X_test = X[train_index], X[test_index]\n",
    "    y_train, y_test = y[train_index], y[test_index]\n",
    "    \n",
    "    model = create_network()\n",
    "    \n",
    "    model.fit(X_train, \n",
    "              y_train, \n",
    "              epochs    = 10 ,\n",
    "              batch_size= 32, \n",
    "              verbose   =0)  # Train the model\n",
    "    \n",
    "    scores = model.evaluate(X_test, y_test, verbose=0)  # Evaluate the model\n",
    "    print(f\"Accuracy: {scores[1] * 100:.2f}%\")"
   ]
  },
  {
   "cell_type": "code",
   "execution_count": null,
   "id": "0639e2e2-d2fd-41ab-ab3d-2b4e98328b89",
   "metadata": {},
   "outputs": [],
   "source": []
  },
  {
   "cell_type": "code",
   "execution_count": null,
   "id": "9bc12e93-b73d-43f3-a988-ff0eb196b544",
   "metadata": {},
   "outputs": [],
   "source": []
  }
 ],
 "metadata": {
  "kernelspec": {
   "display_name": "Python 3 (ipykernel)",
   "language": "python",
   "name": "python3"
  },
  "language_info": {
   "codemirror_mode": {
    "name": "ipython",
    "version": 3
   },
   "file_extension": ".py",
   "mimetype": "text/x-python",
   "name": "python",
   "nbconvert_exporter": "python",
   "pygments_lexer": "ipython3",
   "version": "3.11.3"
  }
 },
 "nbformat": 4,
 "nbformat_minor": 5
}
