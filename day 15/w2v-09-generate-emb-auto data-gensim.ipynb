{
 "cells": [
  {
   "cell_type": "markdown",
   "metadata": {},
   "source": [
    "#### Genism Word2Vec"
   ]
  },
  {
   "cell_type": "code",
   "execution_count": 3,
   "metadata": {
    "tags": []
   },
   "outputs": [],
   "source": [
    "import pandas as pd\n",
    "import numpy as np\n",
    "\n",
    "import matplotlib.pyplot as plt\n",
    "\n",
    "import seaborn as sns\n",
    "\n",
    "import warnings\n",
    "warnings.filterwarnings('ignore')\n",
    "\n",
    "import re  # For preprocessing\n",
    "\n",
    "from time import time  # To time our operations\n",
    "from collections import defaultdict  # For word frequency\n",
    "\n",
    "import spacy  # For preprocessing\n",
    "\n",
    "from gensim.models import Word2Vec\n",
    "\n",
    "# import logging  # Setting up the loggings to monitor gensim\n",
    "# logging.basicConfig(format=\"%(levelname)s - %(asctime)s: %(message)s\", datefmt= '%H:%M:%S', level=logging.INFO)\n",
    "\n",
    "from sklearn.manifold import TSNE\n",
    "\n",
    "from numpy import dot\n",
    "from numpy.linalg import norm"
   ]
  },
  {
   "cell_type": "markdown",
   "metadata": {},
   "source": [
    "## Dataset Description\n",
    "The dataset used is from Kaggle Dataset( https://www.kaggle.com/CooperUnion/cardataset) \n",
    "\n",
    "This cars dataset includes features such as `make`, `model`, `year`, `engine`, and other properties of the car. \n",
    "\n",
    "We will use these features to generate the word embeddings for each make model and then compare the similarities between different make model. \n",
    "\n",
    "The following dataframe shows the detail information of this dataset."
   ]
  },
  {
   "cell_type": "code",
   "execution_count": 6,
   "metadata": {
    "tags": []
   },
   "outputs": [],
   "source": [
    "location = 'https://github.com/gridflowai/gridflowAI-datasets-icons/raw/master/AI-DATASETS/01-MISC/word2vec-data.csv'"
   ]
  },
  {
   "cell_type": "code",
   "execution_count": 7,
   "metadata": {
    "tags": []
   },
   "outputs": [
    {
     "data": {
      "text/html": [
       "<div>\n",
       "<style scoped>\n",
       "    .dataframe tbody tr th:only-of-type {\n",
       "        vertical-align: middle;\n",
       "    }\n",
       "\n",
       "    .dataframe tbody tr th {\n",
       "        vertical-align: top;\n",
       "    }\n",
       "\n",
       "    .dataframe thead th {\n",
       "        text-align: right;\n",
       "    }\n",
       "</style>\n",
       "<table border=\"1\" class=\"dataframe\">\n",
       "  <thead>\n",
       "    <tr style=\"text-align: right;\">\n",
       "      <th></th>\n",
       "      <th>Make</th>\n",
       "      <th>Model</th>\n",
       "      <th>Year</th>\n",
       "      <th>Engine Fuel Type</th>\n",
       "      <th>Engine HP</th>\n",
       "      <th>Engine Cylinders</th>\n",
       "      <th>Transmission Type</th>\n",
       "      <th>Driven_Wheels</th>\n",
       "      <th>Number of Doors</th>\n",
       "      <th>Market Category</th>\n",
       "      <th>Vehicle Size</th>\n",
       "      <th>Vehicle Style</th>\n",
       "      <th>highway MPG</th>\n",
       "      <th>city mpg</th>\n",
       "      <th>Popularity</th>\n",
       "      <th>MSRP</th>\n",
       "    </tr>\n",
       "  </thead>\n",
       "  <tbody>\n",
       "    <tr>\n",
       "      <th>11218</th>\n",
       "      <td>Hyundai</td>\n",
       "      <td>Veloster</td>\n",
       "      <td>2014</td>\n",
       "      <td>regular unleaded</td>\n",
       "      <td>132.0</td>\n",
       "      <td>4.0</td>\n",
       "      <td>AUTOMATED_MANUAL</td>\n",
       "      <td>front wheel drive</td>\n",
       "      <td>3.0</td>\n",
       "      <td>Hatchback</td>\n",
       "      <td>Compact</td>\n",
       "      <td>2dr Hatchback</td>\n",
       "      <td>36</td>\n",
       "      <td>28</td>\n",
       "      <td>1439</td>\n",
       "      <td>21650</td>\n",
       "    </tr>\n",
       "    <tr>\n",
       "      <th>10645</th>\n",
       "      <td>Ford</td>\n",
       "      <td>Transit Connect</td>\n",
       "      <td>2015</td>\n",
       "      <td>regular unleaded</td>\n",
       "      <td>169.0</td>\n",
       "      <td>4.0</td>\n",
       "      <td>AUTOMATIC</td>\n",
       "      <td>front wheel drive</td>\n",
       "      <td>4.0</td>\n",
       "      <td>NaN</td>\n",
       "      <td>Compact</td>\n",
       "      <td>Passenger Minivan</td>\n",
       "      <td>28</td>\n",
       "      <td>20</td>\n",
       "      <td>5657</td>\n",
       "      <td>26710</td>\n",
       "    </tr>\n",
       "    <tr>\n",
       "      <th>268</th>\n",
       "      <td>Nissan</td>\n",
       "      <td>350Z</td>\n",
       "      <td>2007</td>\n",
       "      <td>regular unleaded</td>\n",
       "      <td>306.0</td>\n",
       "      <td>6.0</td>\n",
       "      <td>MANUAL</td>\n",
       "      <td>rear wheel drive</td>\n",
       "      <td>2.0</td>\n",
       "      <td>High-Performance</td>\n",
       "      <td>Compact</td>\n",
       "      <td>Coupe</td>\n",
       "      <td>25</td>\n",
       "      <td>18</td>\n",
       "      <td>2009</td>\n",
       "      <td>36100</td>\n",
       "    </tr>\n",
       "    <tr>\n",
       "      <th>1563</th>\n",
       "      <td>Cadillac</td>\n",
       "      <td>ATS</td>\n",
       "      <td>2017</td>\n",
       "      <td>premium unleaded (recommended)</td>\n",
       "      <td>272.0</td>\n",
       "      <td>4.0</td>\n",
       "      <td>AUTOMATIC</td>\n",
       "      <td>rear wheel drive</td>\n",
       "      <td>4.0</td>\n",
       "      <td>Luxury,Performance</td>\n",
       "      <td>Midsize</td>\n",
       "      <td>Sedan</td>\n",
       "      <td>31</td>\n",
       "      <td>22</td>\n",
       "      <td>1624</td>\n",
       "      <td>34595</td>\n",
       "    </tr>\n",
       "    <tr>\n",
       "      <th>2196</th>\n",
       "      <td>Chevrolet</td>\n",
       "      <td>Camaro</td>\n",
       "      <td>2017</td>\n",
       "      <td>premium unleaded (recommended)</td>\n",
       "      <td>455.0</td>\n",
       "      <td>8.0</td>\n",
       "      <td>MANUAL</td>\n",
       "      <td>rear wheel drive</td>\n",
       "      <td>2.0</td>\n",
       "      <td>High-Performance</td>\n",
       "      <td>Midsize</td>\n",
       "      <td>Coupe</td>\n",
       "      <td>25</td>\n",
       "      <td>16</td>\n",
       "      <td>1385</td>\n",
       "      <td>36905</td>\n",
       "    </tr>\n",
       "    <tr>\n",
       "      <th>11160</th>\n",
       "      <td>Aston Martin</td>\n",
       "      <td>V8 Vantage</td>\n",
       "      <td>2015</td>\n",
       "      <td>premium unleaded (required)</td>\n",
       "      <td>430.0</td>\n",
       "      <td>8.0</td>\n",
       "      <td>AUTOMATED_MANUAL</td>\n",
       "      <td>rear wheel drive</td>\n",
       "      <td>2.0</td>\n",
       "      <td>Exotic,High-Performance</td>\n",
       "      <td>Compact</td>\n",
       "      <td>Coupe</td>\n",
       "      <td>21</td>\n",
       "      <td>14</td>\n",
       "      <td>259</td>\n",
       "      <td>138695</td>\n",
       "    </tr>\n",
       "    <tr>\n",
       "      <th>1387</th>\n",
       "      <td>BMW</td>\n",
       "      <td>ALPINA B6 Gran Coupe</td>\n",
       "      <td>2016</td>\n",
       "      <td>premium unleaded (required)</td>\n",
       "      <td>600.0</td>\n",
       "      <td>8.0</td>\n",
       "      <td>AUTOMATIC</td>\n",
       "      <td>all wheel drive</td>\n",
       "      <td>4.0</td>\n",
       "      <td>Factory Tuner,Luxury,High-Performance</td>\n",
       "      <td>Large</td>\n",
       "      <td>Sedan</td>\n",
       "      <td>24</td>\n",
       "      <td>15</td>\n",
       "      <td>3916</td>\n",
       "      <td>122200</td>\n",
       "    </tr>\n",
       "    <tr>\n",
       "      <th>11269</th>\n",
       "      <td>Toyota</td>\n",
       "      <td>Venza</td>\n",
       "      <td>2013</td>\n",
       "      <td>regular unleaded</td>\n",
       "      <td>268.0</td>\n",
       "      <td>6.0</td>\n",
       "      <td>AUTOMATIC</td>\n",
       "      <td>all wheel drive</td>\n",
       "      <td>4.0</td>\n",
       "      <td>Crossover,Performance</td>\n",
       "      <td>Midsize</td>\n",
       "      <td>Wagon</td>\n",
       "      <td>25</td>\n",
       "      <td>18</td>\n",
       "      <td>2031</td>\n",
       "      <td>39020</td>\n",
       "    </tr>\n",
       "    <tr>\n",
       "      <th>3013</th>\n",
       "      <td>Chevrolet</td>\n",
       "      <td>Corvette</td>\n",
       "      <td>2017</td>\n",
       "      <td>premium unleaded (recommended)</td>\n",
       "      <td>460.0</td>\n",
       "      <td>8.0</td>\n",
       "      <td>MANUAL</td>\n",
       "      <td>rear wheel drive</td>\n",
       "      <td>2.0</td>\n",
       "      <td>High-Performance</td>\n",
       "      <td>Compact</td>\n",
       "      <td>Coupe</td>\n",
       "      <td>25</td>\n",
       "      <td>16</td>\n",
       "      <td>1385</td>\n",
       "      <td>65450</td>\n",
       "    </tr>\n",
       "    <tr>\n",
       "      <th>3192</th>\n",
       "      <td>Cadillac</td>\n",
       "      <td>CT6</td>\n",
       "      <td>2017</td>\n",
       "      <td>regular unleaded</td>\n",
       "      <td>335.0</td>\n",
       "      <td>6.0</td>\n",
       "      <td>AUTOMATIC</td>\n",
       "      <td>all wheel drive</td>\n",
       "      <td>4.0</td>\n",
       "      <td>Luxury,Performance</td>\n",
       "      <td>Large</td>\n",
       "      <td>Sedan</td>\n",
       "      <td>27</td>\n",
       "      <td>18</td>\n",
       "      <td>1624</td>\n",
       "      <td>83495</td>\n",
       "    </tr>\n",
       "  </tbody>\n",
       "</table>\n",
       "</div>"
      ],
      "text/plain": [
       "               Make                 Model  Year  \\\n",
       "11218       Hyundai              Veloster  2014   \n",
       "10645          Ford       Transit Connect  2015   \n",
       "268          Nissan                  350Z  2007   \n",
       "1563       Cadillac                   ATS  2017   \n",
       "2196      Chevrolet                Camaro  2017   \n",
       "11160  Aston Martin            V8 Vantage  2015   \n",
       "1387            BMW  ALPINA B6 Gran Coupe  2016   \n",
       "11269        Toyota                 Venza  2013   \n",
       "3013      Chevrolet              Corvette  2017   \n",
       "3192       Cadillac                   CT6  2017   \n",
       "\n",
       "                     Engine Fuel Type  Engine HP  Engine Cylinders  \\\n",
       "11218                regular unleaded      132.0               4.0   \n",
       "10645                regular unleaded      169.0               4.0   \n",
       "268                  regular unleaded      306.0               6.0   \n",
       "1563   premium unleaded (recommended)      272.0               4.0   \n",
       "2196   premium unleaded (recommended)      455.0               8.0   \n",
       "11160     premium unleaded (required)      430.0               8.0   \n",
       "1387      premium unleaded (required)      600.0               8.0   \n",
       "11269                regular unleaded      268.0               6.0   \n",
       "3013   premium unleaded (recommended)      460.0               8.0   \n",
       "3192                 regular unleaded      335.0               6.0   \n",
       "\n",
       "      Transmission Type      Driven_Wheels  Number of Doors  \\\n",
       "11218  AUTOMATED_MANUAL  front wheel drive              3.0   \n",
       "10645         AUTOMATIC  front wheel drive              4.0   \n",
       "268              MANUAL   rear wheel drive              2.0   \n",
       "1563          AUTOMATIC   rear wheel drive              4.0   \n",
       "2196             MANUAL   rear wheel drive              2.0   \n",
       "11160  AUTOMATED_MANUAL   rear wheel drive              2.0   \n",
       "1387          AUTOMATIC    all wheel drive              4.0   \n",
       "11269         AUTOMATIC    all wheel drive              4.0   \n",
       "3013             MANUAL   rear wheel drive              2.0   \n",
       "3192          AUTOMATIC    all wheel drive              4.0   \n",
       "\n",
       "                             Market Category Vehicle Size      Vehicle Style  \\\n",
       "11218                              Hatchback      Compact      2dr Hatchback   \n",
       "10645                                    NaN      Compact  Passenger Minivan   \n",
       "268                         High-Performance      Compact              Coupe   \n",
       "1563                      Luxury,Performance      Midsize              Sedan   \n",
       "2196                        High-Performance      Midsize              Coupe   \n",
       "11160                Exotic,High-Performance      Compact              Coupe   \n",
       "1387   Factory Tuner,Luxury,High-Performance        Large              Sedan   \n",
       "11269                  Crossover,Performance      Midsize              Wagon   \n",
       "3013                        High-Performance      Compact              Coupe   \n",
       "3192                      Luxury,Performance        Large              Sedan   \n",
       "\n",
       "       highway MPG  city mpg  Popularity    MSRP  \n",
       "11218           36        28        1439   21650  \n",
       "10645           28        20        5657   26710  \n",
       "268             25        18        2009   36100  \n",
       "1563            31        22        1624   34595  \n",
       "2196            25        16        1385   36905  \n",
       "11160           21        14         259  138695  \n",
       "1387            24        15        3916  122200  \n",
       "11269           25        18        2031   39020  \n",
       "3013            25        16        1385   65450  \n",
       "3192            27        18        1624   83495  "
      ]
     },
     "execution_count": 7,
     "metadata": {},
     "output_type": "execute_result"
    }
   ],
   "source": [
    "df = pd.read_csv(location)\n",
    "df.sample(10)"
   ]
  },
  {
   "cell_type": "code",
   "execution_count": 8,
   "metadata": {
    "tags": []
   },
   "outputs": [
    {
     "data": {
      "text/plain": [
       "(11914, 16)"
      ]
     },
     "execution_count": 8,
     "metadata": {},
     "output_type": "execute_result"
    }
   ],
   "source": [
    "df.shape"
   ]
  },
  {
   "cell_type": "markdown",
   "metadata": {},
   "source": [
    "#### Genism word2Vec \n",
    "\n",
    "requires that a format of `list of list` for training where every __document is contained in a list and every list contains list of tokens of that document__. \n",
    "\n",
    "At first, we need to generate a format of `list of list` for training the make model word embedding. \n",
    "\n",
    "To achieve these, we need to do the following data preprocessing steps :\n",
    "\n",
    "- Create a new column for __Make Model__\n",
    "- Generate a format of list of list for each __Make Model__ with the following features: \n",
    "    - Engine Fuel Type, \n",
    "    - Transmission Type, \n",
    "    - Driven_Wheels, \n",
    "    - Market Category, \n",
    "    - Vehicle Size and \n",
    "    - Vehicle Style."
   ]
  },
  {
   "cell_type": "markdown",
   "metadata": {},
   "source": [
    "Create a new column for Make Model"
   ]
  },
  {
   "cell_type": "code",
   "execution_count": 9,
   "metadata": {
    "tags": []
   },
   "outputs": [],
   "source": [
    "df['Maker_Model'] = df['Make']+ \" \" + df['Model']"
   ]
  },
  {
   "cell_type": "markdown",
   "metadata": {},
   "source": [
    "Generate a format of list of list for each Make Model"
   ]
  },
  {
   "cell_type": "code",
   "execution_count": 10,
   "metadata": {
    "tags": []
   },
   "outputs": [
    {
     "data": {
      "text/html": [
       "<div>\n",
       "<style scoped>\n",
       "    .dataframe tbody tr th:only-of-type {\n",
       "        vertical-align: middle;\n",
       "    }\n",
       "\n",
       "    .dataframe tbody tr th {\n",
       "        vertical-align: top;\n",
       "    }\n",
       "\n",
       "    .dataframe thead th {\n",
       "        text-align: right;\n",
       "    }\n",
       "</style>\n",
       "<table border=\"1\" class=\"dataframe\">\n",
       "  <thead>\n",
       "    <tr style=\"text-align: right;\">\n",
       "      <th></th>\n",
       "      <th>Engine Fuel Type</th>\n",
       "      <th>Transmission Type</th>\n",
       "      <th>Driven_Wheels</th>\n",
       "      <th>Market Category</th>\n",
       "      <th>Vehicle Size</th>\n",
       "      <th>Vehicle Style</th>\n",
       "      <th>Maker_Model</th>\n",
       "    </tr>\n",
       "  </thead>\n",
       "  <tbody>\n",
       "    <tr>\n",
       "      <th>0</th>\n",
       "      <td>premium unleaded (required)</td>\n",
       "      <td>MANUAL</td>\n",
       "      <td>rear wheel drive</td>\n",
       "      <td>Factory Tuner,Luxury,High-Performance</td>\n",
       "      <td>Compact</td>\n",
       "      <td>Coupe</td>\n",
       "      <td>BMW 1 Series M</td>\n",
       "    </tr>\n",
       "    <tr>\n",
       "      <th>1</th>\n",
       "      <td>premium unleaded (required)</td>\n",
       "      <td>MANUAL</td>\n",
       "      <td>rear wheel drive</td>\n",
       "      <td>Luxury,Performance</td>\n",
       "      <td>Compact</td>\n",
       "      <td>Convertible</td>\n",
       "      <td>BMW 1 Series</td>\n",
       "    </tr>\n",
       "    <tr>\n",
       "      <th>2</th>\n",
       "      <td>premium unleaded (required)</td>\n",
       "      <td>MANUAL</td>\n",
       "      <td>rear wheel drive</td>\n",
       "      <td>Luxury,High-Performance</td>\n",
       "      <td>Compact</td>\n",
       "      <td>Coupe</td>\n",
       "      <td>BMW 1 Series</td>\n",
       "    </tr>\n",
       "    <tr>\n",
       "      <th>3</th>\n",
       "      <td>premium unleaded (required)</td>\n",
       "      <td>MANUAL</td>\n",
       "      <td>rear wheel drive</td>\n",
       "      <td>Luxury,Performance</td>\n",
       "      <td>Compact</td>\n",
       "      <td>Coupe</td>\n",
       "      <td>BMW 1 Series</td>\n",
       "    </tr>\n",
       "    <tr>\n",
       "      <th>4</th>\n",
       "      <td>premium unleaded (required)</td>\n",
       "      <td>MANUAL</td>\n",
       "      <td>rear wheel drive</td>\n",
       "      <td>Luxury</td>\n",
       "      <td>Compact</td>\n",
       "      <td>Convertible</td>\n",
       "      <td>BMW 1 Series</td>\n",
       "    </tr>\n",
       "  </tbody>\n",
       "</table>\n",
       "</div>"
      ],
      "text/plain": [
       "              Engine Fuel Type Transmission Type     Driven_Wheels  \\\n",
       "0  premium unleaded (required)            MANUAL  rear wheel drive   \n",
       "1  premium unleaded (required)            MANUAL  rear wheel drive   \n",
       "2  premium unleaded (required)            MANUAL  rear wheel drive   \n",
       "3  premium unleaded (required)            MANUAL  rear wheel drive   \n",
       "4  premium unleaded (required)            MANUAL  rear wheel drive   \n",
       "\n",
       "                         Market Category Vehicle Size Vehicle Style  \\\n",
       "0  Factory Tuner,Luxury,High-Performance      Compact         Coupe   \n",
       "1                     Luxury,Performance      Compact   Convertible   \n",
       "2                Luxury,High-Performance      Compact         Coupe   \n",
       "3                     Luxury,Performance      Compact         Coupe   \n",
       "4                                 Luxury      Compact   Convertible   \n",
       "\n",
       "      Maker_Model  \n",
       "0  BMW 1 Series M  \n",
       "1    BMW 1 Series  \n",
       "2    BMW 1 Series  \n",
       "3    BMW 1 Series  \n",
       "4    BMW 1 Series  "
      ]
     },
     "execution_count": 10,
     "metadata": {},
     "output_type": "execute_result"
    }
   ],
   "source": [
    "df1 = df[['Engine Fuel Type',\n",
    "          'Transmission Type',\n",
    "          'Driven_Wheels',\n",
    "          'Market Category',\n",
    "          'Vehicle Size', \n",
    "          'Vehicle Style', \n",
    "          'Maker_Model']]\n",
    "\n",
    "df1.head()"
   ]
  },
  {
   "cell_type": "code",
   "execution_count": 11,
   "metadata": {
    "tags": []
   },
   "outputs": [],
   "source": [
    "pd.set_option('max_colwidth', 140)"
   ]
  },
  {
   "cell_type": "code",
   "execution_count": 12,
   "metadata": {
    "tags": []
   },
   "outputs": [
    {
     "data": {
      "text/plain": [
       "0    premium unleaded (required),MANUAL,rear wheel drive,Factory Tuner,Luxury,High-Performance,Compact,Coupe,BMW 1 Series M\n",
       "1                   premium unleaded (required),MANUAL,rear wheel drive,Luxury,Performance,Compact,Convertible,BMW 1 Series\n",
       "2                    premium unleaded (required),MANUAL,rear wheel drive,Luxury,High-Performance,Compact,Coupe,BMW 1 Series\n",
       "3                         premium unleaded (required),MANUAL,rear wheel drive,Luxury,Performance,Compact,Coupe,BMW 1 Series\n",
       "4                               premium unleaded (required),MANUAL,rear wheel drive,Luxury,Compact,Convertible,BMW 1 Series\n",
       "dtype: object"
      ]
     },
     "execution_count": 12,
     "metadata": {},
     "output_type": "execute_result"
    }
   ],
   "source": [
    "# For each row, combine all the columns into one column\n",
    "df2 = df1.apply(lambda x: ','.join(x.astype(str)), axis=1) \n",
    "\n",
    "df2.head()"
   ]
  },
  {
   "cell_type": "code",
   "execution_count": 13,
   "metadata": {
    "tags": []
   },
   "outputs": [
    {
     "data": {
      "text/html": [
       "<div>\n",
       "<style scoped>\n",
       "    .dataframe tbody tr th:only-of-type {\n",
       "        vertical-align: middle;\n",
       "    }\n",
       "\n",
       "    .dataframe tbody tr th {\n",
       "        vertical-align: top;\n",
       "    }\n",
       "\n",
       "    .dataframe thead th {\n",
       "        text-align: right;\n",
       "    }\n",
       "</style>\n",
       "<table border=\"1\" class=\"dataframe\">\n",
       "  <thead>\n",
       "    <tr style=\"text-align: right;\">\n",
       "      <th></th>\n",
       "      <th>clean</th>\n",
       "    </tr>\n",
       "  </thead>\n",
       "  <tbody>\n",
       "    <tr>\n",
       "      <th>0</th>\n",
       "      <td>premium unleaded (required),MANUAL,rear wheel drive,Factory Tuner,Luxury,High-Performance,Compact,Coupe,BMW 1 Series M</td>\n",
       "    </tr>\n",
       "    <tr>\n",
       "      <th>1</th>\n",
       "      <td>premium unleaded (required),MANUAL,rear wheel drive,Luxury,Performance,Compact,Convertible,BMW 1 Series</td>\n",
       "    </tr>\n",
       "    <tr>\n",
       "      <th>2</th>\n",
       "      <td>premium unleaded (required),MANUAL,rear wheel drive,Luxury,High-Performance,Compact,Coupe,BMW 1 Series</td>\n",
       "    </tr>\n",
       "    <tr>\n",
       "      <th>3</th>\n",
       "      <td>premium unleaded (required),MANUAL,rear wheel drive,Luxury,Performance,Compact,Coupe,BMW 1 Series</td>\n",
       "    </tr>\n",
       "    <tr>\n",
       "      <th>4</th>\n",
       "      <td>premium unleaded (required),MANUAL,rear wheel drive,Luxury,Compact,Convertible,BMW 1 Series</td>\n",
       "    </tr>\n",
       "  </tbody>\n",
       "</table>\n",
       "</div>"
      ],
      "text/plain": [
       "                                                                                                                    clean\n",
       "0  premium unleaded (required),MANUAL,rear wheel drive,Factory Tuner,Luxury,High-Performance,Compact,Coupe,BMW 1 Series M\n",
       "1                 premium unleaded (required),MANUAL,rear wheel drive,Luxury,Performance,Compact,Convertible,BMW 1 Series\n",
       "2                  premium unleaded (required),MANUAL,rear wheel drive,Luxury,High-Performance,Compact,Coupe,BMW 1 Series\n",
       "3                       premium unleaded (required),MANUAL,rear wheel drive,Luxury,Performance,Compact,Coupe,BMW 1 Series\n",
       "4                             premium unleaded (required),MANUAL,rear wheel drive,Luxury,Compact,Convertible,BMW 1 Series"
      ]
     },
     "execution_count": 13,
     "metadata": {},
     "output_type": "execute_result"
    }
   ],
   "source": [
    "# Store them in the pandas dataframe\n",
    "df_clean = pd.DataFrame({'clean': df2}) \n",
    "df_clean.head()"
   ]
  },
  {
   "cell_type": "code",
   "execution_count": 14,
   "metadata": {
    "tags": []
   },
   "outputs": [],
   "source": [
    "# Create the list of list format of the custom corpus for gensim modeling \n",
    "sent = [row.split(',') for row in df_clean['clean']]"
   ]
  },
  {
   "cell_type": "code",
   "execution_count": 15,
   "metadata": {
    "tags": []
   },
   "outputs": [
    {
     "data": {
      "text/plain": [
       "11914"
      ]
     },
     "execution_count": 15,
     "metadata": {},
     "output_type": "execute_result"
    }
   ],
   "source": [
    "len(sent)"
   ]
  },
  {
   "cell_type": "code",
   "execution_count": 16,
   "metadata": {
    "tags": []
   },
   "outputs": [
    {
     "data": {
      "text/plain": [
       "[['premium unleaded (required)',\n",
       "  'MANUAL',\n",
       "  'rear wheel drive',\n",
       "  'Factory Tuner',\n",
       "  'Luxury',\n",
       "  'High-Performance',\n",
       "  'Compact',\n",
       "  'Coupe',\n",
       "  'BMW 1 Series M'],\n",
       " ['premium unleaded (required)',\n",
       "  'MANUAL',\n",
       "  'rear wheel drive',\n",
       "  'Luxury',\n",
       "  'Performance',\n",
       "  'Compact',\n",
       "  'Convertible',\n",
       "  'BMW 1 Series']]"
      ]
     },
     "execution_count": 16,
     "metadata": {},
     "output_type": "execute_result"
    }
   ],
   "source": [
    "# show the example of list of list format of the custom corpus for gensim modeling \n",
    "sent[:2]"
   ]
  },
  {
   "cell_type": "markdown",
   "metadata": {},
   "source": [
    "#### Genism word2vec Model Training\n",
    "\n",
    "- __size__: The number of dimensions of the embeddings and the default is 100.\n",
    "- __window__: The maximum distance between a target word and words around the target word. The default window is 5.\n",
    "- __min_count__: The minimum count of words to consider when training the model; words with occurrence less than this count will be ignored. The default for min_count is 5.\n",
    "- __workers__: The number of partitions during training and the default workers is 3.\n",
    "\n",
    "- __sg__: The training algorithm, either CBOW(0) or skip gram (1). \n",
    "\n",
    "The default training alogrithm is CBOW."
   ]
  },
  {
   "cell_type": "code",
   "execution_count": 17,
   "metadata": {
    "tags": []
   },
   "outputs": [],
   "source": [
    "## Train the genisim word2vec model with our own custom corpus\n",
    "model = Word2Vec(sent, \n",
    "                 min_count = 2,\n",
    "                 vector_size=      50,\n",
    "                 workers   = 3, \n",
    "                 window    = 3, \n",
    "                 sg        = 1)"
   ]
  },
  {
   "cell_type": "code",
   "execution_count": 19,
   "metadata": {
    "tags": []
   },
   "outputs": [
    {
     "name": "stdout",
     "output_type": "stream",
     "text": [
      "['AUTOMATIC', 'regular unleaded', 'front wheel drive', 'Compact', 'Midsize', 'nan', 'rear wheel drive', 'Luxury', 'Sedan', 'MANUAL']\n"
     ]
    }
   ],
   "source": [
    "# Get the vocabulary\n",
    "vocab = model.wv.index_to_key\n",
    "\n",
    "# Print first 10 words as an example\n",
    "print(vocab[:10])"
   ]
  },
  {
   "cell_type": "code",
   "execution_count": 20,
   "metadata": {
    "tags": []
   },
   "outputs": [
    {
     "data": {
      "text/plain": [
       "936"
      ]
     },
     "execution_count": 20,
     "metadata": {},
     "output_type": "execute_result"
    }
   ],
   "source": [
    "len(vocab)"
   ]
  },
  {
   "cell_type": "code",
   "execution_count": 21,
   "metadata": {
    "tags": []
   },
   "outputs": [
    {
     "data": {
      "text/plain": [
       "array([-0.11443728,  0.1334992 ,  0.00770702,  0.00082791,  0.05860547,\n",
       "       -0.04584971, -0.0435245 ,  0.21960777, -0.01032996, -0.01677156,\n",
       "        0.09349984, -0.04748993, -0.01885843, -0.03473523,  0.03534262,\n",
       "        0.01199429,  0.11990506,  0.01819527, -0.02782521, -0.17387272,\n",
       "       -0.03394634,  0.00131194,  0.16644926,  0.03219851,  0.10352757,\n",
       "        0.00688926, -0.02091132,  0.13381971,  0.02607962, -0.00314559,\n",
       "       -0.0640417 ,  0.03661994, -0.00969608,  0.00539498, -0.05330382,\n",
       "       -0.02629333,  0.10953173,  0.00850281,  0.06331643,  0.05940827,\n",
       "        0.04957276, -0.01379175, -0.08206447,  0.04063516,  0.17337848,\n",
       "        0.02134152, -0.0412142 ,  0.00308212, -0.00636822,  0.08817437],\n",
       "      dtype=float32)"
      ]
     },
     "execution_count": 21,
     "metadata": {},
     "output_type": "execute_result"
    }
   ],
   "source": [
    "## We can obtain the word embedding directly from the training model\n",
    "model.wv['BMW Z8']"
   ]
  },
  {
   "cell_type": "markdown",
   "metadata": {},
   "source": [
    "#### Compare Similarities\n",
    "\n",
    "use Word2vec to compute similarity between two make model in the vocabulary by invoking the model.similarity() and passing in the relvevant words. \n",
    "\n",
    "For instance, model.similarity(`Porsche 718 Cayman`, `Nissan Van`) \n",
    "\n",
    "This will give us the `Euclidian similarity` between `Porsche 718 Cayman` and `Nissan Van`."
   ]
  },
  {
   "cell_type": "code",
   "execution_count": 22,
   "metadata": {
    "tags": []
   },
   "outputs": [
    {
     "data": {
      "text/plain": [
       "0.7930343"
      ]
     },
     "execution_count": 22,
     "metadata": {},
     "output_type": "execute_result"
    }
   ],
   "source": [
    "model.wv.similarity('Porsche 718 Cayman', 'Toyota Tercel')"
   ]
  },
  {
   "cell_type": "markdown",
   "metadata": {},
   "source": [
    "From the above example, we can tell that Porsche 718 Cayman is more similar with Mercedes-Benz SLK-Class than Nissan Van. \n",
    "\n"
   ]
  },
  {
   "cell_type": "code",
   "execution_count": 24,
   "metadata": {
    "tags": []
   },
   "outputs": [
    {
     "data": {
      "text/plain": [
       "0.76696205"
      ]
     },
     "execution_count": 24,
     "metadata": {},
     "output_type": "execute_result"
    }
   ],
   "source": [
    "model.wv.similarity('Hyundai Accent', 'Mercedes-Benz SLK-Class')"
   ]
  },
  {
   "cell_type": "markdown",
   "metadata": {},
   "source": [
    "#### __model.most_similar()__ "
   ]
  },
  {
   "cell_type": "code",
   "execution_count": 25,
   "metadata": {
    "tags": []
   },
   "outputs": [
    {
     "data": {
      "text/plain": [
       "[('Porsche Boxster', 0.9851690530776978),\n",
       " ('Ferrari California', 0.9848737716674805),\n",
       " ('Subaru BRZ', 0.9847809076309204),\n",
       " ('BMW M', 0.9844955801963806),\n",
       " ('Scion FR-S', 0.984492838382721)]"
      ]
     },
     "execution_count": 25,
     "metadata": {},
     "output_type": "execute_result"
    }
   ],
   "source": [
    "## Show the most similar vehicles for Mercedes-Benz SLK-Class : Default by eculidean distance \n",
    "model.wv.most_similar('Mercedes-Benz SLK-Class')[:5]"
   ]
  },
  {
   "cell_type": "code",
   "execution_count": 26,
   "metadata": {
    "tags": []
   },
   "outputs": [
    {
     "data": {
      "text/plain": [
       "[('Hyundai Sonata', 0.9861137270927429),\n",
       " ('Toyota Avalon', 0.9856813549995422),\n",
       " ('Nissan Altima', 0.9830912947654724),\n",
       " ('Nissan Sentra', 0.9830172657966614),\n",
       " ('Buick Verano', 0.9784183502197266),\n",
       " ('Chevrolet Cruze', 0.976456344127655),\n",
       " ('Volkswagen Passat', 0.9762012958526611),\n",
       " ('Ford Five Hundred', 0.9731436967849731),\n",
       " ('Chevrolet Malibu', 0.9727350473403931),\n",
       " ('Oldsmobile Alero', 0.9715654253959656)]"
      ]
     },
     "execution_count": 26,
     "metadata": {},
     "output_type": "execute_result"
    }
   ],
   "source": [
    "## Show the most similar vehicles for Toyota Camry : Default by eculidean distance \n",
    "model.wv.most_similar('Toyota Camry')[:15]"
   ]
  },
  {
   "cell_type": "markdown",
   "metadata": {},
   "source": [
    "However, `Euclidian similarity` cannot work well for the `high-dimensional word vectors`, \n",
    "\n",
    "This is because Euclidian similarity will increase the number of dimensions increases even if the word embedding stands for different meanings. \n",
    "\n",
    "Alternatively, we can use `cosine similarity` to measure the similarity between two vectors. \n",
    "\n",
    "Under cosine similarity, no similarity is expressed as a 90-degree angle while the total similarity of 1 is at 0 degree angle."
   ]
  },
  {
   "cell_type": "code",
   "execution_count": 27,
   "metadata": {
    "tags": []
   },
   "outputs": [],
   "source": [
    "def cosine_sim (model, word, target_list , num) :\n",
    "    cosine_dict = {}\n",
    "    word_list   = []\n",
    "    a           = model[word]\n",
    "    \n",
    "    for item in target_list :\n",
    "        if item != word :\n",
    "            b = model [item]\n",
    "            \n",
    "            cos_sim = dot(a, b)/(norm(a)*norm(b))\n",
    "            \n",
    "            cosine_dict[item] = cos_sim\n",
    "            \n",
    "    dist_sort=sorted(cosine_dict.items(), key=lambda dist: dist[1],reverse = True) ## in Descedning order \n",
    "    \n",
    "    for item in dist_sort:\n",
    "        word_list.append((item[0], item[1]))\n",
    "        \n",
    "    return word_list[0:num]"
   ]
  },
  {
   "cell_type": "code",
   "execution_count": 28,
   "metadata": {
    "tags": []
   },
   "outputs": [
    {
     "data": {
      "text/plain": [
       "['BMW 1 Series M',\n",
       " 'BMW 1 Series',\n",
       " 'Audi 100',\n",
       " 'FIAT 124 Spider',\n",
       " 'Mercedes-Benz 190-Class',\n",
       " 'BMW 2 Series',\n",
       " 'Audi 200',\n",
       " 'Chrysler 200',\n",
       " 'Nissan 200SX',\n",
       " 'Nissan 240SX',\n",
       " 'Volvo 240',\n",
       " 'Mazda 2',\n",
       " 'BMW 3 Series Gran Turismo',\n",
       " 'BMW 3 Series',\n",
       " 'Mercedes-Benz 300-Class']"
      ]
     },
     "execution_count": 28,
     "metadata": {},
     "output_type": "execute_result"
    }
   ],
   "source": [
    "list(df1.Maker_Model.unique())[:15]"
   ]
  },
  {
   "cell_type": "code",
   "execution_count": 37,
   "metadata": {},
   "outputs": [
    {
     "data": {
      "text/plain": [
       "[('BMW M6', 0.99418545),\n",
       " ('Nissan GT-R', 0.9940916),\n",
       " ('Aston Martin V12 Vanquish', 0.9935934),\n",
       " ('Audi S5', 0.9934372),\n",
       " ('Mercedes-Benz SLS AMG GT', 0.99321395)]"
      ]
     },
     "execution_count": 37,
     "metadata": {},
     "output_type": "execute_result"
    }
   ],
   "source": [
    "Maker_Model = list(df1.Maker_Model.unique()) ## only get the unique Maker_Model_Year\n",
    "\n",
    "## Show the most similar Mercedes-Benz SLK-Class by cosine similarity\n",
    "cosine_sim (model, 'Mercedes-Benz SLK-Class', Maker_Model, 5)"
   ]
  },
  {
   "cell_type": "code",
   "execution_count": null,
   "metadata": {},
   "outputs": [],
   "source": []
  }
 ],
 "metadata": {
  "kernelspec": {
   "display_name": "Python 3 (ipykernel)",
   "language": "python",
   "name": "python3"
  },
  "language_info": {
   "codemirror_mode": {
    "name": "ipython",
    "version": 3
   },
   "file_extension": ".py",
   "mimetype": "text/x-python",
   "name": "python",
   "nbconvert_exporter": "python",
   "pygments_lexer": "ipython3",
   "version": "3.11.5"
  },
  "vscode": {
   "interpreter": {
    "hash": "e4cce46d6be9934fbd27f9ca0432556941ea5bdf741d4f4d64c6cd7f8dfa8fba"
   }
  }
 },
 "nbformat": 4,
 "nbformat_minor": 4
}
