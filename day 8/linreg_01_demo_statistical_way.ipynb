{
 "cells": [
  {
   "cell_type": "code",
   "execution_count": 1,
   "id": "310e3a89-788d-4320-a709-8ba79ebce85e",
   "metadata": {
    "tags": []
   },
   "outputs": [],
   "source": [
    "import pandas as pd\n",
    "import numpy as np"
   ]
  },
  {
   "cell_type": "code",
   "execution_count": 2,
   "id": "00a7837a-142c-4201-8ea2-ee1697e77878",
   "metadata": {
    "tags": []
   },
   "outputs": [],
   "source": [
    "# Generate random data\n",
    "np.random.seed(0)\n",
    "X = np.random.rand(50) * 10\n",
    "y = 2 * X + 3 + np.random.randn(50) * 2"
   ]
  },
  {
   "cell_type": "code",
   "execution_count": 3,
   "id": "c15eae44-40bb-446e-90f3-e3ed2965d74d",
   "metadata": {
    "tags": []
   },
   "outputs": [],
   "source": [
    "# Create a pandas DataFrame\n",
    "data = {'X': X, 'y': y}\n",
    "df = pd.DataFrame(data)"
   ]
  },
  {
   "cell_type": "code",
   "execution_count": 4,
   "id": "795a0211-1240-4b52-a4f3-fe924611b8bf",
   "metadata": {
    "tags": []
   },
   "outputs": [],
   "source": [
    "# Calculate mean of X and y\n",
    "X_mean = df['X'].mean()\n",
    "y_mean = df['y'].mean()"
   ]
  },
  {
   "cell_type": "code",
   "execution_count": 5,
   "id": "73b294f6-ed40-42c6-9213-3605f855c149",
   "metadata": {
    "tags": []
   },
   "outputs": [],
   "source": [
    "# Calculate deviations from means\n",
    "df['X_dev'] = df['X'] - X_mean\n",
    "df['y_dev'] = df['y'] - y_mean"
   ]
  },
  {
   "cell_type": "code",
   "execution_count": 6,
   "id": "7a2cd412-7c40-4dfd-86f9-6a79b0c78df1",
   "metadata": {
    "tags": []
   },
   "outputs": [],
   "source": [
    "# Calculate deviations\n",
    "df['X_deviation'] = df['X'] - X_mean\n",
    "df['y_deviation'] = df['y'] - y_mean"
   ]
  },
  {
   "cell_type": "code",
   "execution_count": 7,
   "id": "45b3f593-a4b9-4787-bb9c-02717a7e47d0",
   "metadata": {
    "tags": []
   },
   "outputs": [],
   "source": [
    "# Calculate squared deviations\n",
    "df['X_deviation_squared'] = df['X_deviation'] ** 2"
   ]
  },
  {
   "cell_type": "code",
   "execution_count": 8,
   "id": "4127123a-cd6d-4736-831b-27a0827439df",
   "metadata": {
    "tags": []
   },
   "outputs": [],
   "source": [
    "# Calculate the sum of squared deviations\n",
    "sum_X_deviation_squared = df['X_deviation_squared'].sum()"
   ]
  },
  {
   "cell_type": "code",
   "execution_count": 9,
   "id": "ac8c2cb0-0fb9-4a2b-b5ed-6c3782709999",
   "metadata": {
    "tags": []
   },
   "outputs": [],
   "source": [
    "# Calculate the sum of product of deviations\n",
    "sum_Xy_deviation = (df['X_deviation'] * df['y_deviation']).sum()"
   ]
  },
  {
   "cell_type": "code",
   "execution_count": 10,
   "id": "0b62c683-4132-4d25-8607-e805f5cdf084",
   "metadata": {
    "tags": []
   },
   "outputs": [],
   "source": [
    "# Calculate the slope (b1)\n",
    "b1 = sum_Xy_deviation / sum_X_deviation_squared"
   ]
  },
  {
   "cell_type": "code",
   "execution_count": 11,
   "id": "2bfa980b-525c-4942-b657-748caf33a303",
   "metadata": {
    "tags": []
   },
   "outputs": [],
   "source": [
    "# Calculate the intercept (b0)\n",
    "b0 = y_mean - b1 * X_mean"
   ]
  },
  {
   "cell_type": "code",
   "execution_count": 12,
   "id": "eea32f64-7369-4a58-91d2-a0bceb28bb48",
   "metadata": {
    "tags": []
   },
   "outputs": [],
   "source": [
    "# Calculate predicted values\n",
    "df['y_pred'] = b0 + b1 * df['X']"
   ]
  },
  {
   "cell_type": "code",
   "execution_count": 13,
   "id": "326151d2-297c-4161-b068-49ea310f58fe",
   "metadata": {
    "tags": []
   },
   "outputs": [],
   "source": [
    "import matplotlib.pyplot as plt"
   ]
  },
  {
   "cell_type": "code",
   "execution_count": 14,
   "id": "7b7d40a1-1ce0-4d83-bfa0-fbdcc49da089",
   "metadata": {
    "tags": []
   },
   "outputs": [
    {
     "data": {
      "image/png": "[encoded data removed]",
      "text/plain": [
       "<Figure size 640x480 with 1 Axes>"
      ]
     },
     "metadata": {},
     "output_type": "display_data"
    }
   ],
   "source": [
    "# Plot the data and regression model\n",
    "plt.scatter(df['X'], df['y'], label='Data points')\n",
    "plt.plot(df['X'], df['y_pred'], color='red', label='Regression line')\n",
    "plt.xlabel('X')\n",
    "plt.ylabel('y')\n",
    "plt.title('Linear Regression')\n",
    "plt.legend()\n",
    "plt.show()"
   ]
  },
  {
   "cell_type": "code",
   "execution_count": 46,
   "id": "a083c9ac-b92c-4ee9-a318-594e86d75ef1",
   "metadata": {
    "tags": []
   },
   "outputs": [
    {
     "name": "stdout",
     "output_type": "stream",
     "text": [
      "Slope (b1): 1.9385465894619045\n",
      "Intercept (b0): 2.985579831739445\n"
     ]
    }
   ],
   "source": [
    "# Show the calculated slope (b1) and intercept (b0)\n",
    "print(\"Slope (b1):\", b1)\n",
    "print(\"Intercept (b0):\", b0)"
   ]
  },
  {
   "cell_type": "code",
   "execution_count": null,
   "id": "eadf02ea-9931-47b3-9c68-d75bf587ab49",
   "metadata": {},
   "outputs": [],
   "source": []
  },
  {
   "cell_type": "code",
   "execution_count": null,
   "id": "9482f631-d17f-42fb-b390-6b2e2cfc2c2a",
   "metadata": {},
   "outputs": [],
   "source": []
  }
 ],
 "metadata": {
  "kernelspec": {
   "display_name": "Python 3 (ipykernel)",
   "language": "python",
   "name": "python3"
  },
  "language_info": {
   "codemirror_mode": {
    "name": "ipython",
    "version": 3
   },
   "file_extension": ".py",
   "mimetype": "text/x-python",
   "name": "python",
   "nbconvert_exporter": "python",
   "pygments_lexer": "ipython3",
   "version": "3.9.13"
  }
 },
 "nbformat": 4,
 "nbformat_minor": 5
}
