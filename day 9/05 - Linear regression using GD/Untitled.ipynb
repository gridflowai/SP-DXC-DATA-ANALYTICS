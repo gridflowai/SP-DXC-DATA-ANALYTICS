{
 "cells": [
  {
   "cell_type": "code",
   "execution_count": 1,
   "id": "f714ccfa-8875-4188-8bb2-31d90d6b7734",
   "metadata": {
    "tags": []
   },
   "outputs": [],
   "source": [
    "import numpy as np\n",
    "import matplotlib.pyplot as plt"
   ]
  },
  {
   "cell_type": "code",
   "execution_count": 14,
   "id": "017ab74b-f839-4fe8-85bf-01226a08fc94",
   "metadata": {
    "tags": []
   },
   "outputs": [],
   "source": [
    "# 500 data points with 2 features\n",
    "X = 2 * np.random.rand(500, 2)\n",
    "# Generate float target variable (for demonstration)\n",
    "y = 4 + np.dot(X, [3., 2.]) + np.random.randn(500, 1) * 0.5"
   ]
  },
  {
   "cell_type": "code",
   "execution_count": 15,
   "id": "6e4b3295-7b21-4b3e-8867-1778c34cce4d",
   "metadata": {
    "tags": []
   },
   "outputs": [],
   "source": [
    "# Define the sigmoid activation function and its derivative\n",
    "def sigmoid(x):\n",
    "    return 1 / (1 + np.exp(-x))\n",
    "\n",
    "def sigmoid_derivative(x):\n",
    "    return x * (1 - x)"
   ]
  },
  {
   "cell_type": "markdown",
   "id": "f6063d4c-b067-478c-a9ef-c3f437693186",
   "metadata": {},
   "source": [
    "- W1 connects the input to the hidden layer and should have a shape of (input_size, hidden_size).\n",
    "- W2 connects the hidden layer to the output and should have a shape of (hidden_size, output_size)."
   ]
  },
  {
   "cell_type": "code",
   "execution_count": 23,
   "id": "f61293da-2641-439b-9ec2-da3b94813828",
   "metadata": {
    "tags": []
   },
   "outputs": [],
   "source": [
    "# Initialize weights and biases\n",
    "input_size  = 2\n",
    "hidden_size = 2\n",
    "output_size = 1\n",
    "\n",
    "W1 = np.random.uniform(size=(input_size, hidden_size))\n",
    "b1 = np.zeros((1, hidden_size))\n",
    "W2 = np.random.uniform(size=(hidden_size, output_size))\n",
    "b2 = np.zeros((1, output_size))\n"
   ]
  },
  {
   "cell_type": "code",
   "execution_count": 24,
   "id": "dcc5729d-4a67-4760-bf10-ff3d9c161279",
   "metadata": {
    "tags": []
   },
   "outputs": [],
   "source": [
    "lr = 0.01\n",
    "epochs = 10000\n",
    "errors = []"
   ]
  },
  {
   "cell_type": "code",
   "execution_count": 29,
   "id": "73d8c8af-a545-4113-9166-35862d71e11d",
   "metadata": {
    "tags": []
   },
   "outputs": [
    {
     "data": {
      "text/plain": [
       "(500, 500)"
      ]
     },
     "execution_count": 29,
     "metadata": {},
     "output_type": "execute_result"
    }
   ],
   "source": [
    "error.shape"
   ]
  },
  {
   "cell_type": "code",
   "execution_count": 25,
   "id": "ba1d2df0-5d3f-4fe1-b1d7-8cf40fbd46b5",
   "metadata": {
    "tags": []
   },
   "outputs": [
    {
     "ename": "ValueError",
     "evalue": "shapes (500,500) and (1,2) not aligned: 500 (dim 1) != 1 (dim 0)",
     "output_type": "error",
     "traceback": [
      "\u001b[1;31m---------------------------------------------------------------------------\u001b[0m",
      "\u001b[1;31mValueError\u001b[0m                                Traceback (most recent call last)",
      "Cell \u001b[1;32mIn[25], line 17\u001b[0m\n\u001b[0;32m     14\u001b[0m \u001b[38;5;66;03m# Backward Propagation\u001b[39;00m\n\u001b[0;32m     15\u001b[0m d_output \u001b[38;5;241m=\u001b[39m error \u001b[38;5;241m*\u001b[39m sigmoid_derivative(activated_output)\n\u001b[1;32m---> 17\u001b[0m error_hidden_layer \u001b[38;5;241m=\u001b[39m d_output\u001b[38;5;241m.\u001b[39mdot(W2\u001b[38;5;241m.\u001b[39mT)\n\u001b[0;32m     18\u001b[0m d_hidden_layer \u001b[38;5;241m=\u001b[39m error_hidden_layer \u001b[38;5;241m*\u001b[39m sigmoid_derivative(hidden_layer_output)\n\u001b[0;32m     20\u001b[0m \u001b[38;5;66;03m# Update Weights and Biases\u001b[39;00m\n",
      "\u001b[1;31mValueError\u001b[0m: shapes (500,500) and (1,2) not aligned: 500 (dim 1) != 1 (dim 0)"
     ]
    }
   ],
   "source": [
    "# Training (Forward + Backward Propagation)\n",
    "for epoch in range(epochs):\n",
    "    # Forward Propagation\n",
    "    hidden_layer_input  = np.dot(X, W1) + b1           # X (500, 2), W1 (2, 2) -> (500, 2)\n",
    "    hidden_layer_output = sigmoid(hidden_layer_input)  # (500, 2)\n",
    "\n",
    "    output_layer_input  = np.dot(hidden_layer_output, W2) + b2  # (500, 2).(2,1) -> (500, 1)\n",
    "    activated_output    = sigmoid(output_layer_input)           # (500, 1)\n",
    "\n",
    "    # Compute the error (Mean Squared Error loss for regression)\n",
    "    error = y - activated_output                                # (500,1) - (500,1)\n",
    "    errors.append(np.mean(np.abs(error)))                       \n",
    "\n",
    "    # Backward Propagation\n",
    "    d_output = error * sigmoid_derivative(activated_output)\n",
    "\n",
    "    error_hidden_layer = d_output.dot(W2.T)\n",
    "    d_hidden_layer = error_hidden_layer * sigmoid_derivative(hidden_layer_output)\n",
    "\n",
    "    # Update Weights and Biases\n",
    "    W2 += hidden_layer_output.T.dot(d_output) * lr\n",
    "    b2 += np.sum(d_output, axis=0, keepdims=True) * lr\n",
    "    W1 += X.T.dot(d_hidden_layer) * lr\n",
    "    b1 += np.sum(d_hidden_layer, axis=0, keepdims=True) * lr\n"
   ]
  },
  {
   "cell_type": "code",
   "execution_count": null,
   "id": "642c8978-1869-4eed-b73e-1673998b2bea",
   "metadata": {},
   "outputs": [],
   "source": []
  },
  {
   "cell_type": "code",
   "execution_count": null,
   "id": "3ef8411c-d360-487c-87fc-fd2ab1acca9f",
   "metadata": {},
   "outputs": [],
   "source": []
  }
 ],
 "metadata": {
  "kernelspec": {
   "display_name": "Python 3 (ipykernel)",
   "language": "python",
   "name": "python3"
  },
  "language_info": {
   "codemirror_mode": {
    "name": "ipython",
    "version": 3
   },
   "file_extension": ".py",
   "mimetype": "text/x-python",
   "name": "python",
   "nbconvert_exporter": "python",
   "pygments_lexer": "ipython3",
   "version": "3.11.3"
  }
 },
 "nbformat": 4,
 "nbformat_minor": 5
}
