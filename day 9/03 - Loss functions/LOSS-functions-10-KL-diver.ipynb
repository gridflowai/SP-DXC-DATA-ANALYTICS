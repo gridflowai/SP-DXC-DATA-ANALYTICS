{
 "cells": [
  {
   "cell_type": "code",
   "execution_count": 1,
   "metadata": {},
   "outputs": [],
   "source": [
    "import numpy as np\n",
    "import pandas as pd\n",
    "\n",
    "import matplotlib.pyplot as plt"
   ]
  },
  {
   "cell_type": "markdown",
   "metadata": {
    "tags": []
   },
   "source": [
    "-----------------------------------------\n",
    "#### Kullback-Leibler Divergence - KL divergence\n",
    "--------------------------------------"
   ]
  },
  {
   "cell_type": "markdown",
   "metadata": {},
   "source": [
    "- named for the two authors of the method __Solomon Kullback__ and __Richard Leibler__, and is sometimes referred to as “relative entropy.”\n",
    "\n",
    "- quantifies how much one `probability distribution` differs from another `probability distribution`.\n",
    "\n",
    "- Classically, in Bayesian theory, there is some true distribution $P(X)$; we'd like to estimate with an approximate distribution $Q(X)$. \n",
    "\n",
    "- In this context, the KL divergence measures the __distance__ from the `approximate distribution Q` to the `true distribution P`.\n",
    "\n",
    "- Mathematically, consider two probability distributions $P,Q$ on some space $ \\mathcal{X}$. The __Kullback-Leibler divergence__ from $Q$ to $P$ (written as $D_{KL}(P \\| Q)$ ))\n",
    "\n",
    "- __KL divergence__ can be calculated as \n",
    "\n",
    "    - the negative sum of probability of each event in P multiplied by the log of the probability of the event in Q over the probability of the event in P.\n",
    "    \n",
    "    \n",
    "$$\\begin{equation}\n",
    "\\large D_{KL}(P \\| Q) = \\sum p(X) \\log \\frac {p(X)} {q(X)} \n",
    "\\end{equation}$$\n",
    "    \n",
    "$$\\begin{equation}\n",
    "\\large D_{KL}(P \\| Q) = \\sum p(X) \\log [ p(X) \\div q(X) ]\n",
    "\\end{equation}$$"
   ]
  },
  {
   "cell_type": "markdown",
   "metadata": {},
   "source": [
    "#### intuition \n",
    "\n",
    "- for the KL divergence score is that \n",
    "    - when the probability for an event from P is large, but the probability for the same event in Q is small, there is a __large divergence__. \n",
    "    \n",
    "    - When the probability from P is small and the probability from Q is large, there is also a large divergence, but not as large as the first case.\n"
   ]
  },
  {
   "cell_type": "markdown",
   "metadata": {
    "tags": []
   },
   "source": [
    "#### Properties of KL Divergence\n",
    "\n",
    "- The KL Divergence is not symmetric: that is $D_{KL}(P \\| Q) \\neq D_{KL}(Q \\| P)$\n",
    "\n",
    "- The KL Divergence can take on values in $[0,\\infty]$. Particularly, if $P$ and $Q$ are the exact same distribution ($P \\stackrel{a.e.}{=} Q$ then $D_{KL}(P \\| Q) = 0$ and $D_{KL}(Q \\| P) = 0$"
   ]
  },
  {
   "cell_type": "markdown",
   "metadata": {
    "tags": []
   },
   "source": [
    "#### KL Distance\n",
    "\n",
    "- __KL divergence__ is sometimes called the __KL distance__ (or a `probabilistic distance model`), as it represents a `__distance__` between two distributions. \n",
    "\n",
    "- However, it isn’t a traditional metric (i.e. it isn’t a unit of length). \n",
    "    - Firstly, it __isn’t symmetric__ in p and q; the distance from P to Q is different from the distance from Q to P. \n",
    "        $$D_{KL}(P \\| Q) \\neq D_{KL}(Q \\| P)$$\n",
    "        \n",
    "    - it doesn’t satisfy the triangle inequality (Manning & Schütze, 1999).\n"
   ]
  },
  {
   "cell_type": "markdown",
   "metadata": {
    "tags": []
   },
   "source": [
    "#### Example 1"
   ]
  },
  {
   "cell_type": "code",
   "execution_count": 2,
   "metadata": {},
   "outputs": [],
   "source": [
    "# define distributions\n",
    "events = ['red', 'green', 'blue']\n",
    "\n",
    "p = [0.10, 0.40, 0.50]\n",
    "q = [0.80, 0.15, 0.05]"
   ]
  },
  {
   "cell_type": "code",
   "execution_count": 3,
   "metadata": {},
   "outputs": [
    {
     "name": "stdout",
     "output_type": "stream",
     "text": [
      "P=1.000 Q=1.000\n"
     ]
    }
   ],
   "source": [
    "print('P=%.3f Q=%.3f' % (sum(p), sum(q)))"
   ]
  },
  {
   "cell_type": "code",
   "execution_count": 4,
   "metadata": {},
   "outputs": [
    {
     "data": {
      "image/png": "[encoded data removed]",
      "text/plain": [
       "<Figure size 800x400 with 2 Axes>"
      ]
     },
     "metadata": {},
     "output_type": "display_data"
    }
   ],
   "source": [
    "# plot of distributions\n",
    "from matplotlib import pyplot\n",
    "pyplot.figure(figsize=(8, 4))\n",
    "\n",
    "# plot first distribution\n",
    "pyplot.subplot(1,2,1)\n",
    "pyplot.bar(events, p)\n",
    "\n",
    "# plot second distribution\n",
    "pyplot.subplot(1,2,2)\n",
    "pyplot.bar(events, q);"
   ]
  },
  {
   "cell_type": "markdown",
   "metadata": {},
   "source": [
    "the distributions are different."
   ]
  },
  {
   "cell_type": "code",
   "execution_count": 5,
   "metadata": {},
   "outputs": [],
   "source": [
    "import numpy as np"
   ]
  },
  {
   "cell_type": "code",
   "execution_count": 6,
   "metadata": {},
   "outputs": [],
   "source": [
    "# calculate the kl divergence\n",
    "def kl_divergence(p, q):\n",
    "    return sum(p[i] * np.log2(p[i]/q[i]) for i in range(len(p)))"
   ]
  },
  {
   "cell_type": "code",
   "execution_count": 7,
   "metadata": {},
   "outputs": [
    {
     "name": "stdout",
     "output_type": "stream",
     "text": [
      "KL(P || Q): 1.927 bits\n",
      "KL(Q || P): 2.022 bits\n"
     ]
    }
   ],
   "source": [
    "# calculate (P || Q)\n",
    "kl_pq = kl_divergence(p, q)\n",
    "print('KL(P || Q): %.3f bits' % kl_pq)\n",
    "\n",
    "# calculate (Q || P)\n",
    "kl_qp = kl_divergence(q, p)\n",
    "print('KL(Q || P): %.3f bits' % kl_qp)"
   ]
  },
  {
   "cell_type": "markdown",
   "metadata": {},
   "source": [
    "#### using scipy KL-divergence"
   ]
  },
  {
   "cell_type": "code",
   "execution_count": 9,
   "metadata": {},
   "outputs": [
    {
     "name": "stdout",
     "output_type": "stream",
     "text": [
      "KL(P || Q): 1.336 nats\n",
      "KL(Q || P): 1.401 nats\n"
     ]
    }
   ],
   "source": [
    "# example of calculating the kl divergence (relative entropy) with scipy\n",
    "from scipy.special import rel_entr\n",
    "\n",
    "# define distributions\n",
    "p = [0.10, 0.40, 0.50]\n",
    "q = [0.80, 0.15, 0.05]\n",
    "\n",
    "# calculate (P || Q)\n",
    "kl_pq = rel_entr(p, q)\n",
    "print('KL(P || Q): %.3f nats' % sum(kl_pq))\n",
    "\n",
    "# calculate (Q || P)\n",
    "kl_qp = rel_entr(q, p)\n",
    "print('KL(Q || P): %.3f nats' % sum(kl_qp))"
   ]
  },
  {
   "cell_type": "markdown",
   "metadata": {},
   "source": [
    "#### Example 2"
   ]
  },
  {
   "cell_type": "markdown",
   "metadata": {},
   "source": [
    "Lets say we have a bag of full of __red__ and __blue__ balls. \n",
    "\n",
    "Now, lets assume that the bag has __10 red balls and 15 blue__ balls. \n",
    "\n",
    "So that means it has $\\frac{10}{10 + 15}$ or 40% red balls and 60% blue balls. \n",
    "\n",
    "If we pulled 1 ball from this bag, there is a 40% chance, that it is a __red__ ball. \n",
    "\n",
    "Similarly, the probability of drawing a __blue__ ball is 60% or 0.6. \n",
    "\n",
    "In probability parlance, the ball we are drawing is a the random variable. \n",
    "\n",
    "Because the ball can take only limited set of colors (2 in this case), we say that it has discrete states. "
   ]
  },
  {
   "cell_type": "code",
   "execution_count": 10,
   "metadata": {},
   "outputs": [],
   "source": [
    "import numpy as np\n",
    " \n",
    "np.random.seed(8)\n",
    " \n",
    "def redball_blueball(count=1):\n",
    "\n",
    "    bag = np.random.random(count) \n",
    "    \n",
    "    # now lets convert this bag into labels\n",
    "    # a value of 0.4 or below is a red ball\n",
    "    # value above 0.4 is a blue ball\n",
    "    return ['red' if (x <= 0.4) else 'blue' for x in bag.tolist()]"
   ]
  },
  {
   "cell_type": "code",
   "execution_count": 11,
   "metadata": {},
   "outputs": [
    {
     "data": {
      "text/plain": [
       "['blue', 'blue', 'blue', 'blue', 'red', 'red', 'blue', 'blue', 'blue', 'blue']"
      ]
     },
     "execution_count": 11,
     "metadata": {},
     "output_type": "execute_result"
    }
   ],
   "source": [
    "redball_blueball(10)"
   ]
  },
  {
   "cell_type": "code",
   "execution_count": 13,
   "metadata": {},
   "outputs": [],
   "source": [
    "from collections import Counter"
   ]
  },
  {
   "cell_type": "code",
   "execution_count": 14,
   "metadata": {},
   "outputs": [
    {
     "name": "stdout",
     "output_type": "stream",
     "text": [
      "Counter({'blue': 8, 'red': 2})\n",
      "Counter({'blue': 65, 'red': 35})\n",
      "Counter({'blue': 598, 'red': 402})\n",
      "Counter({'blue': 598, 'red': 402})\n"
     ]
    }
   ],
   "source": [
    "np.random.seed(8) #reset our random number generator\n",
    " \n",
    "bag_10    = redball_blueball(10)\n",
    "bag_100   = redball_blueball(100)\n",
    "bag_1000  = redball_blueball(1000)\n",
    "bag_10000 = redball_blueball(10000)\n",
    " \n",
    "print (Counter(bag_10))\n",
    "print (Counter(bag_100))\n",
    "print (Counter(bag_1000))\n",
    "print (Counter(bag_1000))"
   ]
  },
  {
   "cell_type": "markdown",
   "metadata": {},
   "source": [
    "So, the ratio of red to blue is 20%: 80%, 35%:65%, 40.2%:59.8% and 40.63:59.37%. \n",
    "\n",
    "Larger number of balls drawn make the distribution gravitate to the desired distribution. \n",
    "\n",
    "But it is not exact. \n",
    "\n",
    "Ideally, we want to a ratio of 40%:60%. "
   ]
  },
  {
   "cell_type": "code",
   "execution_count": 17,
   "metadata": {},
   "outputs": [],
   "source": [
    "import pandas as pd\n",
    "import random"
   ]
  },
  {
   "cell_type": "code",
   "execution_count": 18,
   "metadata": {},
   "outputs": [],
   "source": [
    "def rand_bag_gen(n_times = 10):\n",
    "    \n",
    "    bag_arr = []\n",
    "    \n",
    "    for iter in range(n_times):\n",
    "        n_items_to_gen = random.randint(6, 999) \n",
    "        \n",
    "        bag = Counter(redball_blueball(n_items_to_gen))\n",
    "        \n",
    "        bag_arr.append(bag)\n",
    "        \n",
    "        df = pd.DataFrame(bag_arr)\n",
    "        \n",
    "    df['red_prob']  = df['red'] /(df['red'] + df['blue'])\n",
    "    df['blue_prob'] = df['blue']/(df['red'] + df['blue'])        \n",
    "    \n",
    "    return df"
   ]
  },
  {
   "cell_type": "code",
   "execution_count": 19,
   "metadata": {},
   "outputs": [
    {
     "data": {
      "text/html": [
       "<div>\n",
       "<style scoped>\n",
       "    .dataframe tbody tr th:only-of-type {\n",
       "        vertical-align: middle;\n",
       "    }\n",
       "\n",
       "    .dataframe tbody tr th {\n",
       "        vertical-align: top;\n",
       "    }\n",
       "\n",
       "    .dataframe thead th {\n",
       "        text-align: right;\n",
       "    }\n",
       "</style>\n",
       "<table border=\"1\" class=\"dataframe\">\n",
       "  <thead>\n",
       "    <tr style=\"text-align: right;\">\n",
       "      <th></th>\n",
       "      <th>blue</th>\n",
       "      <th>red</th>\n",
       "      <th>red_prob</th>\n",
       "      <th>blue_prob</th>\n",
       "    </tr>\n",
       "  </thead>\n",
       "  <tbody>\n",
       "    <tr>\n",
       "      <th>0</th>\n",
       "      <td>24</td>\n",
       "      <td>16</td>\n",
       "      <td>0.400000</td>\n",
       "      <td>0.600000</td>\n",
       "    </tr>\n",
       "    <tr>\n",
       "      <th>1</th>\n",
       "      <td>232</td>\n",
       "      <td>155</td>\n",
       "      <td>0.400517</td>\n",
       "      <td>0.599483</td>\n",
       "    </tr>\n",
       "    <tr>\n",
       "      <th>2</th>\n",
       "      <td>351</td>\n",
       "      <td>237</td>\n",
       "      <td>0.403061</td>\n",
       "      <td>0.596939</td>\n",
       "    </tr>\n",
       "    <tr>\n",
       "      <th>3</th>\n",
       "      <td>576</td>\n",
       "      <td>366</td>\n",
       "      <td>0.388535</td>\n",
       "      <td>0.611465</td>\n",
       "    </tr>\n",
       "    <tr>\n",
       "      <th>4</th>\n",
       "      <td>603</td>\n",
       "      <td>381</td>\n",
       "      <td>0.387195</td>\n",
       "      <td>0.612805</td>\n",
       "    </tr>\n",
       "  </tbody>\n",
       "</table>\n",
       "</div>"
      ],
      "text/plain": [
       "   blue  red  red_prob  blue_prob\n",
       "0    24   16  0.400000   0.600000\n",
       "1   232  155  0.400517   0.599483\n",
       "2   351  237  0.403061   0.596939\n",
       "3   576  366  0.388535   0.611465\n",
       "4   603  381  0.387195   0.612805"
      ]
     },
     "execution_count": 19,
     "metadata": {},
     "output_type": "execute_result"
    }
   ],
   "source": [
    "df_kl = rand_bag_gen(20)\n",
    "df_kl.head()"
   ]
  },
  {
   "cell_type": "markdown",
   "metadata": {},
   "source": [
    "#### how do we use these probability dist info?\n",
    "\n",
    "Suppose we have classification task\n",
    "- classify images into cats and not cats. \n",
    "- possibilities correspond to the __red__ ball and __blue__ ball scenario. \n",
    " \n",
    "- To judge the accuracy of effectiveness of our machine learning algorithm, you need to measure it’s predictions vs that actual number. \n",
    "- This corresponds to the numbers our random number code generates above vs the expected answer, which was 40:60. \n",
    "- In machine learning algorithms, the objective is to \n",
    "    - minimize this difference. (referred to as the loss or error). \n",
    "    - This is what __KL divergence__ provides. \n",
    "    - In the case of red/blue balls, \n",
    "        - the actual distribution is {0.4, 0.6}. \n",
    "        - candidate distributions in {.2, 0.8}, {.35, .65}, {.402, .598}, {.4063, .5937}. \n",
    "        - We want to evaluate each one of them as to how similar they are to the actual distribution. \n",
    "        - Just by looking at the values, we can say that the third pair is probably the closest, while the first one is the farthest."
   ]
  },
  {
   "cell_type": "code",
   "execution_count": 20,
   "metadata": {},
   "outputs": [],
   "source": [
    "from scipy import stats\n",
    "from scipy.special import rel_entr"
   ]
  },
  {
   "cell_type": "code",
   "execution_count": 21,
   "metadata": {},
   "outputs": [
    {
     "data": {
      "text/plain": [
       "0.09151622184943578"
      ]
     },
     "execution_count": 21,
     "metadata": {},
     "output_type": "execute_result"
    }
   ],
   "source": [
    "stats.entropy(pk=[0.2, 0.8], qk=[0.4, 0.6])"
   ]
  },
  {
   "cell_type": "code",
   "execution_count": 22,
   "metadata": {},
   "outputs": [],
   "source": [
    "def kl_div_stats_entr(est, act):\n",
    "    \n",
    "    kl = stats.entropy(pk=est, qk=act)\n",
    "\n",
    "    return kl\n",
    "\n",
    "def kl_div_rel_entr(est, act):\n",
    "    \n",
    "    kl = sum(rel_entr(est, act))\n",
    "\n",
    "    return kl\n",
    "\n",
    "# calculate the kl divergence\n",
    "def kl_divergence(p, q):\n",
    "    return sum(p[i] * np.log2(p[i]/q[i]) for i in range(len(p)))"
   ]
  },
  {
   "cell_type": "code",
   "execution_count": 63,
   "metadata": {},
   "outputs": [
    {
     "data": {
      "text/html": [
       "<div>\n",
       "<style scoped>\n",
       "    .dataframe tbody tr th:only-of-type {\n",
       "        vertical-align: middle;\n",
       "    }\n",
       "\n",
       "    .dataframe tbody tr th {\n",
       "        vertical-align: top;\n",
       "    }\n",
       "\n",
       "    .dataframe thead th {\n",
       "        text-align: right;\n",
       "    }\n",
       "</style>\n",
       "<table border=\"1\" class=\"dataframe\">\n",
       "  <thead>\n",
       "    <tr style=\"text-align: right;\">\n",
       "      <th></th>\n",
       "      <th>blue</th>\n",
       "      <th>red</th>\n",
       "      <th>red_prob</th>\n",
       "      <th>blue_prob</th>\n",
       "      <th>kl_div</th>\n",
       "      <th>kl_div_stats_entr</th>\n",
       "      <th>kl_div_rel_entr</th>\n",
       "      <th>kl_div_custom</th>\n",
       "    </tr>\n",
       "  </thead>\n",
       "  <tbody>\n",
       "    <tr>\n",
       "      <th>0</th>\n",
       "      <td>187</td>\n",
       "      <td>127</td>\n",
       "      <td>0.404459</td>\n",
       "      <td>0.595541</td>\n",
       "      <td>0.000041</td>\n",
       "      <td>0.000041</td>\n",
       "      <td>0.000041</td>\n",
       "      <td>0.000060</td>\n",
       "    </tr>\n",
       "    <tr>\n",
       "      <th>1</th>\n",
       "      <td>567</td>\n",
       "      <td>393</td>\n",
       "      <td>0.409375</td>\n",
       "      <td>0.590625</td>\n",
       "      <td>0.000183</td>\n",
       "      <td>0.000183</td>\n",
       "      <td>0.000183</td>\n",
       "      <td>0.000263</td>\n",
       "    </tr>\n",
       "    <tr>\n",
       "      <th>2</th>\n",
       "      <td>177</td>\n",
       "      <td>124</td>\n",
       "      <td>0.411960</td>\n",
       "      <td>0.588040</td>\n",
       "      <td>0.000297</td>\n",
       "      <td>0.000297</td>\n",
       "      <td>0.000297</td>\n",
       "      <td>0.000429</td>\n",
       "    </tr>\n",
       "    <tr>\n",
       "      <th>3</th>\n",
       "      <td>518</td>\n",
       "      <td>331</td>\n",
       "      <td>0.389870</td>\n",
       "      <td>0.610130</td>\n",
       "      <td>0.000214</td>\n",
       "      <td>0.000214</td>\n",
       "      <td>0.000214</td>\n",
       "      <td>0.000309</td>\n",
       "    </tr>\n",
       "    <tr>\n",
       "      <th>4</th>\n",
       "      <td>185</td>\n",
       "      <td>134</td>\n",
       "      <td>0.420063</td>\n",
       "      <td>0.579937</td>\n",
       "      <td>0.000834</td>\n",
       "      <td>0.000834</td>\n",
       "      <td>0.000834</td>\n",
       "      <td>0.001203</td>\n",
       "    </tr>\n",
       "    <tr>\n",
       "      <th>5</th>\n",
       "      <td>441</td>\n",
       "      <td>278</td>\n",
       "      <td>0.386648</td>\n",
       "      <td>0.613352</td>\n",
       "      <td>0.000373</td>\n",
       "      <td>0.000373</td>\n",
       "      <td>0.000373</td>\n",
       "      <td>0.000538</td>\n",
       "    </tr>\n",
       "    <tr>\n",
       "      <th>6</th>\n",
       "      <td>611</td>\n",
       "      <td>387</td>\n",
       "      <td>0.387776</td>\n",
       "      <td>0.612224</td>\n",
       "      <td>0.000312</td>\n",
       "      <td>0.000312</td>\n",
       "      <td>0.000312</td>\n",
       "      <td>0.000451</td>\n",
       "    </tr>\n",
       "    <tr>\n",
       "      <th>7</th>\n",
       "      <td>270</td>\n",
       "      <td>180</td>\n",
       "      <td>0.400000</td>\n",
       "      <td>0.600000</td>\n",
       "      <td>0.000000</td>\n",
       "      <td>0.000000</td>\n",
       "      <td>0.000000</td>\n",
       "      <td>0.000000</td>\n",
       "    </tr>\n",
       "    <tr>\n",
       "      <th>8</th>\n",
       "      <td>454</td>\n",
       "      <td>298</td>\n",
       "      <td>0.396277</td>\n",
       "      <td>0.603723</td>\n",
       "      <td>0.000029</td>\n",
       "      <td>0.000029</td>\n",
       "      <td>0.000029</td>\n",
       "      <td>0.000042</td>\n",
       "    </tr>\n",
       "    <tr>\n",
       "      <th>9</th>\n",
       "      <td>108</td>\n",
       "      <td>67</td>\n",
       "      <td>0.382857</td>\n",
       "      <td>0.617143</td>\n",
       "      <td>0.000615</td>\n",
       "      <td>0.000615</td>\n",
       "      <td>0.000615</td>\n",
       "      <td>0.000888</td>\n",
       "    </tr>\n",
       "    <tr>\n",
       "      <th>10</th>\n",
       "      <td>569</td>\n",
       "      <td>337</td>\n",
       "      <td>0.371965</td>\n",
       "      <td>0.628035</td>\n",
       "      <td>0.001651</td>\n",
       "      <td>0.001651</td>\n",
       "      <td>0.001651</td>\n",
       "      <td>0.002382</td>\n",
       "    </tr>\n",
       "    <tr>\n",
       "      <th>11</th>\n",
       "      <td>476</td>\n",
       "      <td>309</td>\n",
       "      <td>0.393631</td>\n",
       "      <td>0.606369</td>\n",
       "      <td>0.000085</td>\n",
       "      <td>0.000085</td>\n",
       "      <td>0.000085</td>\n",
       "      <td>0.000122</td>\n",
       "    </tr>\n",
       "    <tr>\n",
       "      <th>12</th>\n",
       "      <td>87</td>\n",
       "      <td>49</td>\n",
       "      <td>0.360294</td>\n",
       "      <td>0.639706</td>\n",
       "      <td>0.003325</td>\n",
       "      <td>0.003325</td>\n",
       "      <td>0.003325</td>\n",
       "      <td>0.004797</td>\n",
       "    </tr>\n",
       "    <tr>\n",
       "      <th>13</th>\n",
       "      <td>50</td>\n",
       "      <td>33</td>\n",
       "      <td>0.397590</td>\n",
       "      <td>0.602410</td>\n",
       "      <td>0.000012</td>\n",
       "      <td>0.000012</td>\n",
       "      <td>0.000012</td>\n",
       "      <td>0.000017</td>\n",
       "    </tr>\n",
       "    <tr>\n",
       "      <th>14</th>\n",
       "      <td>156</td>\n",
       "      <td>117</td>\n",
       "      <td>0.428571</td>\n",
       "      <td>0.571429</td>\n",
       "      <td>0.001688</td>\n",
       "      <td>0.001688</td>\n",
       "      <td>0.001688</td>\n",
       "      <td>0.002436</td>\n",
       "    </tr>\n",
       "    <tr>\n",
       "      <th>15</th>\n",
       "      <td>73</td>\n",
       "      <td>55</td>\n",
       "      <td>0.429688</td>\n",
       "      <td>0.570312</td>\n",
       "      <td>0.001822</td>\n",
       "      <td>0.001822</td>\n",
       "      <td>0.001822</td>\n",
       "      <td>0.002629</td>\n",
       "    </tr>\n",
       "    <tr>\n",
       "      <th>16</th>\n",
       "      <td>524</td>\n",
       "      <td>363</td>\n",
       "      <td>0.409245</td>\n",
       "      <td>0.590755</td>\n",
       "      <td>0.000178</td>\n",
       "      <td>0.000178</td>\n",
       "      <td>0.000178</td>\n",
       "      <td>0.000256</td>\n",
       "    </tr>\n",
       "    <tr>\n",
       "      <th>17</th>\n",
       "      <td>44</td>\n",
       "      <td>44</td>\n",
       "      <td>0.500000</td>\n",
       "      <td>0.500000</td>\n",
       "      <td>0.020411</td>\n",
       "      <td>0.020411</td>\n",
       "      <td>0.020411</td>\n",
       "      <td>0.029447</td>\n",
       "    </tr>\n",
       "    <tr>\n",
       "      <th>18</th>\n",
       "      <td>254</td>\n",
       "      <td>189</td>\n",
       "      <td>0.426637</td>\n",
       "      <td>0.573363</td>\n",
       "      <td>0.001468</td>\n",
       "      <td>0.001468</td>\n",
       "      <td>0.001468</td>\n",
       "      <td>0.002118</td>\n",
       "    </tr>\n",
       "    <tr>\n",
       "      <th>19</th>\n",
       "      <td>26</td>\n",
       "      <td>18</td>\n",
       "      <td>0.409091</td>\n",
       "      <td>0.590909</td>\n",
       "      <td>0.000172</td>\n",
       "      <td>0.000172</td>\n",
       "      <td>0.000172</td>\n",
       "      <td>0.000248</td>\n",
       "    </tr>\n",
       "  </tbody>\n",
       "</table>\n",
       "</div>"
      ],
      "text/plain": [
       "    blue  red  red_prob  blue_prob    kl_div  kl_div_stats_entr  \\\n",
       "0    187  127  0.404459   0.595541  0.000041           0.000041   \n",
       "1    567  393  0.409375   0.590625  0.000183           0.000183   \n",
       "2    177  124  0.411960   0.588040  0.000297           0.000297   \n",
       "3    518  331  0.389870   0.610130  0.000214           0.000214   \n",
       "4    185  134  0.420063   0.579937  0.000834           0.000834   \n",
       "5    441  278  0.386648   0.613352  0.000373           0.000373   \n",
       "6    611  387  0.387776   0.612224  0.000312           0.000312   \n",
       "7    270  180  0.400000   0.600000  0.000000           0.000000   \n",
       "8    454  298  0.396277   0.603723  0.000029           0.000029   \n",
       "9    108   67  0.382857   0.617143  0.000615           0.000615   \n",
       "10   569  337  0.371965   0.628035  0.001651           0.001651   \n",
       "11   476  309  0.393631   0.606369  0.000085           0.000085   \n",
       "12    87   49  0.360294   0.639706  0.003325           0.003325   \n",
       "13    50   33  0.397590   0.602410  0.000012           0.000012   \n",
       "14   156  117  0.428571   0.571429  0.001688           0.001688   \n",
       "15    73   55  0.429688   0.570312  0.001822           0.001822   \n",
       "16   524  363  0.409245   0.590755  0.000178           0.000178   \n",
       "17    44   44  0.500000   0.500000  0.020411           0.020411   \n",
       "18   254  189  0.426637   0.573363  0.001468           0.001468   \n",
       "19    26   18  0.409091   0.590909  0.000172           0.000172   \n",
       "\n",
       "    kl_div_rel_entr  kl_div_custom  \n",
       "0          0.000041       0.000060  \n",
       "1          0.000183       0.000263  \n",
       "2          0.000297       0.000429  \n",
       "3          0.000214       0.000309  \n",
       "4          0.000834       0.001203  \n",
       "5          0.000373       0.000538  \n",
       "6          0.000312       0.000451  \n",
       "7          0.000000       0.000000  \n",
       "8          0.000029       0.000042  \n",
       "9          0.000615       0.000888  \n",
       "10         0.001651       0.002382  \n",
       "11         0.000085       0.000122  \n",
       "12         0.003325       0.004797  \n",
       "13         0.000012       0.000017  \n",
       "14         0.001688       0.002436  \n",
       "15         0.001822       0.002629  \n",
       "16         0.000178       0.000256  \n",
       "17         0.020411       0.029447  \n",
       "18         0.001468       0.002118  \n",
       "19         0.000172       0.000248  "
      ]
     },
     "execution_count": 63,
     "metadata": {},
     "output_type": "execute_result"
    }
   ],
   "source": [
    "df_kl['kl_div_stats_entr'] = df_kl.apply(lambda x: kl_div_stats_entr([x['red_prob'], x['blue_prob']], [0.4, 0.6]), axis=1)\n",
    "df_kl['kl_div_rel_entr']   = df_kl.apply(lambda x: kl_div_rel_entr  ([x['red_prob'], x['blue_prob']], [0.4, 0.6]), axis=1)\n",
    "df_kl['kl_div_custom']     = df_kl.apply(lambda x: kl_divergence    ([x['red_prob'], x['blue_prob']], [0.4, 0.6]), axis=1)\n",
    "df_kl"
   ]
  },
  {
   "cell_type": "code",
   "execution_count": 23,
   "metadata": {},
   "outputs": [
    {
     "data": {
      "image/png": "[encoded data removed]",
      "text/plain": [
       "<Figure size 864x360 with 1 Axes>"
      ]
     },
     "metadata": {
      "needs_background": "light"
     },
     "output_type": "display_data"
    }
   ],
   "source": [
    "import matplotlib.pyplot as plt\n",
    "\n",
    "x_axis = np.arange(-10, 20, 0.001)\n",
    "\n",
    "# Mean = 0, SD = 2.\n",
    "dist_a = stats.norm.pdf(x_axis, 0, 2)\n",
    "\n",
    "# Mean = 1, SD = 2\n",
    "dist_b = stats.norm.pdf(x_axis, 3, 1)\n",
    "\n",
    "plt.figure(figsize=(12, 5))\n",
    "plt.plot(x_axis, dist_a)\n",
    "plt.plot(x_axis, dist_b)\n",
    "\n",
    "plt.fill_between(x_axis, dist_a, dist_b, where=dist_b>=dist_a, facecolor='green', interpolate=True)\n",
    "plt.fill_between(x_axis, dist_a, dist_b, where=dist_b<=dist_a, facecolor='blue',  interpolate=True)\n",
    "plt.grid();"
   ]
  },
  {
   "cell_type": "code",
   "execution_count": 82,
   "metadata": {},
   "outputs": [
    {
     "data": {
      "text/plain": [
       "(7656.139132987218, 2082.02128066789)"
      ]
     },
     "execution_count": 82,
     "metadata": {},
     "output_type": "execute_result"
    }
   ],
   "source": [
    "kl_divergence(dist_a, dist_b), kl_divergence(dist_b, dist_a)"
   ]
  },
  {
   "cell_type": "markdown",
   "metadata": {},
   "source": [
    "## Forward and Reverse KL\n",
    "- Scenario\n",
    "- There is some true distribution $P(X)$ that we're trying to estimate with our approximate distribution $Q_θ(X)$\n",
    "- $Q$ is the distribution that we get to control.\n",
    "\n",
    "- the KL divergence is not a symmetric measure (i.e. that $D_{KL}(P \\| Q) \\neq D_{KL}(Q \\| P)$\n",
    "- we have a choice between 2 potential objectives to optimize.\n",
    "\n",
    "    - Minimizing the __forward KL__ : $\\arg\\min_{\\theta} D_{KL}(P\\|Q_\\theta)$\n",
    "    - Minimizing the __reverse KL__ : $\\arg\\min_{\\theta} D_{KL}(Q_\\theta\\|P)$\n",
    "\n",
    "As it turns out, the two different objectives actually cause different types of approximations. \n",
    "\n",
    "We'll investigate in the following setting: $P(X)$ is the bimodal distribution below. We'll try to approximate this with a normal distribution $Q(X) = \\mathcal{N}(\\mu, \\sigma^2)$"
   ]
  },
  {
   "cell_type": "code",
   "execution_count": 83,
   "metadata": {},
   "outputs": [],
   "source": [
    "from IPython.display import Image"
   ]
  },
  {
   "cell_type": "code",
   "execution_count": 85,
   "metadata": {},
   "outputs": [
    {
     "data": {
      "image/png": "[encoded data removed]",
      "text/plain": [
       "<IPython.core.display.Image object>"
      ]
     },
     "execution_count": 85,
     "metadata": {
      "image/png": {
       "width": 600
      }
     },
     "output_type": "execute_result"
    }
   ],
   "source": [
    "Image(r'D:\\MYLEARN\\2-ANALYTICS-DataScience\\icons-images\\kl-00.png', width=600)"
   ]
  },
  {
   "cell_type": "markdown",
   "metadata": {},
   "source": [
    "#### Forward KL: Mean-Seeking Behaviour\n",
    "Let's consider optimizing the forward KL objective with respect to\n",
    "\n",
    "$$\\begin{align*}\n",
    "\\arg\\min_{\\theta}D_{KL}(P \\| Q) &= \\arg\\min_{\\theta} \\mathbb{E}_{x \\sim P}[-\\log Q_\\theta(X)] - \\mathcal{H}(P(X))\\\\\n",
    "&= \\arg\\min_{\\theta} \\mathbb{E}_{x \\sim P}[-\\log Q_\\theta(X)]\\\\\n",
    "&= \\arg\\max_{\\theta} \\mathbb{E}_{x \\sim P}[\\log Q_\\theta(X)]\n",
    "\\end{align*}$$"
   ]
  },
  {
   "cell_type": "code",
   "execution_count": null,
   "metadata": {},
   "outputs": [],
   "source": []
  }
 ],
 "metadata": {
  "kernelspec": {
   "display_name": "Python 3 (ipykernel)",
   "language": "python",
   "name": "python3"
  },
  "language_info": {
   "codemirror_mode": {
    "name": "ipython",
    "version": 3
   },
   "file_extension": ".py",
   "mimetype": "text/x-python",
   "name": "python",
   "nbconvert_exporter": "python",
   "pygments_lexer": "ipython3",
   "version": "3.9.13"
  }
 },
 "nbformat": 4,
 "nbformat_minor": 4
}
